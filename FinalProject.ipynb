{
 "cells": [
  {
   "cell_type": "markdown",
   "metadata": {
    "colab_type": "text",
    "id": "view-in-github"
   },
   "source": [
    "<a href=\"https://colab.research.google.com/github/johnny-tran/COGS108_repo/blob/master/FinalProject.ipynb\" target=\"_parent\"><img src=\"https://colab.research.google.com/assets/colab-badge.svg\" alt=\"Open In Colab\"/></a>"
   ]
  },
  {
   "cell_type": "markdown",
   "metadata": {
    "colab_type": "text",
    "id": "hVhwl3AXn178"
   },
   "source": [
    "# COGS 108 - Final Project"
   ]
  },
  {
   "cell_type": "markdown",
   "metadata": {
    "colab_type": "text",
    "id": "oP0Owgrsn18K"
   },
   "source": [
    "## Important\n",
    "\n",
    "- ONE, and only one, member of your group should upload this notebook to TritonED. \n",
    "- Each member of the group will receive the same grade on this assignment. \n",
    "- Keep the file name the same: submit the file 'FinalProject.ipynb'.\n",
    "- Only upload the .ipynb file to TED, do not upload any associted data. Make sure that for cells in which you want graders to see output that these cells have been executed."
   ]
  },
  {
   "cell_type": "markdown",
   "metadata": {
    "colab_type": "text",
    "id": "ZU7JBgGSn18R"
   },
   "source": [
    "## Group Members: Fill in the Student IDs of each group member here\n",
    "\n",
    "Replace the lines below to list each persons full student ID, ucsd email and full name.\n",
    "\n",
    "- A11888496 - L4truong@ucsd.edu - Loc Truong\n",
    "- A15352670 - t8wei@ucsd.edu - Timothy Wei\n",
    "- A14732783 - jpt017@ucsd.edu - Jonathan Tran\n",
    "- A11962666 - nnowain@ucsd.edu - Nathan Nowain\n",
    "- A14493674 - cvshanno@ucsd.edu - Collin Shannon\n",
    "\n"
   ]
  },
  {
   "cell_type": "markdown",
   "metadata": {
    "colab_type": "text",
    "id": "87QllbYgn18h"
   },
   "source": [
    "# Introduction and Background"
   ]
  },
  {
   "cell_type": "markdown",
   "metadata": {
    "colab_type": "text",
    "id": "VPQnE-eZtY8m"
   },
   "source": [
    "## Research Question\n",
    "\n",
    "> Are there any correlations to make/color/body type to violation types?\n",
    "How does visual appearance affect the likelihood of receiving a parking violation? Do certain makes/models or colors receive more tickets than expected?\n",
    "\n",
    "\n",
    "## Hypothesis\n",
    "\n",
    "> We predict that loud colors & higher end models have a higher chance of receiving violations.\n",
    "We hypothesize that visual appearance does affect the likelihood of receiving a parking violation. We expect that parking officials are more likely to notice cars that have loud colors and higher end models and thus more likely to give them a ticket.\n",
    "\n",
    "\n",
    "## Background\n",
    "\n",
    "> We believe that there are biases that are imposed from humans as they do their job, such as parking enforcement. There is a typically well known statement that cops and parking enforcement have to meet quotas monthly to keep them on goal as they do their job. Besides this commonly heard phenomena, is there also a possible data to show that some cars also get more tickets than others? With further research we found there are many articles online which sum up reasons why one might be more likely to get a ticket; and some of their data show that certain vehicle makes and models, more notably the expensive and luxurious make and models, receive more speeding tickets [1]. There is also a well known statistic that red colored cars get pulled over more than others, which is most likely related to its high visibility over other colored cars [2].\n",
    "\n",
    "> With this in mind, we supposed there can be a possible correlation to be found. As we hypothesized, we believe that cars of certain visible attributes like color or make can possibly increase their likelihood of receiving a ticket in comparison to other vehicles which may not attract as much attention. We believe this is important because we want to see if there are possible implicit biases in how parking enforcement gives out violations. This data could help better inform people before choosing a car to buy, if they care or to just find an interesting relationship to human cognition and how perception alters thinking.\n",
    "  \n",
    "> ### References\n",
    "\n",
    ">> 1) https://www.more.com/lifestyle/6-things-almost-guarantee-speeding-ticket\n",
    "\n",
    ">> 2) http://www.brettrics.com/9-million-parking-tickets-la/\n"
   ]
  },
  {
   "cell_type": "markdown",
   "metadata": {
    "colab_type": "text",
    "id": "h6xT0cVupz-b"
   },
   "source": [
    "# Data Description\n",
    "\n",
    "Dataset Name: Los Angeles Parking Citations\n",
    "\n",
    ">The dataset consists of 19 variables based on the information on the ticket slip. This includes ticket date, issue time, meter id, make, body style, color, location, route, agency, violation code, violation description, fine amount, and location data.\n",
    "\n",
    "> Link to the dataset: https://data.lacity.org/A-Well-Run-City/Parking-Citations/wjz9-h9np\n",
    "\n",
    "> Kaggle link: https://www.kaggle.com/cityofLA/los-angeles-parking-citations"
   ]
  },
  {
   "cell_type": "markdown",
   "metadata": {
    "colab_type": "text",
    "id": "cx_t_OOpp59H"
   },
   "source": [
    "# Data Cleaning / Pre Processing"
   ]
  },
  {
   "cell_type": "markdown",
   "metadata": {},
   "source": [
    "**Before we begin manipulating the data, we import necessary libraries.**"
   ]
  },
  {
   "cell_type": "code",
   "execution_count": 2,
   "metadata": {
    "colab": {
     "base_uri": "https://localhost:8080/",
     "height": 71
    },
    "colab_type": "code",
    "id": "A-6xETgjqfMg",
    "outputId": "e424f616-ec45-41b9-b0cd-e9bf5879906d"
   },
   "outputs": [
    {
     "ename": "ModuleNotFoundError",
     "evalue": "No module named 'tabula'",
     "output_type": "error",
     "traceback": [
      "\u001b[1;31m---------------------------------------------------------------------------\u001b[0m",
      "\u001b[1;31mModuleNotFoundError\u001b[0m                       Traceback (most recent call last)",
      "\u001b[1;32m<ipython-input-2-44753f3ec5be>\u001b[0m in \u001b[0;36m<module>\u001b[1;34m\u001b[0m\n\u001b[0;32m     14\u001b[0m \u001b[1;33m\u001b[0m\u001b[0m\n\u001b[0;32m     15\u001b[0m \u001b[1;31m# read PDF via tabula\u001b[0m\u001b[1;33m\u001b[0m\u001b[1;33m\u001b[0m\u001b[1;33m\u001b[0m\u001b[0m\n\u001b[1;32m---> 16\u001b[1;33m \u001b[1;32mimport\u001b[0m \u001b[0mtabula\u001b[0m\u001b[1;33m\u001b[0m\u001b[1;33m\u001b[0m\u001b[0m\n\u001b[0m\u001b[0;32m     17\u001b[0m \u001b[0mget_ipython\u001b[0m\u001b[1;33m(\u001b[0m\u001b[1;33m)\u001b[0m\u001b[1;33m.\u001b[0m\u001b[0msystem\u001b[0m\u001b[1;33m(\u001b[0m\u001b[1;34m'pip install tabula-py'\u001b[0m\u001b[1;33m)\u001b[0m\u001b[1;33m\u001b[0m\u001b[1;33m\u001b[0m\u001b[0m\n",
      "\u001b[1;31mModuleNotFoundError\u001b[0m: No module named 'tabula'"
     ]
    }
   ],
   "source": [
    "# Imports\n",
    "%matplotlib inline\n",
    "\n",
    "import numpy as np\n",
    "import pandas as pd\n",
    "import io\n",
    "import requests\n",
    "import matplotlib.pyplot as plt\n",
    "\n",
    "import patsy\n",
    "import statsmodels.api as sm\n",
    "import scipy.stats as stats\n",
    "from scipy.stats import ttest_ind, chisquare, normaltest\n",
    "\n",
    "# read PDF via tabula\n",
    "import tabula\n",
    "!pip install tabula-py"
   ]
  },
  {
   "cell_type": "markdown",
   "metadata": {},
   "source": [
    "**The main goal of our project is to determine any possible correlations between parking citations and vehicles. Here, we import our dataset from Los Angeles Parking Citations as a dataframe and we name it PC_df.**"
   ]
  },
  {
   "cell_type": "code",
   "execution_count": null,
   "metadata": {
    "colab": {
     "base_uri": "https://localhost:8080/",
     "height": 343
    },
    "colab_type": "code",
    "id": "b4M-BssTrDia",
    "outputId": "0febb5f1-d91d-4a9d-a844-1a1a9e185202"
   },
   "outputs": [],
   "source": [
    "# read parking citations(PC) file\n",
    "PC_df = pd.read_csv('parking-citations.csv')\n",
    "PC_df.head()\n"
   ]
  },
  {
   "cell_type": "markdown",
   "metadata": {},
   "source": [
    "**We also import and interpret the agency codes found in PC_df into a dataframe called AC_df. Because the agency code dataset is a pdf, we utilize the imported tabula tool.**"
   ]
  },
  {
   "cell_type": "code",
   "execution_count": null,
   "metadata": {},
   "outputs": [],
   "source": [
    "# read agency codes(AC) file\n",
    "from tabula import read_pdf\n",
    "AC_df = read_pdf('LADOT-Xerox Crib Sheet Agency Codes 12-31-2015.pdf')\n",
    "\n",
    "# set header to top row\n",
    "new_header = AC_df.iloc[0]\n",
    "AC_df = AC_df[1:]\n",
    "AC_df.columns = new_header\n",
    "\n",
    "# print head to check\n",
    "AC_df.head()\n"
   ]
  },
  {
   "cell_type": "markdown",
   "metadata": {},
   "source": [
    "**The main goal for our project is to analyze correlations between vehicle color, make, and parking citations given. We clean up our data by removing unnecessary columns and by dropping any rows with missing data.**"
   ]
  },
  {
   "cell_type": "code",
   "execution_count": null,
   "metadata": {
    "colab": {
     "base_uri": "https://localhost:8080/",
     "height": 204
    },
    "colab_type": "code",
    "id": "MHGP5yaY1U0g",
    "outputId": "e37907aa-efc6-4b41-a707-98d1029402dc"
   },
   "outputs": [],
   "source": [
    "# remove unnecessary columns\n",
    "PC_df = PC_df.drop(['Ticket number', 'Issue Date', 'Issue time', 'Meter Id', 'Marked Time', 'RP State Plate', 'Plate Expiry Date', 'VIN', 'Location', 'Route', 'Fine amount', 'Latitude', 'Longitude'], axis=1)\n",
    "\n",
    "#drop rows with nan\n",
    "PC_df = PC_df.dropna(axis=0)\n",
    "\n",
    "PC_df.head()\n"
   ]
  },
  {
   "cell_type": "markdown",
   "metadata": {},
   "source": [
    "**We will then extract all the unique agencies in PC_df and count them.**"
   ]
  },
  {
   "cell_type": "code",
   "execution_count": null,
   "metadata": {
    "colab": {
     "base_uri": "https://localhost:8080/",
     "height": 456
    },
    "colab_type": "code",
    "id": "nZyYsDZBzrNE",
    "outputId": "77cbd2be-0548-4f0d-b6e8-7f4d99af2340",
    "scrolled": true
   },
   "outputs": [],
   "source": [
    "# find \n",
    "\n",
    "unique_agency_count = PC_df['Agency'].unique()\n",
    "agency_count = unique_agency_count.size\n",
    "\n",
    "print(\"We are looking at citations from \", agency_count,\n",
    "      \" different agencies in LA.\")\n",
    "\n",
    "#agency_01 = PC_df[PC_df['Agency'] == 1.0]\n",
    "#agency_02 = PC_df[PC_df['Agency'] == 2.0]\n",
    "#agency_03 = PC_df[PC_df['Agency'] == 3.0]\n",
    "#agency_04 = PC_df[PC_df['Agency'] == 4.0]\n",
    "#agency_05 = PC_df[PC_df['Agency'] == 5.0]\n",
    "#agency_06 = PC_df[PC_df['Agency'] == 6.0]\n",
    "#agency_07 = PC_df[PC_df['Agency'] == 7.0]\n",
    "#agency_08 = PC_df[PC_df['Agency'] == 8.0]\n",
    "#agency_09 = PC_df[PC_df['Agency'] == 9.0]\n",
    "#agency_10 = PC_df[PC_df['Agency'] == 10.0]\n"
   ]
  },
  {
   "cell_type": "markdown",
   "metadata": {
    "colab_type": "text",
    "id": "MMpjkdjQ2JvJ"
   },
   "source": [
    "GY = grey | GR = gray\n",
    "WH = white | WT = white\n",
    "BK = black\n",
    "BL = blue | BE = blue | CO = cobalt\n",
    "BR = brown\n",
    "SI = silver | SL = silver\n",
    "GO = gold\n",
    "\n",
    "RE = red | RD = red | BU = burgundy | BG = burgundy | MA = magenta\n",
    "MR = maroon\n",
    "\n",
    "TA = tan | TN = tan\n",
    "\n",
    "YE = yellow\n",
    "OR = orange | OT = orange\n",
    "BN = brown\n",
    "GN = green\n",
    "PK = pink | PI = pink \n",
    "TU = turqoise | TE = teal\n",
    "\n",
    "PL = purple | PE = purple\n",
    "PR = purple | PU = purple\n",
    "\n",
    "\n",
    "UN = UNKNOWN???\n",
    "RU = ???\n",
    "CR = ???\n",
    "SN = ???\n",
    "BZ = ???\n",
    "ME = ???\n",
    "CH = ???\n",
    "LI = ???\n",
    "MU = ???"
   ]
  },
  {
   "cell_type": "markdown",
   "metadata": {
    "colab_type": "text",
    "id": "G3257UGjp-sB"
   },
   "source": [
    "# Data Visualization"
   ]
  },
  {
   "cell_type": "markdown",
   "metadata": {},
   "source": [
    "## Ideas\n",
    "\n",
    "> ### Graphs:\n",
    "\n",
    "> Color vs. # of tix\n",
    "\n",
    "> Model vs. # of tix\n",
    "\n",
    "> Color + model vs. # of tix\n",
    "\n",
    "> Color vs. type of tix\n",
    "\n",
    ">Model vs. type of tix\n",
    "\n",
    ">Color + model vs. type of tix"
   ]
  },
  {
   "cell_type": "markdown",
   "metadata": {},
   "source": [
    "**Because various agencies may indicate vehicle color differently, we create a function called standardize_color to standardize the various colors into more general terms.**"
   ]
  },
  {
   "cell_type": "code",
   "execution_count": null,
   "metadata": {},
   "outputs": [],
   "source": [
    "#standardize colors function\n",
    "def standardize_color(string):\n",
    "    \n",
    "    if \"GY\" in string:\n",
    "        output = \"GRAY\"\n",
    "    elif \"GR\" in string:\n",
    "        output = \"GRAY\"\n",
    "    elif \"WH\" in string:\n",
    "        output = \"WHITE\"\n",
    "    elif \"WT\" in string:\n",
    "        output = \"WHITE\"\n",
    "    elif \"BK\" in string:\n",
    "        output = \"BLACK\"\n",
    "    elif \"BL\" in string:\n",
    "        output = \"BLUE\"\n",
    "    elif \"BE\" in string:\n",
    "        output = \"BLUE\"\n",
    "    elif \"CO\" in string:\n",
    "        output = \"BLUE\"\n",
    "    elif \"BR\" in string:\n",
    "        output = \"BROWN\"\n",
    "    elif \"SI\" in string:\n",
    "        output = \"SILVER\"\n",
    "    elif \"SL\" in string:\n",
    "        output = \"SILVER\"\n",
    "    elif \"GO\" in string:\n",
    "        output = \"GOLD\"\n",
    "    elif \"RE\" in string:\n",
    "        output = \"RED\"\n",
    "    elif \"RD\" in string:\n",
    "        output = \"RED\"\n",
    "    elif \"BU\" in string:\n",
    "        output = \"RED\"\n",
    "    elif \"BG\" in string:\n",
    "        output = \"RED\"\n",
    "    elif \"ME\" in string:\n",
    "        output = \"RED\"\n",
    "    elif \"MR\" in string:\n",
    "        output = \"RED\"\n",
    "    elif \"MA\" in string:\n",
    "        output = \"RED\"\n",
    "    elif \"TA\" in string:\n",
    "        output = \"TAN\"\n",
    "    elif \"TN\" in string:\n",
    "        output = \"TAN\"\n",
    "    elif \"YE\" in string:\n",
    "        output = \"YELLOW\"\n",
    "    elif \"RD\" in string:\n",
    "        output = \"RED\"\n",
    "    elif \"OR\" in string:\n",
    "        output = \"ORANGE\"\n",
    "    elif \"OT\" in string:\n",
    "        output = \"ORANGE\"\n",
    "    elif \"BN\" in string:\n",
    "        output = \"BROWN\"\n",
    "    elif \"GN\" in string:\n",
    "        output = \"GREEN\"\n",
    "    elif \"PR\" in string:\n",
    "        output = \"PURPLE\"\n",
    "    elif \"PU\" in string:\n",
    "        output = \"PURPLE\"\n",
    "    elif \"PL\" in string:\n",
    "        output = \"PURPLE\"\n",
    "    elif \"PE\" in string:\n",
    "        output = \"PURPLE\"\n",
    "    elif \"TU\" in string:\n",
    "        output = \"BLUE\"\n",
    "    elif \"TE\" in string:\n",
    "        output = \"BLUE\"\n",
    "    elif \"TE\" in string:\n",
    "        output = \"BLUE\"\n",
    "    elif \"TE\" in string:\n",
    "        output = \"BLUE\"\n",
    "    elif \"GL\" in string:\n",
    "        output = \"GOLD\"\n",
    "    elif \"YL\" in string:\n",
    "        output = \"YELLOW\"\n",
    "    elif \"MU\" in string:\n",
    "        output = \"YELLOW\"\n",
    "    elif \"AQ\" in string:\n",
    "        output = \"BLUE\"\n",
    "    elif \"W\" in string:\n",
    "        output = \"WHITE\"\n",
    "    elif \"SA\" in string:\n",
    "        output = \"TAN\"\n",
    "    elif \"WI\" in string:\n",
    "        output = \"WHITE\"\n",
    "    elif \"TE\" in string:\n",
    "        output = \"BLUE\"\n",
    "    #otherwise, keep as is\n",
    "    else:\n",
    "        output = \"OTHER\"\n",
    "    \n",
    "    return output"
   ]
  },
  {
   "cell_type": "markdown",
   "metadata": {},
   "source": [
    "**We then apply standardize_color to our dataframe, PC_df, and verify that all the colors indicated have transformed.**"
   ]
  },
  {
   "cell_type": "code",
   "execution_count": null,
   "metadata": {},
   "outputs": [],
   "source": [
    "# apply standardize_color function\n",
    "PC_df['Color'] = PC_df['Color'].apply(standardize_color)\n",
    "PC_df.head()"
   ]
  },
  {
   "cell_type": "markdown",
   "metadata": {},
   "source": [
    "**To visualize what we are working with so far, we count the number of values per color and place it on a bar and pie graph.**"
   ]
  },
  {
   "cell_type": "code",
   "execution_count": null,
   "metadata": {},
   "outputs": [],
   "source": [
    "color = PC_df['Color']\n",
    "color_count = color.value_counts()\n",
    "\n",
    "print(color_count)\n",
    "\n",
    "color_count.plot(kind='bar')"
   ]
  },
  {
   "cell_type": "code",
   "execution_count": null,
   "metadata": {},
   "outputs": [],
   "source": [
    "color_count[:13].plot.pie(shadow=True, startangle=0, radius=2.5, autopct='%1.1f%%')\n",
    "\n",
    "plt.title('Vehicle Colors from Parking Citations')\n",
    "labels = 'White', 'Black', 'Gray', 'Silver', 'Blue', 'Red', 'Green', 'Brown', 'Gold', 'Orange', 'Tan', 'Yellow', 'Purple', 'Other'\n",
    "plt.legend(labels,loc=3)"
   ]
  },
  {
   "cell_type": "markdown",
   "metadata": {},
   "source": [
    "# We may have to change tickets to the df we were using throughout the file\n",
    "\n"
   ]
  },
  {
   "cell_type": "code",
   "execution_count": null,
   "metadata": {},
   "outputs": [],
   "source": [
    "Tickets = pd.read_csv(\"parking-citations.csv\")"
   ]
  },
  {
   "cell_type": "markdown",
   "metadata": {},
   "source": [
    "#### Function that Standardizes the Models in Tickets"
   ]
  },
  {
   "cell_type": "code",
   "execution_count": null,
   "metadata": {},
   "outputs": [],
   "source": [
    "# Tries to Standardize Models. Some four letter codes\n",
    "# we couldn't figure out and left them as is. NaN values\n",
    "# are changed to other\n",
    "def standardize_Model(string):\n",
    "    \n",
    "    if (pd.isnull(string)):\n",
    "        string = \"OTHER\"\n",
    "\n",
    "    if \"HOND\" in string:\n",
    "        output = \"HONDA\"\n",
    "    elif \"VN\" in string:\n",
    "        output = \"VANTAGE\"\n",
    "    elif \"KW\" in string:\n",
    "        output = \"KENWORTH\"\n",
    "    elif \"HD\" in string:\n",
    "        output = \"HARLEY DAVIDSON\"\n",
    "    elif \"VW\" in string:\n",
    "        output = \"VOLKSWAGEN\"\n",
    "    elif \"LR\" in string:\n",
    "        output = \"LAND ROVER\"\n",
    "    elif \"MB\" in string:\n",
    "        output = \"MERCEDES-BENZ\"\n",
    "    elif \"HON\" in string:\n",
    "        output = \"HONDA\"\n",
    "    elif \"SAA\" in string:\n",
    "        output = \"SAAB\"\n",
    "    elif \"ROL\" in string:\n",
    "        output = \"ROLLS-ROYCE\"\n",
    "    elif \"AUD\" in string:\n",
    "        output = \"AUDI\"\n",
    "    elif \"HNO\" in string:\n",
    "        output = \"HINO\"\n",
    "    elif \"INF\" in string:\n",
    "        output = \"INFINITI\"\n",
    "    elif \"MEZ\" in string:\n",
    "        output = \"MERCEDES-BENZ\"\n",
    "    elif \"LXS\" in string:\n",
    "        output = \"LEXUS\"\n",
    "    elif \"MRZ\" in string:\n",
    "        output = \"MERCEDES-BENZ\"\n",
    "    elif \"MZD\" in string:\n",
    "        output = \"MAZDA\"\n",
    "    elif \"ISU\" in string:\n",
    "        output = \"ISUZU\"\n",
    "    elif \"MIT\" in string:\n",
    "        output = \"MIT\"\n",
    "    elif \"LEX\" in string:\n",
    "        output = \"LEXUS\"\n",
    "    elif \"JAG\" in string:\n",
    "        output = \"JAGUAR\"\n",
    "    elif \"HYD\" in string:\n",
    "        output = \"HYUNDAI\"\n",
    "    elif \"HYN\" in string:\n",
    "        output = \"HYUNDAI\"\n",
    "    elif \"HYU\" in string:\n",
    "        output = \"HYUNDAI\"\n",
    "    elif \"ACU\" in string:\n",
    "        output = \"ACURA\"\n",
    "    elif \"BNZ\" in string:\n",
    "        output = \"MERCEDES-BENZ\"\n",
    "    elif \"BMV\" in string:\n",
    "        output = \"BMW\"\n",
    "    elif \"MBZ\" in string:\n",
    "        output = \"MERCEDES-BENZ\"\n",
    "    elif \"SUB\" in string:\n",
    "        output = \"SUBARU\"\n",
    "    elif \"SAT\" in string:\n",
    "        output = \"SATURN\"\n",
    "    elif \"HYDA\" in string:\n",
    "        output = \"HYUNDAI\"\n",
    "    elif \"INFN\" in string:\n",
    "        output = \"INFINITI\"\n",
    "    elif \"ODYS\" in string:\n",
    "        output = \"HONDA\"\n",
    "    elif \"MBEZ\" in string:\n",
    "        output = \"MERCEDES-BENZ\"\n",
    "    elif \"MAZA\" in string:\n",
    "        output = \"MAZDA\"\n",
    "    elif \"HNDY\" in string:\n",
    "        output = \"HYUNDAI\"\n",
    "    elif \"MERB\" in string:\n",
    "        output = \"MERCEDES-BENZ\"\n",
    "    elif \"INFT\" in string:\n",
    "        output = \"INFINITI\"\n",
    "    elif \"LEXI\" in string:\n",
    "        output = \"LEXUS\"\n",
    "    elif \"HUMR\" in string:\n",
    "        output = \"HUMMER\"\n",
    "    elif \"LNRV\" in string:\n",
    "        output = \"LAND ROVER\"\n",
    "    elif \"ACCU\" in string:\n",
    "        output = \"ACURA\"\n",
    "    elif \"HYUD\" in string:\n",
    "        output = \"HYUD\"\n",
    "    elif \"MAZE\" in string:\n",
    "        output = \"MASERATI\"\n",
    "    elif \"JAGA\" in string:\n",
    "        output = \"JAGUAR\"\n",
    "    elif \"RNGR\" in string:\n",
    "        output = \"LAND ROVER\"\n",
    "    elif \"MERS\" in string:\n",
    "        output = \"MERCEDES-BENZ\"\n",
    "    elif \"MADZ\" in string:\n",
    "        output = \"MAZDA\"\n",
    "    elif \"HYDI\" in string:\n",
    "        output = \"HYUNDAI\"\n",
    "    elif \"LXUS\" in string:\n",
    "        output = \"LEXUS\"\n",
    "    elif \"ACRA\" in string:\n",
    "        output = \"ACURA\"\n",
    "    elif \"MZDA\" in string:\n",
    "        output = \"MAZDA\"\n",
    "    elif \"RRVR\" in string:\n",
    "        output = \"LAND ROVER\"\n",
    "    elif \"SATN\" in string:\n",
    "        output = \"SATURN\"\n",
    "    elif \"TSLA\" in string:\n",
    "        output = \"TESLA\"\n",
    "    elif \"HUYN\" in string:\n",
    "        output = \"HYUNDAI\"\n",
    "    elif \"SATR\" in string:\n",
    "        output = \"SATURN\"\n",
    "    elif \"FRTL\" in string:\n",
    "        output = \"FREIGHTLINER\"\n",
    "    elif \"HUND\" in string:\n",
    "        output = \"HYUNDAI\"\n",
    "    elif \"ROVE\" in string:\n",
    "        output = \"LAND ROVER\"\n",
    "    elif \"LRVR\" in string:\n",
    "        output = \"LAND ROVER\"\n",
    "    elif \"WHIT\" in string:\n",
    "        output = \"WHITE\"\n",
    "    elif \"MITZ\" in string:\n",
    "        output = \"MITSUBISHI\"\n",
    "    elif \"SMAR\" in string:\n",
    "        output = \"SMART\"\n",
    "    elif \"HYND\" in string:\n",
    "        output = \"HYUNDAI\"\n",
    "    elif \"LAND\" in string:\n",
    "        output = \"LAND ROVER\"\n",
    "    elif \"SUZU\" in string:\n",
    "        output = \"SUZUKI\"\n",
    "    elif \"LROV\" in string:\n",
    "        output = \"LAND ROVER\"\n",
    "    elif \"TSMR\" in string:\n",
    "        output = \"TESLA\"\n",
    "    elif \"ALFA\" in string:\n",
    "        output = \"ALFA ROMEO\"\n",
    "    elif \"MENZ\" in string:\n",
    "        output = \"MERCEDES-BENZ\"\n",
    "    elif \"COOP\" in string:\n",
    "        output = \"MINI\"\n",
    "    elif \"RANG\" in string:\n",
    "        output = \"LAND ROVER\"\n",
    "    elif \"SABU\" in string:\n",
    "        output = \"SUBARU\"\n",
    "    elif \"HARL\" in string:\n",
    "        output = \"HARLEY-DAVIDSON\"\n",
    "    elif \"STLG\" in string:\n",
    "        output = \"STERLING\"\n",
    "    elif \"ASTO\" in string:\n",
    "        output = \"ASTON MARTIN\"\n",
    "    elif \"BENT\" in string:\n",
    "        output = \"BENTLEY\"\n",
    "    elif \"ISUZ\" in string:\n",
    "        output = \"ISUZU\"\n",
    "    elif \"EXPL\" in string:\n",
    "        output = \"FORD\"\n",
    "    elif \"DAEW\" in string:\n",
    "        output = \"DAEWOO\"\n",
    "    elif \"FERR\" in string:\n",
    "        output = \"FERRARI\"\n",
    "    elif \"SMRT\" in string:\n",
    "        output = \"SMART\"\n",
    "    elif \"HUMM\" in string:\n",
    "        output = \"HUMMER\"\n",
    "    elif \"BENT\" in string:\n",
    "        output = \"BETLEY\"\n",
    "    elif \"LNDR\" in string:\n",
    "        output = \"LAND ROVER\"\n",
    "    elif \"RROV\" in string:\n",
    "        output = \"LAND ROVER\"\n",
    "    elif \"SUZI\" in string:\n",
    "        output = \"SUZUKI\"\n",
    "    elif \"PLYM\" in string:\n",
    "        output = \"PLYMOUTH\"\n",
    "    elif \"STRN\" in string:\n",
    "        output = \"SATURN\"\n",
    "    elif \"LEXS\" in string:\n",
    "        output = \"LEXUS\"\n",
    "    elif \"PORS\" in string:\n",
    "        output = \"PORSCHE\"\n",
    "    elif \"MNNI\" in string:\n",
    "        output = \"MINI\"\n",
    "    elif \"FRHT\" in string:\n",
    "        output = \"FREIGHTLINER\"\n",
    "    elif \"TOYT\" in string:\n",
    "        output = \"TOYOTA\"\n",
    "    elif \"JAGR\" in string:\n",
    "        output = \"JAGUAR\"\n",
    "    elif \"BENZ\" in string:\n",
    "        output = \"MERCEDES-BENZ\"\n",
    "    elif \"MERZ\" in string:\n",
    "        output = \"MERCEDES-BENZ\"\n",
    "    elif \"SATU\" in string:\n",
    "        output = \"SATURN\"\n",
    "    elif \"VOLV\" in string:\n",
    "        output = \"VOLVO\"\n",
    "    elif \"LEXU\" in string:\n",
    "        output = \"LEXUS\"\n",
    "    elif \"LROW\" in string:\n",
    "        output = \"LAND ROVER\"\n",
    "    elif \"LINC\" in string:\n",
    "        output = \"LINCOLN\"\n",
    "    elif \"BUIC\" in string:\n",
    "        output = \"BUICK\"\n",
    "    elif \"OLDS\" in string:\n",
    "        output = \"OLDSMOBILE\"\n",
    "    elif \"LROW\" in string:\n",
    "        output = \"LAND ROVER\"\n",
    "    elif \"VOLK\" in string:\n",
    "        output = \"VOLKSWAGEN\"\n",
    "    elif \"MITS\" in string:\n",
    "        output = \"MITSUBISHI\"\n",
    "    elif \"FREI\" in string:\n",
    "        output = \"FREIGHTLINER\"\n",
    "    elif \"CADI\" in string:\n",
    "        output = \"CADILLAC\"\n",
    "    elif \"INFI\" in string:\n",
    "        output = \"INFINITI\"\n",
    "    elif \"MERC\" in string:\n",
    "        output = \"MERCURY\"\n",
    "    elif \"SCIO\" in string:\n",
    "        output = \"SCION\"\n",
    "    elif \"NISS\" in string:\n",
    "        output = \"NISSAN\"\n",
    "    elif \"ACUR\" in string:\n",
    "        output = \"ACURA\"\n",
    "    elif \"CHEV\" in string:\n",
    "        output = \"CHEVROLET\"\n",
    "    elif \"MAZD\" in string:\n",
    "        output = \"MAZDA\"\n",
    "    elif \"TOYO\" in string:\n",
    "        output = \"TOYOTA\"\n",
    "    elif \"CHRY\" in string:\n",
    "        output = \"CHEVROLET\"\n",
    "    elif \"PTRB\" in string:\n",
    "        output = \"PETERBILT\"\n",
    "    elif \"MBNZ\" in string:\n",
    "        output = \"MERCEDES-BENZ\"\n",
    "    elif \"HYUN\" in string:\n",
    "        output = \"HYUNDAI\"\n",
    "    elif \"MASE\" in string:\n",
    "        output = \"MASERATI\"\n",
    "    elif \"PONT\" in string:\n",
    "        output = \"PONTIAC\"\n",
    "    elif \"TESL\" in string:\n",
    "        output = \"TESLA\"\n",
    "    elif \"DODG\" in string:\n",
    "        output =\"DODGE\"\n",
    "    elif \"SUBA\" in string:\n",
    "        output = \"SUBARU\"\n",
    "    # Otherwise, if uncaught - keep as is\n",
    "    else:\n",
    "        output = string\n",
    "    \n",
    "    return output"
   ]
  },
  {
   "cell_type": "code",
   "execution_count": null,
   "metadata": {},
   "outputs": [],
   "source": [
    "## Standardize the Models\n",
    "Tickets[\"Make\"] = Tickets[\"Make\"].apply(standardize_Model)"
   ]
  },
  {
   "cell_type": "code",
   "execution_count": null,
   "metadata": {},
   "outputs": [],
   "source": [
    "# The number of Tickets for Each Car Model\n",
    "Tickets_CarModels = Tickets[\"Make\"].value_counts()"
   ]
  },
  {
   "cell_type": "markdown",
   "metadata": {},
   "source": [
    "## Example Bar Graph of Number of Tickets\n",
    "## Given to Toyotas, Fords, and BMWs"
   ]
  },
  {
   "cell_type": "code",
   "execution_count": null,
   "metadata": {},
   "outputs": [],
   "source": [
    "Tickets_CarModels[[\"TOYOTA\", \"FORD\", \"BMW\"]].plot(kind = 'bar')"
   ]
  },
  {
   "cell_type": "markdown",
   "metadata": {},
   "source": [
    "## Get Car Model Populations for CA and LA"
   ]
  },
  {
   "cell_type": "code",
   "execution_count": null,
   "metadata": {},
   "outputs": [],
   "source": [
    "# Data from DMV.gov that contains the car registrations\n",
    "# for all of California\n",
    "url = \"https://www.dmv.ca.gov/portal/wcm/connect/d0faaf2e-0b1a-43a5-96a4-15dbd2e3eff8/VehicleCount_070118.csv?MOD=AJPERES&CVID=\"\n",
    "s = requests.get(url).content\n",
    "California_Cars = pd.read_csv(io.StringIO(s.decode('utf-8')))"
   ]
  },
  {
   "cell_type": "code",
   "execution_count": null,
   "metadata": {},
   "outputs": [],
   "source": [
    "# Create a List that contains the number of registered\n",
    "# vehicles for each car Model\n",
    "\n",
    "California_CarModels = California_Cars.groupby('Make')['Vehicles'].sum()"
   ]
  },
  {
   "cell_type": "code",
   "execution_count": null,
   "metadata": {},
   "outputs": [],
   "source": [
    "# Get the number of vehicles just in LA\n",
    "\n",
    "# First Filter through all the Registered Cars and get\n",
    "# the ones with zip codes in LA County\n",
    "\n",
    "# Get rid of Zip Codes that are out of State\n",
    "LA_Cars = California_Cars[California_Cars['ZIP'] != 'OOS']\n",
    "# Get rid of Zip Codes that are not labeled\n",
    "LA_Cars = LA_Cars[LA_Cars['ZIP'] != 'Other']\n",
    "\n",
    "# Convert Remaing Zip Codes to numeric values\n",
    "LA_Cars['ZIP'] = pd.to_numeric(LA_Cars['ZIP'])\n",
    "# Finally Get Zip Codes that are only in LA\n",
    "lowest_ZIP = 90001 # Lowest LA Zip Code\n",
    "highest_ZIP = 90899 # Highest LA Zip Code\n",
    "\n",
    "LA_Cars = LA_Cars.loc[(LA_Cars['ZIP'] >= lowest_ZIP) & (LA_Cars['ZIP'] <= highest_ZIP)]\n",
    "\n",
    "# Create a List that contains the number of registered\n",
    "# vehicles in LA for each car Model\n",
    "\n",
    "LA_CarModels = LA_Cars.groupby('Make')['Vehicles'].sum()"
   ]
  },
  {
   "cell_type": "markdown",
   "metadata": {},
   "source": [
    "## Total Number of Cars in CA and LA"
   ]
  },
  {
   "cell_type": "code",
   "execution_count": null,
   "metadata": {},
   "outputs": [],
   "source": [
    "total_Cars_California = California_Cars['Vehicles'].sum()\n",
    "total_Cars_LA = LA_Cars['Vehicles'].sum()"
   ]
  },
  {
   "cell_type": "markdown",
   "metadata": {},
   "source": [
    "## Example Comparisons of Percentages and Ratios"
   ]
  },
  {
   "cell_type": "code",
   "execution_count": null,
   "metadata": {},
   "outputs": [],
   "source": [
    "# Comparing Toyota and Ferrari\n",
    "\n",
    "# Get number of Toyotas\n",
    "number_ToyotaCA = California_CarModels[\"TOYOTA\"]\n",
    "number_ToyotaLA = LA_CarModels[\"TOYOTA\"]\n",
    "number_ToyotaTickets = Tickets_CarModels[\"TOYOTA\"]\n",
    "\n",
    "# Get number of Ferraris\n",
    "number_FerrariCA = California_CarModels[\"AUDI\"]\n",
    "number_FerrariLA = LA_CarModels[\"AUDI\"]\n",
    "number_FerrariTickets = Tickets_CarModels[\"AUDI\"]"
   ]
  },
  {
   "cell_type": "code",
   "execution_count": null,
   "metadata": {},
   "outputs": [],
   "source": [
    "# Statements\n",
    "print(\"The percentage of Toyotas in California is \",((number_ToyotaCA/total_Cars_California) * 100))\n",
    "print(\"The percentage of Toyotas in Los Angeles is\",((number_ToyotaLA/total_Cars_LA)*100))\n",
    "print(\"The percentage of tickets given to Toyotas is\",((number_ToyotaTickets/len(Tickets))*100))\n",
    "\n",
    "print(\"The percentage of Ferraris in California is \",((number_FerrariCA/total_Cars_California) * 100))\n",
    "print(\"The percentage of Ferraris in Los Angeles is\",((number_FerrariLA/total_Cars_LA)*100))\n",
    "print(\"The percentage of tickets given to Ferraris is\",((number_FerrariTickets/len(Tickets))*100))"
   ]
  },
  {
   "cell_type": "markdown",
   "metadata": {},
   "source": [
    "As you can see the percentage of Ferraris given tickets is twice the percentage of Ferraris in Los Angeles and more than four times the percentage of Ferraris in California. This is interesting compared to the fact the percentage of Toyotas that receive tickets and the percentage of Toyotas in LA and California seem relatively equal."
   ]
  },
  {
   "cell_type": "markdown",
   "metadata": {},
   "source": [
    "## Comparison for Specific Violations"
   ]
  },
  {
   "cell_type": "code",
   "execution_count": null,
   "metadata": {},
   "outputs": [],
   "source": [
    "# Get the No Stopping Tickets Violation Code is 8069A\n",
    "no_StoppingTickets = Tickets[Tickets[\"Violation code\"] == \"8069A\"]"
   ]
  },
  {
   "cell_type": "code",
   "execution_count": null,
   "metadata": {},
   "outputs": [],
   "source": [
    "print( \"Percentage of No Stopping tickets given to Ferraris is \",(no_StoppingTickets[\"Make\"].value_counts()['FERRARI']/len(no_StoppingTickets)) * 100)"
   ]
  },
  {
   "cell_type": "markdown",
   "metadata": {},
   "source": [
    "## Create Bar Graph Percentages"
   ]
  },
  {
   "cell_type": "code",
   "execution_count": null,
   "metadata": {},
   "outputs": [],
   "source": [
    "# Getting Values\n",
    "per_TOYTCA = ((number_ToyotaCA/total_Cars_California) * 100)\n",
    "per_TOYTLA = ((number_ToyotaLA/total_Cars_LA)*100)\n",
    "per_TOYTTIC = ((number_ToyotaTickets/len(Tickets))*100)\n",
    "\n",
    "per_FERCA = ((number_FerrariCA/total_Cars_California) * 100)\n",
    "per_FERLA = ((number_FerrariLA/total_Cars_LA)*100)\n",
    "per_FERTIC = ((number_FerrariTickets/len(Tickets))*100)"
   ]
  },
  {
   "cell_type": "code",
   "execution_count": null,
   "metadata": {},
   "outputs": [],
   "source": [
    "# Create Data Frame\n",
    "d = {'Car Model': [\"Toyota\", \"Ferrari\"], 'Percentage CA': [per_TOYTCA, per_FERCA], 'Percentage LA': [per_TOYTLA, per_FERLA], 'Percentage Tickets': [per_TOYTTIC, per_FERTIC]}\n",
    "Percentages = pd.DataFrame(data=d)"
   ]
  },
  {
   "cell_type": "code",
   "execution_count": null,
   "metadata": {},
   "outputs": [],
   "source": [
    "# Set DataFrame\n",
    "Percentages = Percentages.set_index(\"Car Model\")\n",
    "Percentages = Percentages.round(2)"
   ]
  },
  {
   "cell_type": "code",
   "execution_count": null,
   "metadata": {},
   "outputs": [],
   "source": [
    "# Plot with Labels\n",
    "ax = Percentages.plot.bar(rot=0)\n",
    "\n",
    "for p in ax.patches:\n",
    "    ax.annotate(str(p.get_height()), (p.get_x() * 1.005, p.get_height() * 1.005))"
   ]
  },
  {
   "cell_type": "markdown",
   "metadata": {},
   "source": [
    "# I think if you use the examples and just copy and paste but change variable names and Model names you could create a Bar Graph that has more models. I was think probably two with 5 models each. Some suggestions for Models might be BMW, AUDI, FORD, ACURA, MERCEDES-BENZ and LEXUS. Model names are all in caps in the dataframe"
   ]
  },
  {
   "cell_type": "code",
   "execution_count": null,
   "metadata": {},
   "outputs": [],
   "source": [
    "# This is a list of the 60 models with the most tickets. If you change the number you can look through the Models. Before\n",
    "# you use it I would just check that the Model is in CA_CarModels[\"(model name her)\"], some of the model names aren't and\n",
    "# thus we can't do analysis\n",
    "Tickets_CarModels[:60]"
   ]
  },
  {
   "cell_type": "markdown",
   "metadata": {
    "colab_type": "text",
    "id": "E8SoDWNnqBy_"
   },
   "source": [
    "# Data Analysis and Results"
   ]
  },
  {
   "cell_type": "markdown",
   "metadata": {
    "colab_type": "text",
    "id": "wTOU4NKlqFwq"
   },
   "source": [
    "# Privacy/Ethics Considerations"
   ]
  },
  {
   "cell_type": "markdown",
   "metadata": {
    "colab_type": "text",
    "id": "9ZTV84GV9HQ1"
   },
   "source": [
    "The data was posted on Kaggle’s data set page but the information is released to the public via DataLA, a public site maintained by the Los Angeles government. We have permission to use this data under the Open Database License. There are no privacy concerns in regard to the data. This data set is potentially biased in terms of who it composes for two reasons. The first is regional factors. For example if parking officials stay in a neighborhood where the parking restrictions are stricter then we would expect the models of the cars in that neighborhood to be over represented in the data set. The second reason is that some violations may be more for lower income individuals. For example we would expect lower income individuals to receive more expired registration violations because of their inability to afford registration. If we identify any of these issues, we can modify our research topic so that it does not include biased data. For example we will not analyze expired registration violations if we identify that the data is heavily skewed towards lower income models.\n",
    "\n",
    "In addition, our dataset was already efficient in not including much personal identifiers of the individuals whose vehicles have received citations. We practiced the Safe Harbor method, in which we removed the VIN column from our dataset to further improve its anonymization. Thus, our project considerably respects the privacy of the individuals whose vehicles received citations as we have altered the dataset to focus solely on the vehicles."
   ]
  },
  {
   "cell_type": "markdown",
   "metadata": {
    "colab_type": "text",
    "id": "8Kf9pL6HqL7b"
   },
   "source": [
    "# Conclusion and Discussion"
   ]
  }
 ],
 "metadata": {
  "colab": {
   "collapsed_sections": [],
   "include_colab_link": true,
   "name": "FinalProject.ipynb",
   "provenance": [],
   "version": "0.3.2"
  },
  "kernelspec": {
   "display_name": "Python 3",
   "language": "python",
   "name": "python3"
  },
  "language_info": {
   "codemirror_mode": {
    "name": "ipython",
    "version": 3
   },
   "file_extension": ".py",
   "mimetype": "text/x-python",
   "name": "python",
   "nbconvert_exporter": "python",
   "pygments_lexer": "ipython3",
   "version": "3.7.1"
  }
 },
 "nbformat": 4,
 "nbformat_minor": 1
}
