{
 "cells": [
  {
   "cell_type": "markdown",
   "metadata": {
    "colab_type": "text",
    "id": "view-in-github"
   },
   "source": [
    "<a href=\"https://colab.research.google.com/github/johnny-tran/COGS108_repo/blob/master/FinalProject.ipynb\" target=\"_parent\"><img src=\"https://colab.research.google.com/assets/colab-badge.svg\" alt=\"Open In Colab\"/></a>"
   ]
  },
  {
   "cell_type": "markdown",
   "metadata": {
    "colab_type": "text",
    "id": "hVhwl3AXn178"
   },
   "source": [
    "# COGS 108 - Final Project"
   ]
  },
  {
   "cell_type": "markdown",
   "metadata": {
    "colab_type": "text",
    "id": "oP0Owgrsn18K"
   },
   "source": [
    "## Important\n",
    "\n",
    "- ONE, and only one, member of your group should upload this notebook to TritonED. \n",
    "- Each member of the group will receive the same grade on this assignment. \n",
    "- Keep the file name the same: submit the file 'FinalProject.ipynb'.\n",
    "- Only upload the .ipynb file to TED, do not upload any associted data. Make sure that for cells in which you want graders to see output that these cells have been executed."
   ]
  },
  {
   "cell_type": "markdown",
   "metadata": {
    "colab_type": "text",
    "id": "ZU7JBgGSn18R"
   },
   "source": [
    "## Group Members: Fill in the Student IDs of each group member here\n",
    "\n",
    "Replace the lines below to list each persons full student ID, ucsd email and full name.\n",
    "\n",
    "- A11888496 - L4truong@ucsd.edu - Loc Truong\n",
    "- A15352670 - t8wei@ucsd.edu - Timothy Wei\n",
    "- A14732783 - jpt017@ucsd.edu - Jonathan Tran\n",
    "- A11962666 - nnowain@ucsd.edu - Nathan Nowain\n",
    "- A14493674 - cvshanno@ucsd.edu - Collin Shannon\n",
    "\n"
   ]
  },
  {
   "cell_type": "markdown",
   "metadata": {
    "colab_type": "text",
    "id": "87QllbYgn18h"
   },
   "source": [
    "# Introduction and Background"
   ]
  },
  {
   "cell_type": "markdown",
   "metadata": {
    "colab_type": "text",
    "id": "VPQnE-eZtY8m"
   },
   "source": [
    "## Research Question\n",
    "\n",
    "> Are there any correlations to make/color/body type to violation types?\n",
    "How does visual appearance affect the likelihood of receiving a parking violation? Do certain makes/models or colors receive more tickets than expected?\n",
    "\n",
    "\n",
    "## Hypothesis\n",
    "\n",
    "> We predict that loud colors & higher end models have a higher chance of receiving violations.\n",
    "We hypothesize that visual appearance does affect the likelihood of receiving a parking violation. We expect that parking officials are more likely to notice cars that have loud colors and higher end models and thus more likely to give them a ticket.\n",
    "\n",
    "\n",
    "## Background\n",
    "\n",
    "> We believe that there are biases that are imposed from humans as they do their job, such as parking enforcement. There is a typically well known statement that cops and parking enforcement have to meet quotas monthly to keep them on goal as they do their job. Besides this commonly heard phenomena, is there also a possible data to show that some cars also get more tickets than others? With further research we found there are many articles online which sum up reasons why one might be more likely to get a ticket; and some of their data show that certain vehicle makes and models, more notably the expensive and luxurious make and models, receive more speeding tickets [1]. There is also a well known statistic that red colored cars get pulled over more than others, which is most likely related to its high visibility over other colored cars [2].\n",
    "\n",
    "> With this in mind, we supposed there can be a possible correlation to be found. As we hypothesized, we believe that cars of certain visible attributes like color or make can possibly increase their likelihood of receiving a ticket in comparison to other vehicles which may not attract as much attention. We believe this is important because we want to see if there are possible implicit biases in how parking enforcement gives out violations. This data could help better inform people before choosing a car to buy, if they care or to just find an interesting relationship to human cognition and how perception alters thinking.\n",
    "  \n",
    "> ### References\n",
    "\n",
    ">> 1) https://www.more.com/lifestyle/6-things-almost-guarantee-speeding-ticket\n",
    "\n",
    ">> 2) http://www.brettrics.com/9-million-parking-tickets-la/\n"
   ]
  },
  {
   "cell_type": "markdown",
   "metadata": {
    "colab_type": "text",
    "id": "h6xT0cVupz-b"
   },
   "source": [
    "# Data Description\n",
    "\n",
    "Dataset Name: Los Angeles Parking Citations\n",
    "\n",
    ">The dataset consists of 19 variables based on the information on the ticket slip. This includes ticket date, issue time, meter id, make, body style, color, location, route, agency, violation code, violation description, fine amount, and location data.\n",
    "\n",
    "> Link to the dataset: https://data.lacity.org/A-Well-Run-City/Parking-Citations/wjz9-h9np\n",
    "\n",
    "> Kaggle link: https://www.kaggle.com/cityofLA/los-angeles-parking-citations"
   ]
  },
  {
   "cell_type": "markdown",
   "metadata": {
    "colab_type": "text",
    "id": "cx_t_OOpp59H"
   },
   "source": [
    "# Data Cleaning / Pre Processing"
   ]
  },
  {
   "cell_type": "code",
   "execution_count": 1,
   "metadata": {
    "colab": {
     "base_uri": "https://localhost:8080/",
     "height": 71
    },
    "colab_type": "code",
    "id": "A-6xETgjqfMg",
    "outputId": "e424f616-ec45-41b9-b0cd-e9bf5879906d"
   },
   "outputs": [
    {
     "name": "stdout",
     "output_type": "stream",
     "text": [
      "Requirement already satisfied: tabula-py in /Users/Johnny/anaconda3/lib/python3.7/site-packages (1.3.1)\r\n",
      "Requirement already satisfied: pandas in /Users/Johnny/anaconda3/lib/python3.7/site-packages (from tabula-py) (0.23.4)\r\n",
      "Requirement already satisfied: numpy in /Users/Johnny/anaconda3/lib/python3.7/site-packages (from tabula-py) (1.15.4)\r\n",
      "Requirement already satisfied: urllib3 in /Users/Johnny/anaconda3/lib/python3.7/site-packages (from tabula-py) (1.24.1)\r\n",
      "Requirement already satisfied: distro in /Users/Johnny/anaconda3/lib/python3.7/site-packages (from tabula-py) (1.4.0)\r\n",
      "Requirement already satisfied: python-dateutil>=2.5.0 in /Users/Johnny/anaconda3/lib/python3.7/site-packages (from pandas->tabula-py) (2.7.5)\r\n",
      "Requirement already satisfied: pytz>=2011k in /Users/Johnny/anaconda3/lib/python3.7/site-packages (from pandas->tabula-py) (2018.7)\r\n",
      "Requirement already satisfied: six>=1.5 in /Users/Johnny/anaconda3/lib/python3.7/site-packages (from python-dateutil>=2.5.0->pandas->tabula-py) (1.12.0)\r\n"
     ]
    }
   ],
   "source": [
    "# Imports -  These are all you need for the assignment: do not import additional packages\n",
    "%matplotlib inline\n",
    "\n",
    "import numpy as np\n",
    "import pandas as pd\n",
    "import matplotlib.pyplot as plt\n",
    "\n",
    "import patsy\n",
    "import statsmodels.api as sm\n",
    "import scipy.stats as stats\n",
    "from scipy.stats import ttest_ind, chisquare, normaltest\n",
    "\n",
    "# read PDF via tabula\n",
    "import tabula\n",
    "!pip install tabula-py"
   ]
  },
  {
   "cell_type": "code",
   "execution_count": 2,
   "metadata": {
    "colab": {
     "base_uri": "https://localhost:8080/",
     "height": 343
    },
    "colab_type": "code",
    "id": "b4M-BssTrDia",
    "outputId": "0febb5f1-d91d-4a9d-a844-1a1a9e185202"
   },
   "outputs": [
    {
     "name": "stderr",
     "output_type": "stream",
     "text": [
      "/Users/Johnny/anaconda3/lib/python3.7/site-packages/IPython/core/interactiveshell.py:3020: DtypeWarning: Columns (0,7) have mixed types. Specify dtype option on import or set low_memory=False.\n",
      "  interactivity=interactivity, compiler=compiler, result=result)\n"
     ]
    },
    {
     "data": {
      "text/html": [
       "<div>\n",
       "<style scoped>\n",
       "    .dataframe tbody tr th:only-of-type {\n",
       "        vertical-align: middle;\n",
       "    }\n",
       "\n",
       "    .dataframe tbody tr th {\n",
       "        vertical-align: top;\n",
       "    }\n",
       "\n",
       "    .dataframe thead th {\n",
       "        text-align: right;\n",
       "    }\n",
       "</style>\n",
       "<table border=\"1\" class=\"dataframe\">\n",
       "  <thead>\n",
       "    <tr style=\"text-align: right;\">\n",
       "      <th></th>\n",
       "      <th>Ticket number</th>\n",
       "      <th>Issue Date</th>\n",
       "      <th>Issue time</th>\n",
       "      <th>Meter Id</th>\n",
       "      <th>Marked Time</th>\n",
       "      <th>RP State Plate</th>\n",
       "      <th>Plate Expiry Date</th>\n",
       "      <th>VIN</th>\n",
       "      <th>Make</th>\n",
       "      <th>Body Style</th>\n",
       "      <th>Color</th>\n",
       "      <th>Location</th>\n",
       "      <th>Route</th>\n",
       "      <th>Agency</th>\n",
       "      <th>Violation code</th>\n",
       "      <th>Violation Description</th>\n",
       "      <th>Fine amount</th>\n",
       "      <th>Latitude</th>\n",
       "      <th>Longitude</th>\n",
       "    </tr>\n",
       "  </thead>\n",
       "  <tbody>\n",
       "    <tr>\n",
       "      <th>0</th>\n",
       "      <td>1103341116</td>\n",
       "      <td>2015-12-21T00:00:00</td>\n",
       "      <td>1251.0</td>\n",
       "      <td>NaN</td>\n",
       "      <td>NaN</td>\n",
       "      <td>CA</td>\n",
       "      <td>200304.0</td>\n",
       "      <td>NaN</td>\n",
       "      <td>HOND</td>\n",
       "      <td>PA</td>\n",
       "      <td>GY</td>\n",
       "      <td>13147 WELBY WAY</td>\n",
       "      <td>01521</td>\n",
       "      <td>1.0</td>\n",
       "      <td>4000A1</td>\n",
       "      <td>NO EVIDENCE OF REG</td>\n",
       "      <td>50.0</td>\n",
       "      <td>99999.0</td>\n",
       "      <td>99999.0</td>\n",
       "    </tr>\n",
       "    <tr>\n",
       "      <th>1</th>\n",
       "      <td>1103700150</td>\n",
       "      <td>2015-12-21T00:00:00</td>\n",
       "      <td>1435.0</td>\n",
       "      <td>NaN</td>\n",
       "      <td>NaN</td>\n",
       "      <td>CA</td>\n",
       "      <td>201512.0</td>\n",
       "      <td>NaN</td>\n",
       "      <td>GMC</td>\n",
       "      <td>VN</td>\n",
       "      <td>WH</td>\n",
       "      <td>525 S MAIN ST</td>\n",
       "      <td>1C51</td>\n",
       "      <td>1.0</td>\n",
       "      <td>4000A1</td>\n",
       "      <td>NO EVIDENCE OF REG</td>\n",
       "      <td>50.0</td>\n",
       "      <td>99999.0</td>\n",
       "      <td>99999.0</td>\n",
       "    </tr>\n",
       "    <tr>\n",
       "      <th>2</th>\n",
       "      <td>1104803000</td>\n",
       "      <td>2015-12-21T00:00:00</td>\n",
       "      <td>2055.0</td>\n",
       "      <td>NaN</td>\n",
       "      <td>NaN</td>\n",
       "      <td>CA</td>\n",
       "      <td>201503.0</td>\n",
       "      <td>NaN</td>\n",
       "      <td>NISS</td>\n",
       "      <td>PA</td>\n",
       "      <td>BK</td>\n",
       "      <td>200 WORLD WAY</td>\n",
       "      <td>2R2</td>\n",
       "      <td>2.0</td>\n",
       "      <td>8939</td>\n",
       "      <td>WHITE CURB</td>\n",
       "      <td>58.0</td>\n",
       "      <td>6439997.9</td>\n",
       "      <td>1802686.4</td>\n",
       "    </tr>\n",
       "    <tr>\n",
       "      <th>3</th>\n",
       "      <td>1104820732</td>\n",
       "      <td>2015-12-26T00:00:00</td>\n",
       "      <td>1515.0</td>\n",
       "      <td>NaN</td>\n",
       "      <td>NaN</td>\n",
       "      <td>CA</td>\n",
       "      <td>NaN</td>\n",
       "      <td>NaN</td>\n",
       "      <td>ACUR</td>\n",
       "      <td>PA</td>\n",
       "      <td>WH</td>\n",
       "      <td>100 WORLD WAY</td>\n",
       "      <td>2F11</td>\n",
       "      <td>2.0</td>\n",
       "      <td>000</td>\n",
       "      <td>17104h</td>\n",
       "      <td>NaN</td>\n",
       "      <td>6440041.1</td>\n",
       "      <td>1802686.2</td>\n",
       "    </tr>\n",
       "    <tr>\n",
       "      <th>4</th>\n",
       "      <td>1105461453</td>\n",
       "      <td>2015-09-15T00:00:00</td>\n",
       "      <td>115.0</td>\n",
       "      <td>NaN</td>\n",
       "      <td>NaN</td>\n",
       "      <td>CA</td>\n",
       "      <td>200316.0</td>\n",
       "      <td>NaN</td>\n",
       "      <td>CHEV</td>\n",
       "      <td>PA</td>\n",
       "      <td>BK</td>\n",
       "      <td>GEORGIA ST/OLYMPIC</td>\n",
       "      <td>1FB70</td>\n",
       "      <td>1.0</td>\n",
       "      <td>8069A</td>\n",
       "      <td>NO STOPPING/STANDING</td>\n",
       "      <td>93.0</td>\n",
       "      <td>99999.0</td>\n",
       "      <td>99999.0</td>\n",
       "    </tr>\n",
       "  </tbody>\n",
       "</table>\n",
       "</div>"
      ],
      "text/plain": [
       "  Ticket number           Issue Date  Issue time Meter Id  Marked Time  \\\n",
       "0    1103341116  2015-12-21T00:00:00      1251.0      NaN          NaN   \n",
       "1    1103700150  2015-12-21T00:00:00      1435.0      NaN          NaN   \n",
       "2    1104803000  2015-12-21T00:00:00      2055.0      NaN          NaN   \n",
       "3    1104820732  2015-12-26T00:00:00      1515.0      NaN          NaN   \n",
       "4    1105461453  2015-09-15T00:00:00       115.0      NaN          NaN   \n",
       "\n",
       "  RP State Plate  Plate Expiry Date  VIN  Make Body Style Color  \\\n",
       "0             CA           200304.0  NaN  HOND         PA    GY   \n",
       "1             CA           201512.0  NaN   GMC         VN    WH   \n",
       "2             CA           201503.0  NaN  NISS         PA    BK   \n",
       "3             CA                NaN  NaN  ACUR         PA    WH   \n",
       "4             CA           200316.0  NaN  CHEV         PA    BK   \n",
       "\n",
       "             Location  Route  Agency Violation code Violation Description  \\\n",
       "0     13147 WELBY WAY  01521     1.0         4000A1    NO EVIDENCE OF REG   \n",
       "1       525 S MAIN ST   1C51     1.0         4000A1    NO EVIDENCE OF REG   \n",
       "2       200 WORLD WAY    2R2     2.0           8939            WHITE CURB   \n",
       "3       100 WORLD WAY   2F11     2.0            000                17104h   \n",
       "4  GEORGIA ST/OLYMPIC  1FB70     1.0          8069A  NO STOPPING/STANDING   \n",
       "\n",
       "   Fine amount   Latitude  Longitude  \n",
       "0         50.0    99999.0    99999.0  \n",
       "1         50.0    99999.0    99999.0  \n",
       "2         58.0  6439997.9  1802686.4  \n",
       "3          NaN  6440041.1  1802686.2  \n",
       "4         93.0    99999.0    99999.0  "
      ]
     },
     "execution_count": 2,
     "metadata": {},
     "output_type": "execute_result"
    }
   ],
   "source": [
    "# read parking citations(PC) file\n",
    "PC_df = pd.read_csv('parking-citations.csv')\n",
    "PC_df.head()\n"
   ]
  },
  {
   "cell_type": "code",
   "execution_count": 3,
   "metadata": {},
   "outputs": [
    {
     "data": {
      "text/html": [
       "<div>\n",
       "<style scoped>\n",
       "    .dataframe tbody tr th:only-of-type {\n",
       "        vertical-align: middle;\n",
       "    }\n",
       "\n",
       "    .dataframe tbody tr th {\n",
       "        vertical-align: top;\n",
       "    }\n",
       "\n",
       "    .dataframe thead th {\n",
       "        text-align: right;\n",
       "    }\n",
       "</style>\n",
       "<table border=\"1\" class=\"dataframe\">\n",
       "  <thead>\n",
       "    <tr style=\"text-align: right;\">\n",
       "      <th></th>\n",
       "      <th>CODE</th>\n",
       "      <th>AGENCY NAME</th>\n",
       "      <th>NAME</th>\n",
       "    </tr>\n",
       "  </thead>\n",
       "  <tbody>\n",
       "    <tr>\n",
       "      <th>1</th>\n",
       "      <td>1</td>\n",
       "      <td>WESTERN</td>\n",
       "      <td>WESTERN</td>\n",
       "    </tr>\n",
       "    <tr>\n",
       "      <th>2</th>\n",
       "      <td>2</td>\n",
       "      <td>LAX CURRENT</td>\n",
       "      <td>LAX CUR</td>\n",
       "    </tr>\n",
       "    <tr>\n",
       "      <th>3</th>\n",
       "      <td>3</td>\n",
       "      <td>VALLEY</td>\n",
       "      <td>VALLEY</td>\n",
       "    </tr>\n",
       "    <tr>\n",
       "      <th>4</th>\n",
       "      <td>4</td>\n",
       "      <td>HOLLYWOOD</td>\n",
       "      <td>HOLLYWOOD</td>\n",
       "    </tr>\n",
       "    <tr>\n",
       "      <th>5</th>\n",
       "      <td>5</td>\n",
       "      <td>SOUTHERN</td>\n",
       "      <td>SOUTHERN</td>\n",
       "    </tr>\n",
       "  </tbody>\n",
       "</table>\n",
       "</div>"
      ],
      "text/plain": [
       "0 CODE  AGENCY NAME       NAME\n",
       "1    1      WESTERN    WESTERN\n",
       "2    2  LAX CURRENT    LAX CUR\n",
       "3    3       VALLEY     VALLEY\n",
       "4    4    HOLLYWOOD  HOLLYWOOD\n",
       "5    5     SOUTHERN   SOUTHERN"
      ]
     },
     "execution_count": 3,
     "metadata": {},
     "output_type": "execute_result"
    }
   ],
   "source": [
    "# read agency codes(AC) file\n",
    "from tabula import read_pdf\n",
    "AC_df = read_pdf('LADOT-Xerox Crib Sheet Agency Codes 12-31-2015.pdf')\n",
    "\n",
    "# set header to top row\n",
    "new_header = AC_df.iloc[0]\n",
    "AC_df = AC_df[1:]\n",
    "AC_df.columns = new_header\n",
    "\n",
    "# print head to check\n",
    "AC_df.head()\n"
   ]
  },
  {
   "cell_type": "code",
   "execution_count": 6,
   "metadata": {
    "colab": {
     "base_uri": "https://localhost:8080/",
     "height": 204
    },
    "colab_type": "code",
    "id": "MHGP5yaY1U0g",
    "outputId": "e37907aa-efc6-4b41-a707-98d1029402dc"
   },
   "outputs": [
    {
     "data": {
      "text/html": [
       "<div>\n",
       "<style scoped>\n",
       "    .dataframe tbody tr th:only-of-type {\n",
       "        vertical-align: middle;\n",
       "    }\n",
       "\n",
       "    .dataframe tbody tr th {\n",
       "        vertical-align: top;\n",
       "    }\n",
       "\n",
       "    .dataframe thead th {\n",
       "        text-align: right;\n",
       "    }\n",
       "</style>\n",
       "<table border=\"1\" class=\"dataframe\">\n",
       "  <thead>\n",
       "    <tr style=\"text-align: right;\">\n",
       "      <th></th>\n",
       "      <th>Make</th>\n",
       "      <th>Body Style</th>\n",
       "      <th>Color</th>\n",
       "      <th>Agency</th>\n",
       "      <th>Violation code</th>\n",
       "      <th>Violation Description</th>\n",
       "    </tr>\n",
       "  </thead>\n",
       "  <tbody>\n",
       "    <tr>\n",
       "      <th>0</th>\n",
       "      <td>HOND</td>\n",
       "      <td>PA</td>\n",
       "      <td>GY</td>\n",
       "      <td>1.0</td>\n",
       "      <td>4000A1</td>\n",
       "      <td>NO EVIDENCE OF REG</td>\n",
       "    </tr>\n",
       "    <tr>\n",
       "      <th>1</th>\n",
       "      <td>GMC</td>\n",
       "      <td>VN</td>\n",
       "      <td>WH</td>\n",
       "      <td>1.0</td>\n",
       "      <td>4000A1</td>\n",
       "      <td>NO EVIDENCE OF REG</td>\n",
       "    </tr>\n",
       "    <tr>\n",
       "      <th>2</th>\n",
       "      <td>NISS</td>\n",
       "      <td>PA</td>\n",
       "      <td>BK</td>\n",
       "      <td>2.0</td>\n",
       "      <td>8939</td>\n",
       "      <td>WHITE CURB</td>\n",
       "    </tr>\n",
       "    <tr>\n",
       "      <th>3</th>\n",
       "      <td>ACUR</td>\n",
       "      <td>PA</td>\n",
       "      <td>WH</td>\n",
       "      <td>2.0</td>\n",
       "      <td>000</td>\n",
       "      <td>17104h</td>\n",
       "    </tr>\n",
       "    <tr>\n",
       "      <th>4</th>\n",
       "      <td>CHEV</td>\n",
       "      <td>PA</td>\n",
       "      <td>BK</td>\n",
       "      <td>1.0</td>\n",
       "      <td>8069A</td>\n",
       "      <td>NO STOPPING/STANDING</td>\n",
       "    </tr>\n",
       "  </tbody>\n",
       "</table>\n",
       "</div>"
      ],
      "text/plain": [
       "   Make Body Style Color  Agency Violation code Violation Description\n",
       "0  HOND         PA    GY     1.0         4000A1    NO EVIDENCE OF REG\n",
       "1   GMC         VN    WH     1.0         4000A1    NO EVIDENCE OF REG\n",
       "2  NISS         PA    BK     2.0           8939            WHITE CURB\n",
       "3  ACUR         PA    WH     2.0            000                17104h\n",
       "4  CHEV         PA    BK     1.0          8069A  NO STOPPING/STANDING"
      ]
     },
     "execution_count": 6,
     "metadata": {},
     "output_type": "execute_result"
    }
   ],
   "source": [
    "# remove unnecessary columns\n",
    "PC_df = PC_df.drop(['Ticket number', 'Issue Date', 'Issue time', 'Meter Id', 'Marked Time', 'RP State Plate', 'Plate Expiry Date', 'VIN', 'Location', 'Route', 'Fine amount', 'Latitude', 'Longitude'], axis=1)\n",
    "\n",
    "PC_df.head()\n"
   ]
  },
  {
   "cell_type": "code",
   "execution_count": 72,
   "metadata": {},
   "outputs": [
    {
     "name": "stdout",
     "output_type": "stream",
     "text": [
      "WH    42215\n",
      "BK    38205\n",
      "GY    31378\n",
      "SI    20220\n",
      "BL    16624\n",
      "RE    12831\n",
      "GR     9280\n",
      "TA     6004\n",
      "GO     3292\n",
      "BR     3154\n",
      "BU     1496\n",
      "YE     1213\n",
      "BE      719\n",
      "OR      548\n",
      "MA      391\n",
      "PU      366\n",
      "SL      185\n",
      "PI       93\n",
      "TE       73\n",
      "CR       61\n",
      "CH       48\n",
      "BZ       36\n",
      "WT       34\n",
      "GL       28\n",
      "RD       22\n",
      "RU       21\n",
      "TU       18\n",
      "MU       15\n",
      "YL        9\n",
      "SA        9\n",
      "      ...  \n",
      "AP        1\n",
      "CP        1\n",
      "O         1\n",
      "GA        1\n",
      "GN        1\n",
      "EF        1\n",
      "TL        1\n",
      "R         1\n",
      "AU        1\n",
      "MI        1\n",
      "MY        1\n",
      "GE        1\n",
      "TR        1\n",
      "SV        1\n",
      "SM        1\n",
      "CU        1\n",
      "SU        1\n",
      "UN        1\n",
      "PP        1\n",
      "AD        1\n",
      "LE        1\n",
      "MP        1\n",
      "RA        1\n",
      "WA        1\n",
      "MO        1\n",
      "SO        1\n",
      "AM        1\n",
      "VU        1\n",
      "ES        1\n",
      "BN        1\n",
      "Name: Color, Length: 82, dtype: int64\n"
     ]
    },
    {
     "data": {
      "text/plain": [
       "83"
      ]
     },
     "execution_count": 72,
     "metadata": {},
     "output_type": "execute_result"
    }
   ],
   "source": [
    "agency_01 = PC_df[PC_df['Agency'] == 1.0]['Color'].value_counts()\n",
    "print(agency_01)\n",
    "\n",
    "\n",
    "\n",
    "a1_color = PC_df[PC_df['Agency'] == 1.0]['Color']\n",
    "a1_color_count = a1_color.value_counts()\n",
    "a1_color.unique().size\n",
    "\n",
    "#print(a1_color)\n",
    "#a1_color.plot(kind='bar')"
   ]
  },
  {
   "cell_type": "code",
   "execution_count": 32,
   "metadata": {
    "colab": {
     "base_uri": "https://localhost:8080/",
     "height": 456
    },
    "colab_type": "code",
    "id": "nZyYsDZBzrNE",
    "outputId": "77cbd2be-0548-4f0d-b6e8-7f4d99af2340",
    "scrolled": true
   },
   "outputs": [
    {
     "name": "stdout",
     "output_type": "stream",
     "text": [
      "We are looking at citations from  45  different agencies in LA.\n"
     ]
    }
   ],
   "source": [
    "# find \n",
    "\n",
    "unique_agency_count = PC_df['Agency'].unique()\n",
    "agency_count = unique_agency_count.size\n",
    "\n",
    "print(\"We are looking at citations from \", agency_count,\n",
    "      \" different agencies in LA.\")\n",
    "\n",
    "#agency_01 = PC_df[PC_df['Agency'] == 1.0]\n",
    "#agency_02 = PC_df[PC_df['Agency'] == 2.0]\n",
    "#agency_03 = PC_df[PC_df['Agency'] == 3.0]\n",
    "#agency_04 = PC_df[PC_df['Agency'] == 4.0]\n",
    "#agency_05 = PC_df[PC_df['Agency'] == 5.0]\n",
    "#agency_06 = PC_df[PC_df['Agency'] == 6.0]\n",
    "#agency_07 = PC_df[PC_df['Agency'] == 7.0]\n",
    "#agency_08 = PC_df[PC_df['Agency'] == 8.0]\n",
    "#agency_09 = PC_df[PC_df['Agency'] == 9.0]\n",
    "#agency_10 = PC_df[PC_df['Agency'] == 10.0]\n"
   ]
  },
  {
   "cell_type": "markdown",
   "metadata": {
    "colab_type": "text",
    "id": "MMpjkdjQ2JvJ"
   },
   "source": [
    "GY = grey\n",
    "WH = white | WT = white\n",
    "BK = black\n",
    "BL = blue | BE = blue | CO = cobalt\n",
    "BR = brown\n",
    "SI = silver | SL = silver\n",
    "GO = gold\n",
    "RE = red | RD = red\n",
    "\n",
    "MA = magenta\n",
    "TA = tan | TN = tan\n",
    "\n",
    "BU = burgundy | BG = burgundy\n",
    "GR = gray\n",
    "YE = yellow\n",
    "OR = orange\n",
    "BN = brown\n",
    "OT = ???\n",
    "GN = green\n",
    "MR = ??\n",
    "PR = purple | PU = purple\n",
    "UN = UNKNOWN???\n",
    "PK = pink | PI = pink \n",
    "TU = turqoise\n",
    "\n",
    "RU = ???\n",
    "PL = purple ????\n",
    "CR = ???\n",
    "SN = ???\n",
    "PE = ???\n",
    "BZ = ???\n",
    "ME = ???\n",
    "CH = ???\n",
    "TE = teal\n",
    "LI = ???\n",
    "MU = ???"
   ]
  },
  {
   "cell_type": "code",
   "execution_count": null,
   "metadata": {
    "colab": {},
    "colab_type": "code",
    "id": "jnAaoE-n8dW0"
   },
   "outputs": [],
   "source": [
    "#standardize colors function\n",
    "def standardize_colors(string):\n",
    "\n",
    "    string = string.lower()\n",
    "    string = string.strip()\n",
    "    \n",
    "    #edit below for colors\n",
    "    if \"cog\" in string:\n",
    "        output = \"COGSCI\"\n",
    "    elif \"computer\" in string:\n",
    "        output = \"COMPSCI\"\n",
    "    elif \"cs\" in string:\n",
    "        output = \"COMPSCI\"\n",
    "    elif \"math\" in string:\n",
    "        output = \"MATH\"\n",
    "    elif \"electrical\" in string:\n",
    "        output = \"ECE\"\n",
    "    elif \"bio\" in string:\n",
    "        output = \"BIO\"\n",
    "    elif \"chem\" in string:\n",
    "        output = \"CHEM\"\n",
    "    \n",
    "    #otherwise, keep as is\n",
    "    else:\n",
    "        output = string\n",
    "    \n",
    "    return output"
   ]
  },
  {
   "cell_type": "markdown",
   "metadata": {
    "colab_type": "text",
    "id": "G3257UGjp-sB"
   },
   "source": [
    "# Data Visualization"
   ]
  },
  {
   "cell_type": "markdown",
   "metadata": {
    "colab_type": "text",
    "id": "1D9cD7aNw4kU"
   },
   "source": [
    "## Ideas\n",
    "\n",
    "> ### Graphs:\n",
    "\n",
    "> Color vs. # of tix\n",
    "\n",
    "> Model vs. # of tix\n",
    "\n",
    "> Color + model vs. # of tix\n",
    "\n",
    "> Color vs. type of tix\n",
    "\n",
    ">Model vs. type of tix\n",
    "\n",
    ">Color + model vs. type of tix\n",
    "\n",
    "\n",
    "\n",
    "\n"
   ]
  },
  {
   "cell_type": "markdown",
   "metadata": {
    "colab_type": "text",
    "id": "E8SoDWNnqBy_"
   },
   "source": [
    "# Data Analysis and Results"
   ]
  },
  {
   "cell_type": "markdown",
   "metadata": {
    "colab_type": "text",
    "id": "wTOU4NKlqFwq"
   },
   "source": [
    "# Privacy/Ethics Considerations"
   ]
  },
  {
   "cell_type": "markdown",
   "metadata": {
    "colab_type": "text",
    "id": "9ZTV84GV9HQ1"
   },
   "source": [
    "The data was posted on Kaggle’s data set page but the information is released to the public via DataLA, a public site maintained by the Los Angeles government. We have permission to use this data under the Open Database License. There are no privacy concerns in regard to the data. This data set is potentially biased in terms of who it composes for two reasons. The first is regional factors. For example if parking officials stay in a neighborhood where the parking restrictions are stricter then we would expect the models of the cars in that neighborhood to be over represented in the data set. The second reason is that some violations may be more for lower income individuals. For example we would expect lower income individuals to receive more expired registration violations because of their inability to afford registration. If we identify any of these issues, we can modify our research topic so that it does not include biased data. For example we will not analyze expired registration violations if we identify that the data is heavily skewed towards lower income models.\n",
    "\n",
    "In addition, our dataset was already efficient in not including much personal identifiers of the individuals whose vehicles have received citations. We practiced the Safe Harbor method, in which we removed the VIN column from our dataset to further improve its anonymization. Thus, our project considerably respects the privacy of the individuals whose vehicles received citations as we have altered the dataset to focus solely on the vehicles."
   ]
  },
  {
   "cell_type": "markdown",
   "metadata": {
    "colab_type": "text",
    "id": "8Kf9pL6HqL7b"
   },
   "source": [
    "# Conclusion and Discussion"
   ]
  }
 ],
 "metadata": {
  "colab": {
   "collapsed_sections": [],
   "include_colab_link": true,
   "name": "FinalProject.ipynb",
   "provenance": [],
   "version": "0.3.2"
  },
  "kernelspec": {
   "display_name": "Python 3",
   "language": "python",
   "name": "python3"
  },
  "language_info": {
   "codemirror_mode": {
    "name": "ipython",
    "version": 3
   },
   "file_extension": ".py",
   "mimetype": "text/x-python",
   "name": "python",
   "nbconvert_exporter": "python",
   "pygments_lexer": "ipython3",
   "version": "3.7.1"
  }
 },
 "nbformat": 4,
 "nbformat_minor": 1
}
