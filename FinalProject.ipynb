{
  "nbformat": 4,
  "nbformat_minor": 0,
  "metadata": {
    "colab": {
      "name": "FinalProject.ipynb",
      "version": "0.3.2",
      "provenance": [],
      "collapsed_sections": [],
      "include_colab_link": true
    },
    "kernelspec": {
      "display_name": "Python 3",
      "language": "python",
      "name": "python3"
    }
  },
  "cells": [
    {
      "cell_type": "markdown",
      "metadata": {
        "id": "view-in-github",
        "colab_type": "text"
      },
      "source": [
        "<a href=\"https://colab.research.google.com/github/johnny-tran/COGS108_repo/blob/master/FinalProject.ipynb\" target=\"_parent\"><img src=\"https://colab.research.google.com/assets/colab-badge.svg\" alt=\"Open In Colab\"/></a>"
      ]
    },
    {
      "metadata": {
        "id": "hVhwl3AXn178",
        "colab_type": "text"
      },
      "cell_type": "markdown",
      "source": [
        "# COGS 108 - Final Project"
      ]
    },
    {
      "metadata": {
        "id": "oP0Owgrsn18K",
        "colab_type": "text"
      },
      "cell_type": "markdown",
      "source": [
        "## Important\n",
        "\n",
        "- ONE, and only one, member of your group should upload this notebook to TritonED. \n",
        "- Each member of the group will receive the same grade on this assignment. \n",
        "- Keep the file name the same: submit the file 'FinalProject.ipynb'.\n",
        "- Only upload the .ipynb file to TED, do not upload any associted data. Make sure that for cells in which you want graders to see output that these cells have been executed."
      ]
    },
    {
      "metadata": {
        "id": "ZU7JBgGSn18R",
        "colab_type": "text"
      },
      "cell_type": "markdown",
      "source": [
        "## Group Members: Fill in the Student IDs of each group member here\n",
        "\n",
        "Replace the lines below to list each persons full student ID, ucsd email and full name.\n",
        "\n",
        "- A11888496 - L4truong@ucsd.edu - Loc Truong\n",
        "- A15352670 - t8wei@ucsd.edu - Timothy Wei\n",
        "- A14732783 - jpt017@ucsd.edu - Jonathan Tran\n",
        "- A11962666 - nnowain@ucsd.edu - Nathan Nowain\n",
        "- A14493674 - cvshanno@ucsd.edu - Collin Shannon\n",
        "\n"
      ]
    },
    {
      "metadata": {
        "id": "87QllbYgn18h",
        "colab_type": "text"
      },
      "cell_type": "markdown",
      "source": [
        "# Introduction and Background"
      ]
    },
    {
      "metadata": {
        "id": "VPQnE-eZtY8m",
        "colab_type": "text"
      },
      "cell_type": "markdown",
      "source": [
        "## Research Question\n",
        "\n",
        "> Are there any correlations to make/color/body type to violation types?\n",
        "How does visual appearance affect the likelihood of receiving a parking violation? Do certain makes/models or colors receive more tickets than expected?\n",
        "\n",
        "\n",
        "## Hypothesis\n",
        "\n",
        "> We predict that loud colors & higher end models have a higher chance of receiving violations.\n",
        "We hypothesize that visual appearance does affect the likelihood of receiving a parking violation. We expect that parking officials are more likely to notice cars that have loud colors and higher end models and thus more likely to give them a ticket.\n",
        "\n",
        "\n",
        "## Background\n",
        "\n",
        "> We believe that there are biases that are imposed from humans as they do their job, such as parking enforcement. There is a typically well known statement that cops and parking enforcement have to meet quotas monthly to keep them on goal as they do their job. Besides this commonly heard phenomena, is there also a possible data to show that some cars also get more tickets than others? With further research we found there are many articles online which sum up reasons why one might be more likely to get a ticket; and some of their data show that certain vehicle makes and models, more notably the expensive and luxurious make and models, receive more speeding tickets [1]. There is also a well known statistic that red colored cars get pulled over more than others, which is most likely related to its high visibility over other colored cars [2].\n",
        "\n",
        "> With this in mind, we supposed there can be a possible correlation to be found. As we hypothesized, we believe that cars of certain visible attributes like color or make can possibly increase their likelihood of receiving a ticket in comparison to other vehicles which may not attract as much attention. We believe this is important because we want to see if there are possible implicit biases in how parking enforcement gives out violations. This data could help better inform people before choosing a car to buy, if they care or to just find an interesting relationship to human cognition and how perception alters thinking.\n",
        "  \n",
        "> ### References\n",
        "\n",
        ">> 1) https://www.more.com/lifestyle/6-things-almost-guarantee-speeding-ticket\n",
        "\n",
        ">> 2) http://www.brettrics.com/9-million-parking-tickets-la/\n"
      ]
    },
    {
      "metadata": {
        "id": "h6xT0cVupz-b",
        "colab_type": "text"
      },
      "cell_type": "markdown",
      "source": [
        "# Data Description\n",
        "\n",
        "Dataset Name: Los Angeles Parking Citations\n",
        "\n",
        ">The dataset consists of 19 variables based on the information on the ticket slip. This includes ticket date, issue time, meter id, make, body style, color, location, route, agency, violation code, violation description, fine amount, and location data.\n",
        "\n",
        "> Link to the dataset: https://data.lacity.org/A-Well-Run-City/Parking-Citations/wjz9-h9np\n",
        "\n",
        "> Kaggle link: https://www.kaggle.com/cityofLA/los-angeles-parking-citations"
      ]
    },
    {
      "metadata": {
        "id": "cx_t_OOpp59H",
        "colab_type": "text"
      },
      "cell_type": "markdown",
      "source": [
        "# Data Cleaning / Pre Processing"
      ]
    },
    {
      "metadata": {
        "id": "A-6xETgjqfMg",
        "colab_type": "code",
        "outputId": "e424f616-ec45-41b9-b0cd-e9bf5879906d",
        "colab": {
          "base_uri": "https://localhost:8080/",
          "height": 71
        }
      },
      "cell_type": "code",
      "source": [
        "# Imports -  These are all you need for the assignment: do not import additional packages\n",
        "%matplotlib inline\n",
        "\n",
        "import numpy as np\n",
        "import pandas as pd\n",
        "import matplotlib.pyplot as plt\n",
        "\n",
        "import patsy\n",
        "import statsmodels.api as sm\n",
        "import scipy.stats as stats\n",
        "from scipy.stats import ttest_ind, chisquare, normaltest"
      ],
      "execution_count": 0,
      "outputs": [
        {
          "output_type": "stream",
          "text": [
            "/usr/local/lib/python3.6/dist-packages/statsmodels/compat/pandas.py:56: FutureWarning: The pandas.core.datetools module is deprecated and will be removed in a future version. Please use the pandas.tseries module instead.\n",
            "  from pandas.core import datetools\n"
          ],
          "name": "stderr"
        }
      ]
    },
    {
      "metadata": {
        "id": "b4M-BssTrDia",
        "colab_type": "code",
        "outputId": "0febb5f1-d91d-4a9d-a844-1a1a9e185202",
        "colab": {
          "base_uri": "https://localhost:8080/",
          "height": 343
        }
      },
      "cell_type": "code",
      "source": [
        "#read parking citations(PC) file\n",
        "PC_df = pd.read_csv(\"parking-citations.csv\")\n",
        "\n",
        "#read agency codes(AC) file\n",
        "#AC_df = pd.read_csv(\"LADOT-Xerox Crib Sheet Agency Codes 12-31-2015 (1).csv p\")\n",
        "\n",
        "PC_df.head()"
      ],
      "execution_count": 0,
      "outputs": [
        {
          "output_type": "execute_result",
          "data": {
            "text/html": [
              "<div>\n",
              "<style scoped>\n",
              "    .dataframe tbody tr th:only-of-type {\n",
              "        vertical-align: middle;\n",
              "    }\n",
              "\n",
              "    .dataframe tbody tr th {\n",
              "        vertical-align: top;\n",
              "    }\n",
              "\n",
              "    .dataframe thead th {\n",
              "        text-align: right;\n",
              "    }\n",
              "</style>\n",
              "<table border=\"1\" class=\"dataframe\">\n",
              "  <thead>\n",
              "    <tr style=\"text-align: right;\">\n",
              "      <th></th>\n",
              "      <th>Ticket number</th>\n",
              "      <th>Issue Date</th>\n",
              "      <th>Issue time</th>\n",
              "      <th>Meter Id</th>\n",
              "      <th>Marked Time</th>\n",
              "      <th>RP State Plate</th>\n",
              "      <th>Plate Expiry Date</th>\n",
              "      <th>VIN</th>\n",
              "      <th>Make</th>\n",
              "      <th>Body Style</th>\n",
              "      <th>Color</th>\n",
              "      <th>Location</th>\n",
              "      <th>Route</th>\n",
              "      <th>Agency</th>\n",
              "      <th>Violation code</th>\n",
              "      <th>Violation Description</th>\n",
              "      <th>Fine amount</th>\n",
              "      <th>Latitude</th>\n",
              "      <th>Longitude</th>\n",
              "    </tr>\n",
              "  </thead>\n",
              "  <tbody>\n",
              "    <tr>\n",
              "      <th>0</th>\n",
              "      <td>1103341116</td>\n",
              "      <td>2015-12-21T00:00:00</td>\n",
              "      <td>1251.0</td>\n",
              "      <td>NaN</td>\n",
              "      <td>NaN</td>\n",
              "      <td>CA</td>\n",
              "      <td>200304.0</td>\n",
              "      <td>NaN</td>\n",
              "      <td>HOND</td>\n",
              "      <td>PA</td>\n",
              "      <td>GY</td>\n",
              "      <td>13147 WELBY WAY</td>\n",
              "      <td>01521</td>\n",
              "      <td>1.0</td>\n",
              "      <td>4000A1</td>\n",
              "      <td>NO EVIDENCE OF REG</td>\n",
              "      <td>50.0</td>\n",
              "      <td>99999.0</td>\n",
              "      <td>99999.0</td>\n",
              "    </tr>\n",
              "    <tr>\n",
              "      <th>1</th>\n",
              "      <td>1103700150</td>\n",
              "      <td>2015-12-21T00:00:00</td>\n",
              "      <td>1435.0</td>\n",
              "      <td>NaN</td>\n",
              "      <td>NaN</td>\n",
              "      <td>CA</td>\n",
              "      <td>201512.0</td>\n",
              "      <td>NaN</td>\n",
              "      <td>GMC</td>\n",
              "      <td>VN</td>\n",
              "      <td>WH</td>\n",
              "      <td>525 S MAIN ST</td>\n",
              "      <td>1C51</td>\n",
              "      <td>1.0</td>\n",
              "      <td>4000A1</td>\n",
              "      <td>NO EVIDENCE OF REG</td>\n",
              "      <td>50.0</td>\n",
              "      <td>99999.0</td>\n",
              "      <td>99999.0</td>\n",
              "    </tr>\n",
              "    <tr>\n",
              "      <th>2</th>\n",
              "      <td>1104803000</td>\n",
              "      <td>2015-12-21T00:00:00</td>\n",
              "      <td>2055.0</td>\n",
              "      <td>NaN</td>\n",
              "      <td>NaN</td>\n",
              "      <td>CA</td>\n",
              "      <td>201503.0</td>\n",
              "      <td>NaN</td>\n",
              "      <td>NISS</td>\n",
              "      <td>PA</td>\n",
              "      <td>BK</td>\n",
              "      <td>200 WORLD WAY</td>\n",
              "      <td>2R2</td>\n",
              "      <td>2.0</td>\n",
              "      <td>8939</td>\n",
              "      <td>WHITE CURB</td>\n",
              "      <td>58.0</td>\n",
              "      <td>6439997.9</td>\n",
              "      <td>1802686.4</td>\n",
              "    </tr>\n",
              "    <tr>\n",
              "      <th>3</th>\n",
              "      <td>1104820732</td>\n",
              "      <td>2015-12-26T00:00:00</td>\n",
              "      <td>1515.0</td>\n",
              "      <td>NaN</td>\n",
              "      <td>NaN</td>\n",
              "      <td>CA</td>\n",
              "      <td>NaN</td>\n",
              "      <td>NaN</td>\n",
              "      <td>ACUR</td>\n",
              "      <td>PA</td>\n",
              "      <td>WH</td>\n",
              "      <td>100 WORLD WAY</td>\n",
              "      <td>2F11</td>\n",
              "      <td>2.0</td>\n",
              "      <td>000</td>\n",
              "      <td>17104h</td>\n",
              "      <td>NaN</td>\n",
              "      <td>6440041.1</td>\n",
              "      <td>1802686.2</td>\n",
              "    </tr>\n",
              "    <tr>\n",
              "      <th>4</th>\n",
              "      <td>1105461453</td>\n",
              "      <td>2015-09-15T00:00:00</td>\n",
              "      <td>115.0</td>\n",
              "      <td>NaN</td>\n",
              "      <td>NaN</td>\n",
              "      <td>CA</td>\n",
              "      <td>200316.0</td>\n",
              "      <td>NaN</td>\n",
              "      <td>CHEV</td>\n",
              "      <td>PA</td>\n",
              "      <td>BK</td>\n",
              "      <td>GEORGIA ST/OLYMPIC</td>\n",
              "      <td>1FB70</td>\n",
              "      <td>1.0</td>\n",
              "      <td>8069A</td>\n",
              "      <td>NO STOPPING/STANDING</td>\n",
              "      <td>93.0</td>\n",
              "      <td>99999.0</td>\n",
              "      <td>99999.0</td>\n",
              "    </tr>\n",
              "  </tbody>\n",
              "</table>\n",
              "</div>"
            ],
            "text/plain": [
              "   Ticket number           Issue Date  Issue time Meter Id  Marked Time  \\\n",
              "0     1103341116  2015-12-21T00:00:00      1251.0      NaN          NaN   \n",
              "1     1103700150  2015-12-21T00:00:00      1435.0      NaN          NaN   \n",
              "2     1104803000  2015-12-21T00:00:00      2055.0      NaN          NaN   \n",
              "3     1104820732  2015-12-26T00:00:00      1515.0      NaN          NaN   \n",
              "4     1105461453  2015-09-15T00:00:00       115.0      NaN          NaN   \n",
              "\n",
              "  RP State Plate  Plate Expiry Date  VIN  Make Body Style Color  \\\n",
              "0             CA           200304.0  NaN  HOND         PA    GY   \n",
              "1             CA           201512.0  NaN   GMC         VN    WH   \n",
              "2             CA           201503.0  NaN  NISS         PA    BK   \n",
              "3             CA                NaN  NaN  ACUR         PA    WH   \n",
              "4             CA           200316.0  NaN  CHEV         PA    BK   \n",
              "\n",
              "             Location  Route  Agency Violation code Violation Description  \\\n",
              "0     13147 WELBY WAY  01521     1.0         4000A1    NO EVIDENCE OF REG   \n",
              "1       525 S MAIN ST   1C51     1.0         4000A1    NO EVIDENCE OF REG   \n",
              "2       200 WORLD WAY    2R2     2.0           8939            WHITE CURB   \n",
              "3       100 WORLD WAY   2F11     2.0            000                17104h   \n",
              "4  GEORGIA ST/OLYMPIC  1FB70     1.0          8069A  NO STOPPING/STANDING   \n",
              "\n",
              "   Fine amount   Latitude  Longitude  \n",
              "0         50.0    99999.0    99999.0  \n",
              "1         50.0    99999.0    99999.0  \n",
              "2         58.0  6439997.9  1802686.4  \n",
              "3          NaN  6440041.1  1802686.2  \n",
              "4         93.0    99999.0    99999.0  "
            ]
          },
          "metadata": {
            "tags": []
          },
          "execution_count": 3
        }
      ]
    },
    {
      "metadata": {
        "id": "MHGP5yaY1U0g",
        "colab_type": "code",
        "outputId": "e37907aa-efc6-4b41-a707-98d1029402dc",
        "colab": {
          "base_uri": "https://localhost:8080/",
          "height": 204
        }
      },
      "cell_type": "code",
      "source": [
        "#remove unnecessary columns\n",
        "PC_df = PC_df.drop(['Ticket number', 'Issue Date', 'Issue time', 'Meter Id', 'Marked Time', 'RP State Plate', 'Plate Expiry Date', 'VIN', 'Location', 'Route', 'Fine amount', 'Latitude', 'Longitude'], axis=1)\n",
        "\n",
        "PC_df.head()\n"
      ],
      "execution_count": 0,
      "outputs": [
        {
          "output_type": "execute_result",
          "data": {
            "text/html": [
              "<div>\n",
              "<style scoped>\n",
              "    .dataframe tbody tr th:only-of-type {\n",
              "        vertical-align: middle;\n",
              "    }\n",
              "\n",
              "    .dataframe tbody tr th {\n",
              "        vertical-align: top;\n",
              "    }\n",
              "\n",
              "    .dataframe thead th {\n",
              "        text-align: right;\n",
              "    }\n",
              "</style>\n",
              "<table border=\"1\" class=\"dataframe\">\n",
              "  <thead>\n",
              "    <tr style=\"text-align: right;\">\n",
              "      <th></th>\n",
              "      <th>Make</th>\n",
              "      <th>Body Style</th>\n",
              "      <th>Color</th>\n",
              "      <th>Agency</th>\n",
              "      <th>Violation code</th>\n",
              "      <th>Violation Description</th>\n",
              "    </tr>\n",
              "  </thead>\n",
              "  <tbody>\n",
              "    <tr>\n",
              "      <th>0</th>\n",
              "      <td>HOND</td>\n",
              "      <td>PA</td>\n",
              "      <td>GY</td>\n",
              "      <td>1.0</td>\n",
              "      <td>4000A1</td>\n",
              "      <td>NO EVIDENCE OF REG</td>\n",
              "    </tr>\n",
              "    <tr>\n",
              "      <th>1</th>\n",
              "      <td>GMC</td>\n",
              "      <td>VN</td>\n",
              "      <td>WH</td>\n",
              "      <td>1.0</td>\n",
              "      <td>4000A1</td>\n",
              "      <td>NO EVIDENCE OF REG</td>\n",
              "    </tr>\n",
              "    <tr>\n",
              "      <th>2</th>\n",
              "      <td>NISS</td>\n",
              "      <td>PA</td>\n",
              "      <td>BK</td>\n",
              "      <td>2.0</td>\n",
              "      <td>8939</td>\n",
              "      <td>WHITE CURB</td>\n",
              "    </tr>\n",
              "    <tr>\n",
              "      <th>3</th>\n",
              "      <td>ACUR</td>\n",
              "      <td>PA</td>\n",
              "      <td>WH</td>\n",
              "      <td>2.0</td>\n",
              "      <td>000</td>\n",
              "      <td>17104h</td>\n",
              "    </tr>\n",
              "    <tr>\n",
              "      <th>4</th>\n",
              "      <td>CHEV</td>\n",
              "      <td>PA</td>\n",
              "      <td>BK</td>\n",
              "      <td>1.0</td>\n",
              "      <td>8069A</td>\n",
              "      <td>NO STOPPING/STANDING</td>\n",
              "    </tr>\n",
              "  </tbody>\n",
              "</table>\n",
              "</div>"
            ],
            "text/plain": [
              "   Make Body Style Color  Agency Violation code Violation Description\n",
              "0  HOND         PA    GY     1.0         4000A1    NO EVIDENCE OF REG\n",
              "1   GMC         VN    WH     1.0         4000A1    NO EVIDENCE OF REG\n",
              "2  NISS         PA    BK     2.0           8939            WHITE CURB\n",
              "3  ACUR         PA    WH     2.0            000                17104h\n",
              "4  CHEV         PA    BK     1.0          8069A  NO STOPPING/STANDING"
            ]
          },
          "metadata": {
            "tags": []
          },
          "execution_count": 4
        }
      ]
    },
    {
      "metadata": {
        "id": "nZyYsDZBzrNE",
        "colab_type": "code",
        "outputId": "77cbd2be-0548-4f0d-b6e8-7f4d99af2340",
        "colab": {
          "base_uri": "https://localhost:8080/",
          "height": 456
        }
      },
      "cell_type": "code",
      "source": [
        "PC_df.loc[PC_df[PC_df['Agency'] == 1.0, ['Color']]]"
      ],
      "execution_count": 0,
      "outputs": [
        {
          "output_type": "stream",
          "text": [
            "/usr/local/lib/python3.6/dist-packages/pandas/core/ops.py:816: FutureWarning: elementwise comparison failed; returning scalar instead, but in the future will perform elementwise comparison\n",
            "  result = getattr(x, name)(y)\n"
          ],
          "name": "stderr"
        },
        {
          "output_type": "error",
          "ename": "TypeError",
          "evalue": "ignored",
          "traceback": [
            "\u001b[0;31m---------------------------------------------------------------------------\u001b[0m",
            "\u001b[0;31mTypeError\u001b[0m                                 Traceback (most recent call last)",
            "\u001b[0;32m<ipython-input-6-d2e804e919da>\u001b[0m in \u001b[0;36m<module>\u001b[0;34m()\u001b[0m\n\u001b[0;32m----> 1\u001b[0;31m \u001b[0mPC_df\u001b[0m\u001b[0;34m.\u001b[0m\u001b[0mloc\u001b[0m\u001b[0;34m[\u001b[0m\u001b[0mPC_df\u001b[0m\u001b[0;34m[\u001b[0m\u001b[0mPC_df\u001b[0m\u001b[0;34m[\u001b[0m\u001b[0;34m'Agency'\u001b[0m\u001b[0;34m]\u001b[0m \u001b[0;34m==\u001b[0m \u001b[0;34m'1.0'\u001b[0m\u001b[0;34m,\u001b[0m \u001b[0;34m[\u001b[0m\u001b[0;34m'Color'\u001b[0m\u001b[0;34m]\u001b[0m\u001b[0;34m]\u001b[0m\u001b[0;34m]\u001b[0m\u001b[0;34m\u001b[0m\u001b[0;34m\u001b[0m\u001b[0m\n\u001b[0m",
            "\u001b[0;32m/usr/local/lib/python3.6/dist-packages/pandas/core/ops.py\u001b[0m in \u001b[0;36mwrapper\u001b[0;34m(self, other, axis)\u001b[0m\n\u001b[1;32m    877\u001b[0m \u001b[0;34m\u001b[0m\u001b[0m\n\u001b[1;32m    878\u001b[0m             \u001b[0;32mwith\u001b[0m \u001b[0mnp\u001b[0m\u001b[0;34m.\u001b[0m\u001b[0merrstate\u001b[0m\u001b[0;34m(\u001b[0m\u001b[0mall\u001b[0m\u001b[0;34m=\u001b[0m\u001b[0;34m'ignore'\u001b[0m\u001b[0;34m)\u001b[0m\u001b[0;34m:\u001b[0m\u001b[0;34m\u001b[0m\u001b[0;34m\u001b[0m\u001b[0m\n\u001b[0;32m--> 879\u001b[0;31m                 \u001b[0mres\u001b[0m \u001b[0;34m=\u001b[0m \u001b[0mna_op\u001b[0m\u001b[0;34m(\u001b[0m\u001b[0mvalues\u001b[0m\u001b[0;34m,\u001b[0m \u001b[0mother\u001b[0m\u001b[0;34m)\u001b[0m\u001b[0;34m\u001b[0m\u001b[0;34m\u001b[0m\u001b[0m\n\u001b[0m\u001b[1;32m    880\u001b[0m             \u001b[0;32mif\u001b[0m \u001b[0mis_scalar\u001b[0m\u001b[0;34m(\u001b[0m\u001b[0mres\u001b[0m\u001b[0;34m)\u001b[0m\u001b[0;34m:\u001b[0m\u001b[0;34m\u001b[0m\u001b[0;34m\u001b[0m\u001b[0m\n\u001b[1;32m    881\u001b[0m                 raise TypeError('Could not compare {typ} type with Series'\n",
            "\u001b[0;32m/usr/local/lib/python3.6/dist-packages/pandas/core/ops.py\u001b[0m in \u001b[0;36mna_op\u001b[0;34m(x, y)\u001b[0m\n\u001b[1;32m    816\u001b[0m                     \u001b[0mresult\u001b[0m \u001b[0;34m=\u001b[0m \u001b[0mgetattr\u001b[0m\u001b[0;34m(\u001b[0m\u001b[0mx\u001b[0m\u001b[0;34m,\u001b[0m \u001b[0mname\u001b[0m\u001b[0;34m)\u001b[0m\u001b[0;34m(\u001b[0m\u001b[0my\u001b[0m\u001b[0;34m)\u001b[0m\u001b[0;34m\u001b[0m\u001b[0;34m\u001b[0m\u001b[0m\n\u001b[1;32m    817\u001b[0m                 \u001b[0;32mif\u001b[0m \u001b[0mresult\u001b[0m \u001b[0;32mis\u001b[0m \u001b[0mNotImplemented\u001b[0m\u001b[0;34m:\u001b[0m\u001b[0;34m\u001b[0m\u001b[0;34m\u001b[0m\u001b[0m\n\u001b[0;32m--> 818\u001b[0;31m                     \u001b[0;32mraise\u001b[0m \u001b[0mTypeError\u001b[0m\u001b[0;34m(\u001b[0m\u001b[0;34m\"invalid type comparison\"\u001b[0m\u001b[0;34m)\u001b[0m\u001b[0;34m\u001b[0m\u001b[0;34m\u001b[0m\u001b[0m\n\u001b[0m\u001b[1;32m    819\u001b[0m             \u001b[0;32mexcept\u001b[0m \u001b[0mAttributeError\u001b[0m\u001b[0;34m:\u001b[0m\u001b[0;34m\u001b[0m\u001b[0;34m\u001b[0m\u001b[0m\n\u001b[1;32m    820\u001b[0m                 \u001b[0mresult\u001b[0m \u001b[0;34m=\u001b[0m \u001b[0mop\u001b[0m\u001b[0;34m(\u001b[0m\u001b[0mx\u001b[0m\u001b[0;34m,\u001b[0m \u001b[0my\u001b[0m\u001b[0;34m)\u001b[0m\u001b[0;34m\u001b[0m\u001b[0;34m\u001b[0m\u001b[0m\n",
            "\u001b[0;31mTypeError\u001b[0m: invalid type comparison"
          ]
        }
      ]
    },
    {
      "metadata": {
        "id": "MMpjkdjQ2JvJ",
        "colab_type": "text"
      },
      "cell_type": "markdown",
      "source": [
        "GY = grey\n",
        "WH = white\n",
        "BK = black\n",
        "BL = blue\n",
        "BR = brown\n",
        "SI = silver\n",
        "GO = gold\n",
        "RE = red\n",
        "MA = \n",
        "TA = \n",
        "BU = burgundy\n",
        "GR = green\n",
        "YE = yellow\n",
        "OR = orange\n",
        "WT = \n",
        "RD\n",
        "SL\n",
        "BN\n",
        "OT\n",
        "GN\n",
        "MR\n",
        "BG\n",
        "PR\n",
        "TN\n",
        "UN\n",
        "PK\n",
        "TU\n",
        "CO\n",
        "BE\n",
        "RU\n",
        "PU\n",
        "PL\n",
        "CR\n",
        "SN\n",
        "PE\n",
        "BZ\n",
        "PI\n",
        "ME\n",
        "CH\n",
        "TE\n",
        "LI\n",
        "MU"
      ]
    },
    {
      "metadata": {
        "id": "jnAaoE-n8dW0",
        "colab_type": "code",
        "colab": {}
      },
      "cell_type": "code",
      "source": [
        "#standardize colors function\n",
        "def standardize_colors(string):\n",
        "\n",
        "    string = string.lower()\n",
        "    string = string.strip()\n",
        "    \n",
        "    #edit below for colors\n",
        "    if \"cog\" in string:\n",
        "        output = \"COGSCI\"\n",
        "    elif \"computer\" in string:\n",
        "        output = \"COMPSCI\"\n",
        "    elif \"cs\" in string:\n",
        "        output = \"COMPSCI\"\n",
        "    elif \"math\" in string:\n",
        "        output = \"MATH\"\n",
        "    elif \"electrical\" in string:\n",
        "        output = \"ECE\"\n",
        "    elif \"bio\" in string:\n",
        "        output = \"BIO\"\n",
        "    elif \"chem\" in string:\n",
        "        output = \"CHEM\"\n",
        "    \n",
        "    #otherwise, keep as is\n",
        "    else:\n",
        "        output = string\n",
        "    \n",
        "    return output"
      ],
      "execution_count": 0,
      "outputs": []
    },
    {
      "metadata": {
        "id": "G3257UGjp-sB",
        "colab_type": "text"
      },
      "cell_type": "markdown",
      "source": [
        "# Data Visualization"
      ]
    },
    {
      "metadata": {
        "id": "1D9cD7aNw4kU",
        "colab_type": "text"
      },
      "cell_type": "markdown",
      "source": [
        "## Ideas\n",
        "\n",
        "> ### Graphs:\n",
        "\n",
        "> Color vs. # of tix\n",
        "\n",
        "> Model vs. # of tix\n",
        "\n",
        "> Color + model vs. # of tix\n",
        "\n",
        "> Color vs. type of tix\n",
        "\n",
        ">Model vs. type of tix\n",
        "\n",
        ">Color + model vs. type of tix\n",
        "\n",
        "\n",
        "\n",
        "\n"
      ]
    },
    {
      "metadata": {
        "id": "E8SoDWNnqBy_",
        "colab_type": "text"
      },
      "cell_type": "markdown",
      "source": [
        "# Data Analysis and Results"
      ]
    },
    {
      "metadata": {
        "id": "wTOU4NKlqFwq",
        "colab_type": "text"
      },
      "cell_type": "markdown",
      "source": [
        "# Privacy/Ethics Considerations"
      ]
    },
    {
      "metadata": {
        "id": "9ZTV84GV9HQ1",
        "colab_type": "text"
      },
      "cell_type": "markdown",
      "source": [
        "The data was posted on Kaggle’s data set page but the information is released to the public via DataLA, a public site maintained by the Los Angeles government. We have permission to use this data under the Open Database License. There are no privacy concerns in regard to the data. This data set is potentially biased in terms of who it composes for two reasons. The first is regional factors. For example if parking officials stay in a neighborhood where the parking restrictions are stricter then we would expect the models of the cars in that neighborhood to be over represented in the data set. The second reason is that some violations may be more for lower income individuals. For example we would expect lower income individuals to receive more expired registration violations because of their inability to afford registration. If we identify any of these issues, we can modify our research topic so that it does not include biased data. For example we will not analyze expired registration violations if we identify that the data is heavily skewed towards lower income models."
      ]
    },
    {
      "metadata": {
        "id": "8Kf9pL6HqL7b",
        "colab_type": "text"
      },
      "cell_type": "markdown",
      "source": [
        "# Conclusion and Discussion"
      ]
    }
  ]
}