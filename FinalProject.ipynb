{
 "cells": [
  {
   "cell_type": "markdown",
   "metadata": {
    "colab_type": "text",
    "id": "view-in-github"
   },
   "source": [
    "<a href=\"https://colab.research.google.com/github/johnny-tran/COGS108_repo/blob/master/FinalProject.ipynb\" target=\"_parent\"><img src=\"https://colab.research.google.com/assets/colab-badge.svg\" alt=\"Open In Colab\"/></a>"
   ]
  },
  {
   "cell_type": "markdown",
   "metadata": {
    "colab_type": "text",
    "id": "hVhwl3AXn178"
   },
   "source": [
    "# COGS 108 - Final Project"
   ]
  },
  {
   "cell_type": "markdown",
   "metadata": {
    "colab_type": "text",
    "id": "oP0Owgrsn18K"
   },
   "source": [
    "## Important\n",
    "\n",
    "- ONE, and only one, member of your group should upload this notebook to TritonED. \n",
    "- Each member of the group will receive the same grade on this assignment. \n",
    "- Keep the file name the same: submit the file 'FinalProject.ipynb'.\n",
    "- Only upload the .ipynb file to TED, do not upload any associted data. Make sure that for cells in which you want graders to see output that these cells have been executed."
   ]
  },
  {
   "cell_type": "markdown",
   "metadata": {
    "colab_type": "text",
    "id": "ZU7JBgGSn18R"
   },
   "source": [
    "## Group Members: Fill in the Student IDs of each group member here\n",
    "\n",
    "Replace the lines below to list each persons full student ID, ucsd email and full name.\n",
    "\n",
    "- A11888496 - L4truong@ucsd.edu - Loc Truong\n",
    "- A15352670 - t8wei@ucsd.edu - Timothy Wei\n",
    "- A14732783 - jpt017@ucsd.edu - Jonathan Tran\n",
    "- A11962666 - nnowain@ucsd.edu - Nathan Nowain\n",
    "- A14493674 - cvshanno@ucsd.edu - Collin Shannon\n",
    "\n"
   ]
  },
  {
   "cell_type": "markdown",
   "metadata": {
    "colab_type": "text",
    "id": "87QllbYgn18h"
   },
   "source": [
    "# Introduction and Background"
   ]
  },
  {
   "cell_type": "markdown",
   "metadata": {
    "colab_type": "text",
    "id": "VPQnE-eZtY8m"
   },
   "source": [
    "## Research Question\n",
    "\n",
    "> Are there any correlations to make/color/body type to violation types?\n",
    "How does visual appearance affect the likelihood of receiving a parking violation? Do certain makes/models or colors receive more tickets than expected?\n",
    "\n",
    "\n",
    "## Hypothesis\n",
    "\n",
    "> We predict that loud colors & higher end models have a higher chance of receiving violations.\n",
    "We hypothesize that visual appearance does affect the likelihood of receiving a parking violation. We expect that parking officials are more likely to notice cars that have loud colors and higher end models and thus more likely to give them a ticket.\n",
    "\n",
    "\n",
    "## Background\n",
    "\n",
    "> We believe that there are biases that are imposed from humans as they do their job, such as parking enforcement. There is a typically well known statement that cops and parking enforcement have to meet quotas monthly to keep them on goal as they do their job. Besides this commonly heard phenomena, is there also a possible data to show that some cars also get more tickets than others? With further research we found there are many articles online which sum up reasons why one might be more likely to get a ticket; and some of their data show that certain vehicle makes and models, more notably the expensive and luxurious make and models, receive more speeding tickets [1]. There is also a well known statistic that red colored cars get pulled over more than others, which is most likely related to its high visibility over other colored cars [2].\n",
    "\n",
    "> With this in mind, we supposed there can be a possible correlation to be found. As we hypothesized, we believe that cars of certain visible attributes like color or make can possibly increase their likelihood of receiving a ticket in comparison to other vehicles which may not attract as much attention. We believe this is important because we want to see if there are possible implicit biases in how parking enforcement gives out violations. This data could help better inform people before choosing a car to buy, if they care or to just find an interesting relationship to human cognition and how perception alters thinking.\n",
    "  \n",
    "> ### References\n",
    "\n",
    ">> 1) https://www.more.com/lifestyle/6-things-almost-guarantee-speeding-ticket\n",
    "\n",
    ">> 2) http://www.brettrics.com/9-million-parking-tickets-la/\n"
   ]
  },
  {
   "cell_type": "markdown",
   "metadata": {
    "colab_type": "text",
    "id": "h6xT0cVupz-b"
   },
   "source": [
    "# Data Description\n",
    "\n",
    "Dataset Name: Los Angeles Parking Citations\n",
    "\n",
    ">The dataset consists of 19 variables based on the information on the ticket slip. This includes ticket date, issue time, meter id, make, body style, color, location, route, agency, violation code, violation description, fine amount, and location data.\n",
    "\n",
    "> Link to the dataset: https://data.lacity.org/A-Well-Run-City/Parking-Citations/wjz9-h9np\n",
    "\n",
    "> Kaggle link: https://www.kaggle.com/cityofLA/los-angeles-parking-citations"
   ]
  },
  {
   "cell_type": "markdown",
   "metadata": {
    "colab_type": "text",
    "id": "cx_t_OOpp59H"
   },
   "source": [
    "# Import tools and libraries"
   ]
  },
  {
   "cell_type": "markdown",
   "metadata": {},
   "source": [
    "**Before we begin manipulating the data, we import necessary libraries.**"
   ]
  },
  {
   "cell_type": "code",
   "execution_count": 1,
   "metadata": {
    "colab": {
     "base_uri": "https://localhost:8080/",
     "height": 71
    },
    "colab_type": "code",
    "id": "A-6xETgjqfMg",
    "outputId": "e424f616-ec45-41b9-b0cd-e9bf5879906d"
   },
   "outputs": [
    {
     "name": "stdout",
     "output_type": "stream",
     "text": [
      "Requirement already satisfied: tabula-py in /Users/Johnny/anaconda3/lib/python3.7/site-packages (1.3.1)\r\n",
      "Requirement already satisfied: urllib3 in /Users/Johnny/anaconda3/lib/python3.7/site-packages (from tabula-py) (1.24.1)\r\n",
      "Requirement already satisfied: pandas in /Users/Johnny/anaconda3/lib/python3.7/site-packages (from tabula-py) (0.23.4)\r\n",
      "Requirement already satisfied: distro in /Users/Johnny/anaconda3/lib/python3.7/site-packages (from tabula-py) (1.4.0)\r\n",
      "Requirement already satisfied: numpy in /Users/Johnny/anaconda3/lib/python3.7/site-packages (from tabula-py) (1.15.4)\r\n",
      "Requirement already satisfied: python-dateutil>=2.5.0 in /Users/Johnny/anaconda3/lib/python3.7/site-packages (from pandas->tabula-py) (2.7.5)\r\n",
      "Requirement already satisfied: pytz>=2011k in /Users/Johnny/anaconda3/lib/python3.7/site-packages (from pandas->tabula-py) (2018.7)\r\n",
      "Requirement already satisfied: six>=1.5 in /Users/Johnny/anaconda3/lib/python3.7/site-packages (from python-dateutil>=2.5.0->pandas->tabula-py) (1.12.0)\r\n"
     ]
    }
   ],
   "source": [
    "# Imports\n",
    "%matplotlib inline\n",
    "\n",
    "import numpy as np\n",
    "import pandas as pd\n",
    "import io\n",
    "import requests\n",
    "import matplotlib.pyplot as plt\n",
    "\n",
    "import patsy\n",
    "import statsmodels.api as sm\n",
    "import scipy.stats as stats\n",
    "from scipy.stats import ttest_ind, chisquare, normaltest\n",
    "\n",
    "# read PDF via tabula\n",
    "import tabula\n",
    "!pip install tabula-py"
   ]
  },
  {
   "cell_type": "markdown",
   "metadata": {},
   "source": [
    "# Part 1: Vehicle Color"
   ]
  },
  {
   "cell_type": "markdown",
   "metadata": {
    "colab_type": "text",
    "id": "cx_t_OOpp59H"
   },
   "source": [
    "## *Data Cleaning / Pre Processing*"
   ]
  },
  {
   "cell_type": "markdown",
   "metadata": {},
   "source": [
    "**The main goal of our project is to determine any possible correlations between parking citations and vehicles. Here, we import our dataset from Los Angeles Parking Citations as a dataframe and we name it PC_df.**"
   ]
  },
  {
   "cell_type": "code",
   "execution_count": 2,
   "metadata": {
    "colab": {
     "base_uri": "https://localhost:8080/",
     "height": 343
    },
    "colab_type": "code",
    "id": "b4M-BssTrDia",
    "outputId": "0febb5f1-d91d-4a9d-a844-1a1a9e185202"
   },
   "outputs": [
    {
     "name": "stderr",
     "output_type": "stream",
     "text": [
      "/Users/Johnny/anaconda3/lib/python3.7/site-packages/IPython/core/interactiveshell.py:3020: DtypeWarning: Columns (0,7) have mixed types. Specify dtype option on import or set low_memory=False.\n",
      "  interactivity=interactivity, compiler=compiler, result=result)\n"
     ]
    },
    {
     "data": {
      "text/html": [
       "<div>\n",
       "<style scoped>\n",
       "    .dataframe tbody tr th:only-of-type {\n",
       "        vertical-align: middle;\n",
       "    }\n",
       "\n",
       "    .dataframe tbody tr th {\n",
       "        vertical-align: top;\n",
       "    }\n",
       "\n",
       "    .dataframe thead th {\n",
       "        text-align: right;\n",
       "    }\n",
       "</style>\n",
       "<table border=\"1\" class=\"dataframe\">\n",
       "  <thead>\n",
       "    <tr style=\"text-align: right;\">\n",
       "      <th></th>\n",
       "      <th>Ticket number</th>\n",
       "      <th>Issue Date</th>\n",
       "      <th>Issue time</th>\n",
       "      <th>Meter Id</th>\n",
       "      <th>Marked Time</th>\n",
       "      <th>RP State Plate</th>\n",
       "      <th>Plate Expiry Date</th>\n",
       "      <th>VIN</th>\n",
       "      <th>Make</th>\n",
       "      <th>Body Style</th>\n",
       "      <th>Color</th>\n",
       "      <th>Location</th>\n",
       "      <th>Route</th>\n",
       "      <th>Agency</th>\n",
       "      <th>Violation code</th>\n",
       "      <th>Violation Description</th>\n",
       "      <th>Fine amount</th>\n",
       "      <th>Latitude</th>\n",
       "      <th>Longitude</th>\n",
       "    </tr>\n",
       "  </thead>\n",
       "  <tbody>\n",
       "    <tr>\n",
       "      <th>0</th>\n",
       "      <td>1103341116</td>\n",
       "      <td>2015-12-21T00:00:00</td>\n",
       "      <td>1251.0</td>\n",
       "      <td>NaN</td>\n",
       "      <td>NaN</td>\n",
       "      <td>CA</td>\n",
       "      <td>200304.0</td>\n",
       "      <td>NaN</td>\n",
       "      <td>HOND</td>\n",
       "      <td>PA</td>\n",
       "      <td>GY</td>\n",
       "      <td>13147 WELBY WAY</td>\n",
       "      <td>01521</td>\n",
       "      <td>1.0</td>\n",
       "      <td>4000A1</td>\n",
       "      <td>NO EVIDENCE OF REG</td>\n",
       "      <td>50.0</td>\n",
       "      <td>99999.0</td>\n",
       "      <td>99999.0</td>\n",
       "    </tr>\n",
       "    <tr>\n",
       "      <th>1</th>\n",
       "      <td>1103700150</td>\n",
       "      <td>2015-12-21T00:00:00</td>\n",
       "      <td>1435.0</td>\n",
       "      <td>NaN</td>\n",
       "      <td>NaN</td>\n",
       "      <td>CA</td>\n",
       "      <td>201512.0</td>\n",
       "      <td>NaN</td>\n",
       "      <td>GMC</td>\n",
       "      <td>VN</td>\n",
       "      <td>WH</td>\n",
       "      <td>525 S MAIN ST</td>\n",
       "      <td>1C51</td>\n",
       "      <td>1.0</td>\n",
       "      <td>4000A1</td>\n",
       "      <td>NO EVIDENCE OF REG</td>\n",
       "      <td>50.0</td>\n",
       "      <td>99999.0</td>\n",
       "      <td>99999.0</td>\n",
       "    </tr>\n",
       "    <tr>\n",
       "      <th>2</th>\n",
       "      <td>1104803000</td>\n",
       "      <td>2015-12-21T00:00:00</td>\n",
       "      <td>2055.0</td>\n",
       "      <td>NaN</td>\n",
       "      <td>NaN</td>\n",
       "      <td>CA</td>\n",
       "      <td>201503.0</td>\n",
       "      <td>NaN</td>\n",
       "      <td>NISS</td>\n",
       "      <td>PA</td>\n",
       "      <td>BK</td>\n",
       "      <td>200 WORLD WAY</td>\n",
       "      <td>2R2</td>\n",
       "      <td>2.0</td>\n",
       "      <td>8939</td>\n",
       "      <td>WHITE CURB</td>\n",
       "      <td>58.0</td>\n",
       "      <td>6439997.9</td>\n",
       "      <td>1802686.4</td>\n",
       "    </tr>\n",
       "    <tr>\n",
       "      <th>3</th>\n",
       "      <td>1104820732</td>\n",
       "      <td>2015-12-26T00:00:00</td>\n",
       "      <td>1515.0</td>\n",
       "      <td>NaN</td>\n",
       "      <td>NaN</td>\n",
       "      <td>CA</td>\n",
       "      <td>NaN</td>\n",
       "      <td>NaN</td>\n",
       "      <td>ACUR</td>\n",
       "      <td>PA</td>\n",
       "      <td>WH</td>\n",
       "      <td>100 WORLD WAY</td>\n",
       "      <td>2F11</td>\n",
       "      <td>2.0</td>\n",
       "      <td>000</td>\n",
       "      <td>17104h</td>\n",
       "      <td>NaN</td>\n",
       "      <td>6440041.1</td>\n",
       "      <td>1802686.2</td>\n",
       "    </tr>\n",
       "    <tr>\n",
       "      <th>4</th>\n",
       "      <td>1105461453</td>\n",
       "      <td>2015-09-15T00:00:00</td>\n",
       "      <td>115.0</td>\n",
       "      <td>NaN</td>\n",
       "      <td>NaN</td>\n",
       "      <td>CA</td>\n",
       "      <td>200316.0</td>\n",
       "      <td>NaN</td>\n",
       "      <td>CHEV</td>\n",
       "      <td>PA</td>\n",
       "      <td>BK</td>\n",
       "      <td>GEORGIA ST/OLYMPIC</td>\n",
       "      <td>1FB70</td>\n",
       "      <td>1.0</td>\n",
       "      <td>8069A</td>\n",
       "      <td>NO STOPPING/STANDING</td>\n",
       "      <td>93.0</td>\n",
       "      <td>99999.0</td>\n",
       "      <td>99999.0</td>\n",
       "    </tr>\n",
       "  </tbody>\n",
       "</table>\n",
       "</div>"
      ],
      "text/plain": [
       "  Ticket number           Issue Date  Issue time Meter Id  Marked Time  \\\n",
       "0    1103341116  2015-12-21T00:00:00      1251.0      NaN          NaN   \n",
       "1    1103700150  2015-12-21T00:00:00      1435.0      NaN          NaN   \n",
       "2    1104803000  2015-12-21T00:00:00      2055.0      NaN          NaN   \n",
       "3    1104820732  2015-12-26T00:00:00      1515.0      NaN          NaN   \n",
       "4    1105461453  2015-09-15T00:00:00       115.0      NaN          NaN   \n",
       "\n",
       "  RP State Plate  Plate Expiry Date  VIN  Make Body Style Color  \\\n",
       "0             CA           200304.0  NaN  HOND         PA    GY   \n",
       "1             CA           201512.0  NaN   GMC         VN    WH   \n",
       "2             CA           201503.0  NaN  NISS         PA    BK   \n",
       "3             CA                NaN  NaN  ACUR         PA    WH   \n",
       "4             CA           200316.0  NaN  CHEV         PA    BK   \n",
       "\n",
       "             Location  Route  Agency Violation code Violation Description  \\\n",
       "0     13147 WELBY WAY  01521     1.0         4000A1    NO EVIDENCE OF REG   \n",
       "1       525 S MAIN ST   1C51     1.0         4000A1    NO EVIDENCE OF REG   \n",
       "2       200 WORLD WAY    2R2     2.0           8939            WHITE CURB   \n",
       "3       100 WORLD WAY   2F11     2.0            000                17104h   \n",
       "4  GEORGIA ST/OLYMPIC  1FB70     1.0          8069A  NO STOPPING/STANDING   \n",
       "\n",
       "   Fine amount   Latitude  Longitude  \n",
       "0         50.0    99999.0    99999.0  \n",
       "1         50.0    99999.0    99999.0  \n",
       "2         58.0  6439997.9  1802686.4  \n",
       "3          NaN  6440041.1  1802686.2  \n",
       "4         93.0    99999.0    99999.0  "
      ]
     },
     "execution_count": 2,
     "metadata": {},
     "output_type": "execute_result"
    }
   ],
   "source": [
    "# read parking citations(PC) file\n",
    "PC_df = pd.read_csv('parking-citations.csv')\n",
    "PC_df.head()\n"
   ]
  },
  {
   "cell_type": "markdown",
   "metadata": {},
   "source": [
    "**We also import and interpret the agency codes found in PC_df into a dataframe called AC_df. Because the agency code dataset is a pdf, we utilize the imported tabula tool.**"
   ]
  },
  {
   "cell_type": "code",
   "execution_count": 3,
   "metadata": {},
   "outputs": [
    {
     "data": {
      "text/html": [
       "<div>\n",
       "<style scoped>\n",
       "    .dataframe tbody tr th:only-of-type {\n",
       "        vertical-align: middle;\n",
       "    }\n",
       "\n",
       "    .dataframe tbody tr th {\n",
       "        vertical-align: top;\n",
       "    }\n",
       "\n",
       "    .dataframe thead th {\n",
       "        text-align: right;\n",
       "    }\n",
       "</style>\n",
       "<table border=\"1\" class=\"dataframe\">\n",
       "  <thead>\n",
       "    <tr style=\"text-align: right;\">\n",
       "      <th></th>\n",
       "      <th>CODE</th>\n",
       "      <th>AGENCY NAME</th>\n",
       "      <th>NAME</th>\n",
       "    </tr>\n",
       "  </thead>\n",
       "  <tbody>\n",
       "    <tr>\n",
       "      <th>1</th>\n",
       "      <td>1</td>\n",
       "      <td>WESTERN</td>\n",
       "      <td>WESTERN</td>\n",
       "    </tr>\n",
       "    <tr>\n",
       "      <th>2</th>\n",
       "      <td>2</td>\n",
       "      <td>LAX CURRENT</td>\n",
       "      <td>LAX CUR</td>\n",
       "    </tr>\n",
       "    <tr>\n",
       "      <th>3</th>\n",
       "      <td>3</td>\n",
       "      <td>VALLEY</td>\n",
       "      <td>VALLEY</td>\n",
       "    </tr>\n",
       "    <tr>\n",
       "      <th>4</th>\n",
       "      <td>4</td>\n",
       "      <td>HOLLYWOOD</td>\n",
       "      <td>HOLLYWOOD</td>\n",
       "    </tr>\n",
       "    <tr>\n",
       "      <th>5</th>\n",
       "      <td>5</td>\n",
       "      <td>SOUTHERN</td>\n",
       "      <td>SOUTHERN</td>\n",
       "    </tr>\n",
       "  </tbody>\n",
       "</table>\n",
       "</div>"
      ],
      "text/plain": [
       "0 CODE  AGENCY NAME       NAME\n",
       "1    1      WESTERN    WESTERN\n",
       "2    2  LAX CURRENT    LAX CUR\n",
       "3    3       VALLEY     VALLEY\n",
       "4    4    HOLLYWOOD  HOLLYWOOD\n",
       "5    5     SOUTHERN   SOUTHERN"
      ]
     },
     "execution_count": 3,
     "metadata": {},
     "output_type": "execute_result"
    }
   ],
   "source": [
    "# read agency codes(AC) file\n",
    "from tabula import read_pdf\n",
    "AC_df = read_pdf('LADOT-Xerox Crib Sheet Agency Codes 12-31-2015.pdf')\n",
    "\n",
    "# set header to top row\n",
    "new_header = AC_df.iloc[0]\n",
    "AC_df = AC_df[1:]\n",
    "AC_df.columns = new_header\n",
    "\n",
    "# print head to check\n",
    "AC_df.head()\n"
   ]
  },
  {
   "cell_type": "markdown",
   "metadata": {},
   "source": [
    "**The main goal for our project is to analyze correlations between vehicle color, make, and parking citations given. We clean up our data by removing unnecessary columns and by dropping any rows with missing data.**"
   ]
  },
  {
   "cell_type": "code",
   "execution_count": 4,
   "metadata": {
    "colab": {
     "base_uri": "https://localhost:8080/",
     "height": 204
    },
    "colab_type": "code",
    "id": "MHGP5yaY1U0g",
    "outputId": "e37907aa-efc6-4b41-a707-98d1029402dc"
   },
   "outputs": [
    {
     "data": {
      "text/html": [
       "<div>\n",
       "<style scoped>\n",
       "    .dataframe tbody tr th:only-of-type {\n",
       "        vertical-align: middle;\n",
       "    }\n",
       "\n",
       "    .dataframe tbody tr th {\n",
       "        vertical-align: top;\n",
       "    }\n",
       "\n",
       "    .dataframe thead th {\n",
       "        text-align: right;\n",
       "    }\n",
       "</style>\n",
       "<table border=\"1\" class=\"dataframe\">\n",
       "  <thead>\n",
       "    <tr style=\"text-align: right;\">\n",
       "      <th></th>\n",
       "      <th>Make</th>\n",
       "      <th>Body Style</th>\n",
       "      <th>Color</th>\n",
       "      <th>Agency</th>\n",
       "      <th>Violation code</th>\n",
       "      <th>Violation Description</th>\n",
       "    </tr>\n",
       "  </thead>\n",
       "  <tbody>\n",
       "    <tr>\n",
       "      <th>0</th>\n",
       "      <td>HOND</td>\n",
       "      <td>PA</td>\n",
       "      <td>GY</td>\n",
       "      <td>1.0</td>\n",
       "      <td>4000A1</td>\n",
       "      <td>NO EVIDENCE OF REG</td>\n",
       "    </tr>\n",
       "    <tr>\n",
       "      <th>1</th>\n",
       "      <td>GMC</td>\n",
       "      <td>VN</td>\n",
       "      <td>WH</td>\n",
       "      <td>1.0</td>\n",
       "      <td>4000A1</td>\n",
       "      <td>NO EVIDENCE OF REG</td>\n",
       "    </tr>\n",
       "    <tr>\n",
       "      <th>2</th>\n",
       "      <td>NISS</td>\n",
       "      <td>PA</td>\n",
       "      <td>BK</td>\n",
       "      <td>2.0</td>\n",
       "      <td>8939</td>\n",
       "      <td>WHITE CURB</td>\n",
       "    </tr>\n",
       "    <tr>\n",
       "      <th>3</th>\n",
       "      <td>ACUR</td>\n",
       "      <td>PA</td>\n",
       "      <td>WH</td>\n",
       "      <td>2.0</td>\n",
       "      <td>000</td>\n",
       "      <td>17104h</td>\n",
       "    </tr>\n",
       "    <tr>\n",
       "      <th>4</th>\n",
       "      <td>CHEV</td>\n",
       "      <td>PA</td>\n",
       "      <td>BK</td>\n",
       "      <td>1.0</td>\n",
       "      <td>8069A</td>\n",
       "      <td>NO STOPPING/STANDING</td>\n",
       "    </tr>\n",
       "  </tbody>\n",
       "</table>\n",
       "</div>"
      ],
      "text/plain": [
       "   Make Body Style Color  Agency Violation code Violation Description\n",
       "0  HOND         PA    GY     1.0         4000A1    NO EVIDENCE OF REG\n",
       "1   GMC         VN    WH     1.0         4000A1    NO EVIDENCE OF REG\n",
       "2  NISS         PA    BK     2.0           8939            WHITE CURB\n",
       "3  ACUR         PA    WH     2.0            000                17104h\n",
       "4  CHEV         PA    BK     1.0          8069A  NO STOPPING/STANDING"
      ]
     },
     "execution_count": 4,
     "metadata": {},
     "output_type": "execute_result"
    }
   ],
   "source": [
    "# remove unnecessary columns\n",
    "PC_df = PC_df.drop(['Ticket number', 'Issue Date', 'Issue time', 'Meter Id', 'Marked Time', 'RP State Plate', 'Plate Expiry Date', 'VIN', 'Location', 'Route', 'Fine amount', 'Latitude', 'Longitude'], axis=1)\n",
    "\n",
    "#drop rows with nan\n",
    "PC_df = PC_df.dropna(axis=0)\n",
    "\n",
    "PC_df.head()\n"
   ]
  },
  {
   "cell_type": "markdown",
   "metadata": {},
   "source": [
    "**We will then extract all the unique agencies in PC_df and count them.**"
   ]
  },
  {
   "cell_type": "code",
   "execution_count": 5,
   "metadata": {
    "colab": {
     "base_uri": "https://localhost:8080/",
     "height": 456
    },
    "colab_type": "code",
    "id": "nZyYsDZBzrNE",
    "outputId": "77cbd2be-0548-4f0d-b6e8-7f4d99af2340",
    "scrolled": true
   },
   "outputs": [
    {
     "name": "stdout",
     "output_type": "stream",
     "text": [
      "We are looking at citations from  44  different agencies in LA.\n"
     ]
    }
   ],
   "source": [
    "# find all unique counts of Agencies\n",
    "unique_agency_count = PC_df['Agency'].unique()\n",
    "agency_count = unique_agency_count.size\n",
    "\n",
    "print(\"We are looking at citations from \", agency_count,\n",
    "      \" different agencies in LA.\")\n"
   ]
  },
  {
   "cell_type": "markdown",
   "metadata": {},
   "source": [
    "**We first approached our dataset by analyzing vehicle color with the number of tickets received. Because various agencies may indicate vehicle color differently, we create a function called standardize_color to standardize the various colors into more general terms.**"
   ]
  },
  {
   "cell_type": "code",
   "execution_count": 6,
   "metadata": {},
   "outputs": [],
   "source": [
    "#standardize colors function\n",
    "def standardize_color(string):\n",
    "    \n",
    "    if \"GY\" in string:\n",
    "        output = \"GRAY\"\n",
    "    elif \"GR\" in string:\n",
    "        output = \"GRAY\"\n",
    "    elif \"WH\" in string:\n",
    "        output = \"WHITE\"\n",
    "    elif \"WT\" in string:\n",
    "        output = \"WHITE\"\n",
    "    elif \"BK\" in string:\n",
    "        output = \"BLACK\"\n",
    "    elif \"BL\" in string:\n",
    "        output = \"BLUE\"\n",
    "    elif \"BE\" in string:\n",
    "        output = \"BLUE\"\n",
    "    elif \"CO\" in string:\n",
    "        output = \"BLUE\"\n",
    "    elif \"BR\" in string:\n",
    "        output = \"BROWN\"\n",
    "    elif \"SI\" in string:\n",
    "        output = \"SILVER\"\n",
    "    elif \"SL\" in string:\n",
    "        output = \"SILVER\"\n",
    "    elif \"GO\" in string:\n",
    "        output = \"GOLD\"\n",
    "    elif \"RE\" in string:\n",
    "        output = \"RED\"\n",
    "    elif \"RD\" in string:\n",
    "        output = \"RED\"\n",
    "    elif \"BU\" in string:\n",
    "        output = \"RED\"\n",
    "    elif \"BG\" in string:\n",
    "        output = \"RED\"\n",
    "    elif \"ME\" in string:\n",
    "        output = \"RED\"\n",
    "    elif \"MR\" in string:\n",
    "        output = \"RED\"\n",
    "    elif \"MA\" in string:\n",
    "        output = \"RED\"\n",
    "    elif \"TA\" in string:\n",
    "        output = \"TAN\"\n",
    "    elif \"TN\" in string:\n",
    "        output = \"TAN\"\n",
    "    elif \"YE\" in string:\n",
    "        output = \"YELLOW\"\n",
    "    elif \"RD\" in string:\n",
    "        output = \"RED\"\n",
    "    elif \"OR\" in string:\n",
    "        output = \"ORANGE\"\n",
    "    elif \"OT\" in string:\n",
    "        output = \"ORANGE\"\n",
    "    elif \"BN\" in string:\n",
    "        output = \"BROWN\"\n",
    "    elif \"GN\" in string:\n",
    "        output = \"GREEN\"\n",
    "    elif \"PR\" in string:\n",
    "        output = \"PURPLE\"\n",
    "    elif \"PU\" in string:\n",
    "        output = \"PURPLE\"\n",
    "    elif \"PL\" in string:\n",
    "        output = \"PURPLE\"\n",
    "    elif \"PE\" in string:\n",
    "        output = \"PURPLE\"\n",
    "    elif \"TU\" in string:\n",
    "        output = \"BLUE\"\n",
    "    elif \"TE\" in string:\n",
    "        output = \"BLUE\"\n",
    "    elif \"TE\" in string:\n",
    "        output = \"BLUE\"\n",
    "    elif \"TE\" in string:\n",
    "        output = \"BLUE\"\n",
    "    elif \"GL\" in string:\n",
    "        output = \"GOLD\"\n",
    "    elif \"YL\" in string:\n",
    "        output = \"YELLOW\"\n",
    "    elif \"MU\" in string:\n",
    "        output = \"YELLOW\"\n",
    "    elif \"AQ\" in string:\n",
    "        output = \"BLUE\"\n",
    "    elif \"W\" in string:\n",
    "        output = \"WHITE\"\n",
    "    elif \"SA\" in string:\n",
    "        output = \"TAN\"\n",
    "    elif \"WI\" in string:\n",
    "        output = \"WHITE\"\n",
    "    elif \"TE\" in string:\n",
    "        output = \"BLUE\"\n",
    "    #otherwise, keep as is\n",
    "    else:\n",
    "        output = \"OTHER\"\n",
    "    \n",
    "    return output"
   ]
  },
  {
   "cell_type": "markdown",
   "metadata": {},
   "source": [
    "**We then apply standardize_color to our dataframe, PC_df, and verify that all the colors indicated have transformed.**"
   ]
  },
  {
   "cell_type": "code",
   "execution_count": 7,
   "metadata": {},
   "outputs": [
    {
     "data": {
      "text/html": [
       "<div>\n",
       "<style scoped>\n",
       "    .dataframe tbody tr th:only-of-type {\n",
       "        vertical-align: middle;\n",
       "    }\n",
       "\n",
       "    .dataframe tbody tr th {\n",
       "        vertical-align: top;\n",
       "    }\n",
       "\n",
       "    .dataframe thead th {\n",
       "        text-align: right;\n",
       "    }\n",
       "</style>\n",
       "<table border=\"1\" class=\"dataframe\">\n",
       "  <thead>\n",
       "    <tr style=\"text-align: right;\">\n",
       "      <th></th>\n",
       "      <th>Make</th>\n",
       "      <th>Body Style</th>\n",
       "      <th>Color</th>\n",
       "      <th>Agency</th>\n",
       "      <th>Violation code</th>\n",
       "      <th>Violation Description</th>\n",
       "    </tr>\n",
       "  </thead>\n",
       "  <tbody>\n",
       "    <tr>\n",
       "      <th>0</th>\n",
       "      <td>HOND</td>\n",
       "      <td>PA</td>\n",
       "      <td>GRAY</td>\n",
       "      <td>1.0</td>\n",
       "      <td>4000A1</td>\n",
       "      <td>NO EVIDENCE OF REG</td>\n",
       "    </tr>\n",
       "    <tr>\n",
       "      <th>1</th>\n",
       "      <td>GMC</td>\n",
       "      <td>VN</td>\n",
       "      <td>WHITE</td>\n",
       "      <td>1.0</td>\n",
       "      <td>4000A1</td>\n",
       "      <td>NO EVIDENCE OF REG</td>\n",
       "    </tr>\n",
       "    <tr>\n",
       "      <th>2</th>\n",
       "      <td>NISS</td>\n",
       "      <td>PA</td>\n",
       "      <td>BLACK</td>\n",
       "      <td>2.0</td>\n",
       "      <td>8939</td>\n",
       "      <td>WHITE CURB</td>\n",
       "    </tr>\n",
       "    <tr>\n",
       "      <th>3</th>\n",
       "      <td>ACUR</td>\n",
       "      <td>PA</td>\n",
       "      <td>WHITE</td>\n",
       "      <td>2.0</td>\n",
       "      <td>000</td>\n",
       "      <td>17104h</td>\n",
       "    </tr>\n",
       "    <tr>\n",
       "      <th>4</th>\n",
       "      <td>CHEV</td>\n",
       "      <td>PA</td>\n",
       "      <td>BLACK</td>\n",
       "      <td>1.0</td>\n",
       "      <td>8069A</td>\n",
       "      <td>NO STOPPING/STANDING</td>\n",
       "    </tr>\n",
       "  </tbody>\n",
       "</table>\n",
       "</div>"
      ],
      "text/plain": [
       "   Make Body Style  Color  Agency Violation code Violation Description\n",
       "0  HOND         PA   GRAY     1.0         4000A1    NO EVIDENCE OF REG\n",
       "1   GMC         VN  WHITE     1.0         4000A1    NO EVIDENCE OF REG\n",
       "2  NISS         PA  BLACK     2.0           8939            WHITE CURB\n",
       "3  ACUR         PA  WHITE     2.0            000                17104h\n",
       "4  CHEV         PA  BLACK     1.0          8069A  NO STOPPING/STANDING"
      ]
     },
     "execution_count": 7,
     "metadata": {},
     "output_type": "execute_result"
    }
   ],
   "source": [
    "# apply standardize_color function\n",
    "PC_df['Color'] = PC_df['Color'].apply(standardize_color)\n",
    "PC_df.head()"
   ]
  },
  {
   "cell_type": "markdown",
   "metadata": {
    "colab_type": "text",
    "id": "G3257UGjp-sB"
   },
   "source": [
    "## *Data Visualization*"
   ]
  },
  {
   "cell_type": "markdown",
   "metadata": {},
   "source": [
    "## Ideas\n",
    "\n",
    "> ### Graphs:\n",
    "\n",
    "> Color vs. # of tix\n",
    "\n",
    "> Model vs. # of tix\n",
    "\n",
    "> Color + model vs. # of tix\n",
    "\n",
    "> Color vs. type of tix\n",
    "\n",
    ">Model vs. type of tix\n",
    "\n",
    ">Color + model vs. type of tix"
   ]
  },
  {
   "cell_type": "markdown",
   "metadata": {},
   "source": [
    "**To visualize what we are working with so far, we count the number of values per color and place it on a bar and pie graph.**"
   ]
  },
  {
   "cell_type": "code",
   "execution_count": 8,
   "metadata": {},
   "outputs": [
    {
     "name": "stdout",
     "output_type": "stream",
     "text": [
      "WHITE     1922439\n",
      "BLACK     1892963\n",
      "GRAY      1722267\n",
      "SILVER    1155653\n",
      "BLUE       691872\n",
      "RED        631179\n",
      "GREEN      251813\n",
      "BROWN      179378\n",
      "GOLD       115200\n",
      "ORANGE      81073\n",
      "TAN         73429\n",
      "YELLOW      35544\n",
      "PURPLE      16929\n",
      "OTHER        8637\n",
      "Name: Color, dtype: int64\n"
     ]
    },
    {
     "data": {
      "text/plain": [
       "<matplotlib.axes._subplots.AxesSubplot at 0x1c17df8160>"
      ]
     },
     "execution_count": 8,
     "metadata": {},
     "output_type": "execute_result"
    },
    {
     "data": {
      "image/png": "[encoded data removed]",
      "text/plain": [
       "<Figure size 432x288 with 1 Axes>"
      ]
     },
     "metadata": {
      "needs_background": "light"
     },
     "output_type": "display_data"
    }
   ],
   "source": [
    "color = PC_df['Color']\n",
    "color_count = color.value_counts()\n",
    "\n",
    "print(color_count)\n",
    "\n",
    "color_count.plot(kind='bar')"
   ]
  },
  {
   "cell_type": "code",
   "execution_count": 9,
   "metadata": {},
   "outputs": [
    {
     "data": {
      "image/png": "[encoded data removed]",
      "text/plain": [
       "<Figure size 432x288 with 1 Axes>"
      ]
     },
     "metadata": {},
     "output_type": "display_data"
    }
   ],
   "source": [
    "color_pie_chart = color_count[:13].plot.pie(shadow=True, startangle=0, radius=2.3, autopct='%1.1f%%')\n",
    "\n",
    "title = plt.title('Vehicle Color Distribution', y=1.6)\n",
    "labels = 'White', 'Black', 'Gray', 'Silver', 'Blue', 'Red', 'Green', 'Brown', 'Gold', 'Orange', 'Tan', 'Yellow', 'Purple', 'Other'\n",
    "leg = plt.legend(labels,loc='upper right')\n",
    "\n",
    "bb = leg.get_bbox_to_anchor().inverse_transformed(color_pie_chart.transAxes)\n",
    "\n",
    "xOffset = 1.5\n",
    "bb.x0 += xOffset\n",
    "bb.x1 += xOffset\n",
    "leg.set_bbox_to_anchor(bb, transform = color_pie_chart.transAxes)\n"
   ]
  },
  {
   "cell_type": "markdown",
   "metadata": {},
   "source": [
    "The above bar graphs indicates that monochrome colors yield the most parking tickets in the city of Los Angeles. White, black, gray, and silver, account for most parking tickets. These four vehicle colors account for 76.3% of all parking tickets."
   ]
  },
  {
   "cell_type": "markdown",
   "metadata": {},
   "source": [
    "## *Data Analysis/Results*"
   ]
  },
  {
   "cell_type": "markdown",
   "metadata": {},
   "source": []
  },
  {
   "cell_type": "code",
   "execution_count": null,
   "metadata": {},
   "outputs": [],
   "source": []
  },
  {
   "cell_type": "markdown",
   "metadata": {},
   "source": [
    "# Part 2: Vehicle Make"
   ]
  },
  {
   "cell_type": "markdown",
   "metadata": {},
   "source": [
    "**Next, we perform the same process as we did for vehicle color for vehicle make."
   ]
  },
  {
   "cell_type": "code",
   "execution_count": 10,
   "metadata": {},
   "outputs": [],
   "source": [
    "# now we use the PC_df DataFrame instead of this \n",
    "\n",
    "#Tickets = pd.read_csv(\"parking-citations.csv\")"
   ]
  },
  {
   "cell_type": "markdown",
   "metadata": {},
   "source": [
    "## *Data Cleaning / Pre Processing*"
   ]
  },
  {
   "cell_type": "markdown",
   "metadata": {},
   "source": [
    "**We create a function that locates the vehicle codes and standardize them into vehicle makes. The vehicle codes that were indeterminate are left as is and missing values are changed to \"Other\".**"
   ]
  },
  {
   "cell_type": "code",
   "execution_count": 11,
   "metadata": {},
   "outputs": [],
   "source": [
    "# Tries to Standardize Models. Some four letter codes\n",
    "# we couldn't figure out and left them as is. NaN values\n",
    "# are changed to other\n",
    "def standardize_Model(string):\n",
    "    \n",
    "    if (pd.isnull(string)):\n",
    "        string = \"OTHER\"\n",
    "\n",
    "    if \"HOND\" in string:\n",
    "        output = \"HONDA\"\n",
    "    elif \"VN\" in string:\n",
    "        output = \"VANTAGE\"\n",
    "    elif \"KW\" in string:\n",
    "        output = \"KENWORTH\"\n",
    "    elif \"HD\" in string:\n",
    "        output = \"HARLEY DAVIDSON\"\n",
    "    elif \"VW\" in string:\n",
    "        output = \"VOLKSWAGEN\"\n",
    "    elif \"LR\" in string:\n",
    "        output = \"LAND ROVER\"\n",
    "    elif \"MB\" in string:\n",
    "        output = \"MERCEDES-BENZ\"\n",
    "    elif \"HON\" in string:\n",
    "        output = \"HONDA\"\n",
    "    elif \"SAA\" in string:\n",
    "        output = \"SAAB\"\n",
    "    elif \"ROL\" in string:\n",
    "        output = \"ROLLS-ROYCE\"\n",
    "    elif \"AUD\" in string:\n",
    "        output = \"AUDI\"\n",
    "    elif \"HNO\" in string:\n",
    "        output = \"HINO\"\n",
    "    elif \"INF\" in string:\n",
    "        output = \"INFINITI\"\n",
    "    elif \"MEZ\" in string:\n",
    "        output = \"MERCEDES-BENZ\"\n",
    "    elif \"LXS\" in string:\n",
    "        output = \"LEXUS\"\n",
    "    elif \"MRZ\" in string:\n",
    "        output = \"MERCEDES-BENZ\"\n",
    "    elif \"MZD\" in string:\n",
    "        output = \"MAZDA\"\n",
    "    elif \"ISU\" in string:\n",
    "        output = \"ISUZU\"\n",
    "    elif \"MIT\" in string:\n",
    "        output = \"MIT\"\n",
    "    elif \"LEX\" in string:\n",
    "        output = \"LEXUS\"\n",
    "    elif \"JAG\" in string:\n",
    "        output = \"JAGUAR\"\n",
    "    elif \"HYD\" in string:\n",
    "        output = \"HYUNDAI\"\n",
    "    elif \"HYN\" in string:\n",
    "        output = \"HYUNDAI\"\n",
    "    elif \"HYU\" in string:\n",
    "        output = \"HYUNDAI\"\n",
    "    elif \"ACU\" in string:\n",
    "        output = \"ACURA\"\n",
    "    elif \"BNZ\" in string:\n",
    "        output = \"MERCEDES-BENZ\"\n",
    "    elif \"BMV\" in string:\n",
    "        output = \"BMW\"\n",
    "    elif \"MBZ\" in string:\n",
    "        output = \"MERCEDES-BENZ\"\n",
    "    elif \"SUB\" in string:\n",
    "        output = \"SUBARU\"\n",
    "    elif \"SAT\" in string:\n",
    "        output = \"SATURN\"\n",
    "    elif \"HYDA\" in string:\n",
    "        output = \"HYUNDAI\"\n",
    "    elif \"INFN\" in string:\n",
    "        output = \"INFINITI\"\n",
    "    elif \"ODYS\" in string:\n",
    "        output = \"HONDA\"\n",
    "    elif \"MBEZ\" in string:\n",
    "        output = \"MERCEDES-BENZ\"\n",
    "    elif \"MAZA\" in string:\n",
    "        output = \"MAZDA\"\n",
    "    elif \"HNDY\" in string:\n",
    "        output = \"HYUNDAI\"\n",
    "    elif \"MERB\" in string:\n",
    "        output = \"MERCEDES-BENZ\"\n",
    "    elif \"INFT\" in string:\n",
    "        output = \"INFINITI\"\n",
    "    elif \"LEXI\" in string:\n",
    "        output = \"LEXUS\"\n",
    "    elif \"HUMR\" in string:\n",
    "        output = \"HUMMER\"\n",
    "    elif \"LNRV\" in string:\n",
    "        output = \"LAND ROVER\"\n",
    "    elif \"ACCU\" in string:\n",
    "        output = \"ACURA\"\n",
    "    elif \"HYUD\" in string:\n",
    "        output = \"HYUD\"\n",
    "    elif \"MAZE\" in string:\n",
    "        output = \"MASERATI\"\n",
    "    elif \"JAGA\" in string:\n",
    "        output = \"JAGUAR\"\n",
    "    elif \"RNGR\" in string:\n",
    "        output = \"LAND ROVER\"\n",
    "    elif \"MERS\" in string:\n",
    "        output = \"MERCEDES-BENZ\"\n",
    "    elif \"MADZ\" in string:\n",
    "        output = \"MAZDA\"\n",
    "    elif \"HYDI\" in string:\n",
    "        output = \"HYUNDAI\"\n",
    "    elif \"LXUS\" in string:\n",
    "        output = \"LEXUS\"\n",
    "    elif \"ACRA\" in string:\n",
    "        output = \"ACURA\"\n",
    "    elif \"MZDA\" in string:\n",
    "        output = \"MAZDA\"\n",
    "    elif \"RRVR\" in string:\n",
    "        output = \"LAND ROVER\"\n",
    "    elif \"SATN\" in string:\n",
    "        output = \"SATURN\"\n",
    "    elif \"TSLA\" in string:\n",
    "        output = \"TESLA\"\n",
    "    elif \"HUYN\" in string:\n",
    "        output = \"HYUNDAI\"\n",
    "    elif \"SATR\" in string:\n",
    "        output = \"SATURN\"\n",
    "    elif \"FRTL\" in string:\n",
    "        output = \"FREIGHTLINER\"\n",
    "    elif \"HUND\" in string:\n",
    "        output = \"HYUNDAI\"\n",
    "    elif \"ROVE\" in string:\n",
    "        output = \"LAND ROVER\"\n",
    "    elif \"LRVR\" in string:\n",
    "        output = \"LAND ROVER\"\n",
    "    elif \"WHIT\" in string:\n",
    "        output = \"WHITE\"\n",
    "    elif \"MITZ\" in string:\n",
    "        output = \"MITSUBISHI\"\n",
    "    elif \"SMAR\" in string:\n",
    "        output = \"SMART\"\n",
    "    elif \"HYND\" in string:\n",
    "        output = \"HYUNDAI\"\n",
    "    elif \"LAND\" in string:\n",
    "        output = \"LAND ROVER\"\n",
    "    elif \"SUZU\" in string:\n",
    "        output = \"SUZUKI\"\n",
    "    elif \"LROV\" in string:\n",
    "        output = \"LAND ROVER\"\n",
    "    elif \"TSMR\" in string:\n",
    "        output = \"TESLA\"\n",
    "    elif \"ALFA\" in string:\n",
    "        output = \"ALFA ROMEO\"\n",
    "    elif \"MENZ\" in string:\n",
    "        output = \"MERCEDES-BENZ\"\n",
    "    elif \"COOP\" in string:\n",
    "        output = \"MINI\"\n",
    "    elif \"RANG\" in string:\n",
    "        output = \"LAND ROVER\"\n",
    "    elif \"SABU\" in string:\n",
    "        output = \"SUBARU\"\n",
    "    elif \"HARL\" in string:\n",
    "        output = \"HARLEY-DAVIDSON\"\n",
    "    elif \"STLG\" in string:\n",
    "        output = \"STERLING\"\n",
    "    elif \"ASTO\" in string:\n",
    "        output = \"ASTON MARTIN\"\n",
    "    elif \"BENT\" in string:\n",
    "        output = \"BENTLEY\"\n",
    "    elif \"ISUZ\" in string:\n",
    "        output = \"ISUZU\"\n",
    "    elif \"EXPL\" in string:\n",
    "        output = \"FORD\"\n",
    "    elif \"DAEW\" in string:\n",
    "        output = \"DAEWOO\"\n",
    "    elif \"FERR\" in string:\n",
    "        output = \"FERRARI\"\n",
    "    elif \"SMRT\" in string:\n",
    "        output = \"SMART\"\n",
    "    elif \"HUMM\" in string:\n",
    "        output = \"HUMMER\"\n",
    "    elif \"BENT\" in string:\n",
    "        output = \"BETLEY\"\n",
    "    elif \"LNDR\" in string:\n",
    "        output = \"LAND ROVER\"\n",
    "    elif \"RROV\" in string:\n",
    "        output = \"LAND ROVER\"\n",
    "    elif \"SUZI\" in string:\n",
    "        output = \"SUZUKI\"\n",
    "    elif \"PLYM\" in string:\n",
    "        output = \"PLYMOUTH\"\n",
    "    elif \"STRN\" in string:\n",
    "        output = \"SATURN\"\n",
    "    elif \"LEXS\" in string:\n",
    "        output = \"LEXUS\"\n",
    "    elif \"PORS\" in string:\n",
    "        output = \"PORSCHE\"\n",
    "    elif \"MNNI\" in string:\n",
    "        output = \"MINI\"\n",
    "    elif \"FRHT\" in string:\n",
    "        output = \"FREIGHTLINER\"\n",
    "    elif \"TOYT\" in string:\n",
    "        output = \"TOYOTA\"\n",
    "    elif \"JAGR\" in string:\n",
    "        output = \"JAGUAR\"\n",
    "    elif \"BENZ\" in string:\n",
    "        output = \"MERCEDES-BENZ\"\n",
    "    elif \"MERZ\" in string:\n",
    "        output = \"MERCEDES-BENZ\"\n",
    "    elif \"SATU\" in string:\n",
    "        output = \"SATURN\"\n",
    "    elif \"VOLV\" in string:\n",
    "        output = \"VOLVO\"\n",
    "    elif \"LEXU\" in string:\n",
    "        output = \"LEXUS\"\n",
    "    elif \"LROW\" in string:\n",
    "        output = \"LAND ROVER\"\n",
    "    elif \"LINC\" in string:\n",
    "        output = \"LINCOLN\"\n",
    "    elif \"BUIC\" in string:\n",
    "        output = \"BUICK\"\n",
    "    elif \"OLDS\" in string:\n",
    "        output = \"OLDSMOBILE\"\n",
    "    elif \"LROW\" in string:\n",
    "        output = \"LAND ROVER\"\n",
    "    elif \"VOLK\" in string:\n",
    "        output = \"VOLKSWAGEN\"\n",
    "    elif \"MITS\" in string:\n",
    "        output = \"MITSUBISHI\"\n",
    "    elif \"FREI\" in string:\n",
    "        output = \"FREIGHTLINER\"\n",
    "    elif \"CADI\" in string:\n",
    "        output = \"CADILLAC\"\n",
    "    elif \"INFI\" in string:\n",
    "        output = \"INFINITI\"\n",
    "    elif \"MERC\" in string:\n",
    "        output = \"MERCURY\"\n",
    "    elif \"SCIO\" in string:\n",
    "        output = \"SCION\"\n",
    "    elif \"NISS\" in string:\n",
    "        output = \"NISSAN\"\n",
    "    elif \"ACUR\" in string:\n",
    "        output = \"ACURA\"\n",
    "    elif \"CHEV\" in string:\n",
    "        output = \"CHEVROLET\"\n",
    "    elif \"MAZD\" in string:\n",
    "        output = \"MAZDA\"\n",
    "    elif \"TOYO\" in string:\n",
    "        output = \"TOYOTA\"\n",
    "    elif \"CHRY\" in string:\n",
    "        output = \"CHEVROLET\"\n",
    "    elif \"PTRB\" in string:\n",
    "        output = \"PETERBILT\"\n",
    "    elif \"MBNZ\" in string:\n",
    "        output = \"MERCEDES-BENZ\"\n",
    "    elif \"HYUN\" in string:\n",
    "        output = \"HYUNDAI\"\n",
    "    elif \"MASE\" in string:\n",
    "        output = \"MASERATI\"\n",
    "    elif \"PONT\" in string:\n",
    "        output = \"PONTIAC\"\n",
    "    elif \"TESL\" in string:\n",
    "        output = \"TESLA\"\n",
    "    elif \"DODG\" in string:\n",
    "        output =\"DODGE\"\n",
    "    elif \"SUBA\" in string:\n",
    "        output = \"SUBARU\"\n",
    "    # Otherwise, if uncaught - keep as is\n",
    "    else:\n",
    "        output = string\n",
    "    \n",
    "    return output"
   ]
  },
  {
   "cell_type": "markdown",
   "metadata": {},
   "source": [
    "**We apply the function and verify that the vehicle makes have been standardized.**"
   ]
  },
  {
   "cell_type": "code",
   "execution_count": 12,
   "metadata": {},
   "outputs": [
    {
     "data": {
      "text/html": [
       "<div>\n",
       "<style scoped>\n",
       "    .dataframe tbody tr th:only-of-type {\n",
       "        vertical-align: middle;\n",
       "    }\n",
       "\n",
       "    .dataframe tbody tr th {\n",
       "        vertical-align: top;\n",
       "    }\n",
       "\n",
       "    .dataframe thead th {\n",
       "        text-align: right;\n",
       "    }\n",
       "</style>\n",
       "<table border=\"1\" class=\"dataframe\">\n",
       "  <thead>\n",
       "    <tr style=\"text-align: right;\">\n",
       "      <th></th>\n",
       "      <th>Make</th>\n",
       "      <th>Body Style</th>\n",
       "      <th>Color</th>\n",
       "      <th>Agency</th>\n",
       "      <th>Violation code</th>\n",
       "      <th>Violation Description</th>\n",
       "    </tr>\n",
       "  </thead>\n",
       "  <tbody>\n",
       "    <tr>\n",
       "      <th>0</th>\n",
       "      <td>HONDA</td>\n",
       "      <td>PA</td>\n",
       "      <td>GRAY</td>\n",
       "      <td>1.0</td>\n",
       "      <td>4000A1</td>\n",
       "      <td>NO EVIDENCE OF REG</td>\n",
       "    </tr>\n",
       "    <tr>\n",
       "      <th>1</th>\n",
       "      <td>GMC</td>\n",
       "      <td>VN</td>\n",
       "      <td>WHITE</td>\n",
       "      <td>1.0</td>\n",
       "      <td>4000A1</td>\n",
       "      <td>NO EVIDENCE OF REG</td>\n",
       "    </tr>\n",
       "    <tr>\n",
       "      <th>2</th>\n",
       "      <td>NISSAN</td>\n",
       "      <td>PA</td>\n",
       "      <td>BLACK</td>\n",
       "      <td>2.0</td>\n",
       "      <td>8939</td>\n",
       "      <td>WHITE CURB</td>\n",
       "    </tr>\n",
       "    <tr>\n",
       "      <th>3</th>\n",
       "      <td>ACURA</td>\n",
       "      <td>PA</td>\n",
       "      <td>WHITE</td>\n",
       "      <td>2.0</td>\n",
       "      <td>000</td>\n",
       "      <td>17104h</td>\n",
       "    </tr>\n",
       "    <tr>\n",
       "      <th>4</th>\n",
       "      <td>CHEVROLET</td>\n",
       "      <td>PA</td>\n",
       "      <td>BLACK</td>\n",
       "      <td>1.0</td>\n",
       "      <td>8069A</td>\n",
       "      <td>NO STOPPING/STANDING</td>\n",
       "    </tr>\n",
       "  </tbody>\n",
       "</table>\n",
       "</div>"
      ],
      "text/plain": [
       "        Make Body Style  Color  Agency Violation code Violation Description\n",
       "0      HONDA         PA   GRAY     1.0         4000A1    NO EVIDENCE OF REG\n",
       "1        GMC         VN  WHITE     1.0         4000A1    NO EVIDENCE OF REG\n",
       "2     NISSAN         PA  BLACK     2.0           8939            WHITE CURB\n",
       "3      ACURA         PA  WHITE     2.0            000                17104h\n",
       "4  CHEVROLET         PA  BLACK     1.0          8069A  NO STOPPING/STANDING"
      ]
     },
     "execution_count": 12,
     "metadata": {},
     "output_type": "execute_result"
    }
   ],
   "source": [
    "## Standardize the Models\n",
    "PC_df[\"Make\"] = PC_df[\"Make\"].apply(standardize_Model)\n",
    "PC_df.head()"
   ]
  },
  {
   "cell_type": "markdown",
   "metadata": {},
   "source": [
    "**We count the number of values per make.**"
   ]
  },
  {
   "cell_type": "code",
   "execution_count": 13,
   "metadata": {},
   "outputs": [
    {
     "data": {
      "text/plain": [
       "TOYOTA           1536296\n",
       "HONDA             990443\n",
       "FORD              768459\n",
       "CHEVROLET         713916\n",
       "NISSAN            627333\n",
       "BMW               401551\n",
       "MERCEDES-BENZ     364486\n",
       "VOLKSWAGEN        301696\n",
       "HYUNDAI           270876\n",
       "LEXUS             261335\n",
       "DODGE             257067\n",
       "KIA               204801\n",
       "JEEP              202934\n",
       "AUDI              170535\n",
       "MAZDA             161011\n",
       "OTHR              146807\n",
       "GMC               126096\n",
       "INFINITI          114176\n",
       "ACURA             106173\n",
       "SUBARU             95318\n",
       "VOLVO              84797\n",
       "MIT                76191\n",
       "CADILLAC           68638\n",
       "LAND ROVER         68022\n",
       "MINI               64607\n",
       "PORSCHE            44797\n",
       "FREIGHTLINER       42761\n",
       "UNK                41545\n",
       "BUICK              41349\n",
       "PONTIAC            39534\n",
       "                  ...   \n",
       "FREL                   1\n",
       "SA                     1\n",
       "NEWS                   1\n",
       "MECV                   1\n",
       "HAVA                   1\n",
       "MH                     1\n",
       "ALLP                   1\n",
       "LCON                   1\n",
       "HLDS                   1\n",
       "ZENE                   1\n",
       "FRI                    1\n",
       "JD                     1\n",
       "TITN                   1\n",
       "MONI                   1\n",
       "COMC                   1\n",
       "GNRL                   1\n",
       "MIRZ                   1\n",
       "ASU                    1\n",
       "BHL                    1\n",
       "HEM                    1\n",
       "LAZD                   1\n",
       "CIVI                   1\n",
       "FTRR                   1\n",
       "COPP                   1\n",
       "HPAM                   1\n",
       "JAMC                   1\n",
       "ITSK                   1\n",
       "SPAR                   1\n",
       "VICT                   1\n",
       "RVEC                   1\n",
       "Name: Make, Length: 1867, dtype: int64"
      ]
     },
     "execution_count": 13,
     "metadata": {},
     "output_type": "execute_result"
    }
   ],
   "source": [
    "# The number of Tickets for Each Car Model\n",
    "Tickets_CarModels = PC_df[\"Make\"].value_counts()\n",
    "Tickets_CarModels"
   ]
  },
  {
   "cell_type": "markdown",
   "metadata": {},
   "source": [
    "**To compare the percentage of vehicle makes who do receive tickets, we utilize the DMV dataset and extract the total number of vehicle registrations by make and location.**"
   ]
  },
  {
   "cell_type": "code",
   "execution_count": 23,
   "metadata": {},
   "outputs": [
    {
     "name": "stderr",
     "output_type": "stream",
     "text": [
      "/Users/Johnny/anaconda3/lib/python3.7/site-packages/IPython/core/interactiveshell.py:3020: DtypeWarning: Columns (0) have mixed types. Specify dtype option on import or set low_memory=False.\n",
      "  interactivity=interactivity, compiler=compiler, result=result)\n"
     ]
    }
   ],
   "source": [
    "# Data from DMV.gov that contains the car registrations\n",
    "# for all of California\n",
    "url = \"https://www.dmv.ca.gov/portal/wcm/connect/d0faaf2e-0b1a-43a5-96a4-15dbd2e3eff8/VehicleCount_070118.csv?MOD=AJPERES&CVID=\"\n",
    "s = requests.get(url).content\n",
    "California_Cars = pd.read_csv(io.StringIO(s.decode('utf-8')))"
   ]
  },
  {
   "cell_type": "code",
   "execution_count": 24,
   "metadata": {},
   "outputs": [],
   "source": [
    "# Create a List that contains the number of registered\n",
    "# vehicles for each car Model\n",
    "\n",
    "California_CarModels = California_Cars.groupby('Make')['Vehicles'].sum()"
   ]
  },
  {
   "cell_type": "markdown",
   "metadata": {},
   "source": [
    "**We locate all the vehicle makes in Los Angeles by first identifying all vehicle makes within the Los Angeles zip codes.**"
   ]
  },
  {
   "cell_type": "code",
   "execution_count": 25,
   "metadata": {},
   "outputs": [],
   "source": [
    "# Get the number of vehicles just in LA\n",
    "\n",
    "# First Filter through all the Registered Cars and get\n",
    "# the ones with zip codes in LA County\n",
    "\n",
    "# Get rid of Zip Codes that are out of State\n",
    "LA_Cars = California_Cars[California_Cars['ZIP'] != 'OOS']\n",
    "# Get rid of Zip Codes that are not labeled\n",
    "LA_Cars = LA_Cars[LA_Cars['ZIP'] != 'Other']\n",
    "\n",
    "# Convert Remaing Zip Codes to numeric values\n",
    "LA_Cars['ZIP'] = pd.to_numeric(LA_Cars['ZIP'])\n",
    "# Finally Get Zip Codes that are only in LA\n",
    "lowest_ZIP = 90001 # Lowest LA Zip Code\n",
    "highest_ZIP = 90899 # Highest LA Zip Code\n",
    "\n",
    "LA_Cars = LA_Cars.loc[(LA_Cars['ZIP'] >= lowest_ZIP) & (LA_Cars['ZIP'] <= highest_ZIP)]\n",
    "\n",
    "# Create a List that contains the number of registered\n",
    "# vehicles in LA for each car Model\n",
    "\n",
    "LA_CarModels = LA_Cars.groupby('Make')['Vehicles'].sum()"
   ]
  },
  {
   "cell_type": "markdown",
   "metadata": {},
   "source": [
    "**We sum up the total number of cars in California and Los Angeles.**"
   ]
  },
  {
   "cell_type": "code",
   "execution_count": 26,
   "metadata": {},
   "outputs": [
    {
     "name": "stdout",
     "output_type": "stream",
     "text": [
      "Total cars in California:  31023133      Total cars in LA:  4310532\n"
     ]
    }
   ],
   "source": [
    "total_Cars_California = California_Cars['Vehicles'].sum()\n",
    "total_Cars_LA = LA_Cars['Vehicles'].sum()\n",
    "\n",
    "print(\"Total cars in California: \", total_Cars_California, \n",
    "      \"     Total cars in LA: \", total_Cars_LA)"
   ]
  },
  {
   "cell_type": "markdown",
   "metadata": {},
   "source": [
    "**We then compare the ratio of vehicle make to the number of tickets received.**"
   ]
  },
  {
   "cell_type": "code",
   "execution_count": 27,
   "metadata": {},
   "outputs": [],
   "source": [
    "# Comparing Toyota and Ferrari\n",
    "\n",
    "# Get number of Toyotas\n",
    "number_ToyotaCA = California_CarModels[\"TOYOTA\"]\n",
    "number_ToyotaLA = LA_CarModels[\"TOYOTA\"]\n",
    "number_ToyotaTickets = Tickets_CarModels[\"TOYOTA\"]\n",
    "\n",
    "# Get number of Ferraris\n",
    "number_FerrariCA = California_CarModels[\"FERRARI\"]\n",
    "number_FerrariLA = LA_CarModels[\"FERRARI\"]\n",
    "number_FerrariTickets = Tickets_CarModels[\"FERRARI\"]"
   ]
  },
  {
   "cell_type": "code",
   "execution_count": 29,
   "metadata": {},
   "outputs": [
    {
     "name": "stdout",
     "output_type": "stream",
     "text": [
      "The percentage of Toyotas in California is  17.591685533501725\n",
      "The percentage of Toyotas in Los Angeles is 18.882936027385945\n",
      "The percentage of tickets given to Toyotas is 17.50091360862191\n",
      "The percentage of Ferrari California is  0.0029719757833614035\n",
      "The percentage of Ferrari in Los Angeles is 0.007841259501147422\n",
      "The percentage of tickets given to Ferraris is 0.014740767540602042\n"
     ]
    }
   ],
   "source": [
    "# Statements\n",
    "print(\"The percentage of Toyotas in California is \",((number_ToyotaCA/total_Cars_California) * 100))\n",
    "print(\"The percentage of Toyotas in Los Angeles is\",((number_ToyotaLA/total_Cars_LA)*100))\n",
    "print(\"The percentage of tickets given to Toyotas is\",((number_ToyotaTickets/len(PC_df))*100))\n",
    "\n",
    "print(\"The percentage of Ferrari California is \",((number_FerrariCA/total_Cars_California) * 100))\n",
    "print(\"The percentage of Ferrari in Los Angeles is\",((number_FerrariLA/total_Cars_LA)*100))\n",
    "print(\"The percentage of tickets given to Ferraris is\",((number_FerrariTickets/len(PC_df))*100))\n"
   ]
  },
  {
   "cell_type": "markdown",
   "metadata": {},
   "source": [
    "As you can see the percentage of Ferraris given tickets is twice the percentage of Ferraris in Los Angeles and more than four times the percentage of Ferraris in California. This is interesting compared to the fact the percentage of Toyotas that receive tickets and the percentage of Toyotas in LA and California seem relatively equal."
   ]
  },
  {
   "cell_type": "markdown",
   "metadata": {},
   "source": [
    "**We also compare the specific types of violations related to vehicle make.**"
   ]
  },
  {
   "cell_type": "code",
   "execution_count": 31,
   "metadata": {},
   "outputs": [],
   "source": [
    "# Get the No Stopping Tickets Violation Code is 8069A\n",
    "no_StoppingTickets = PC_df[PC_df[\"Violation code\"] == \"8069A\"]"
   ]
  },
  {
   "cell_type": "code",
   "execution_count": 32,
   "metadata": {},
   "outputs": [
    {
     "name": "stdout",
     "output_type": "stream",
     "text": [
      "Percentage of No Stopping tickets given to Ferraris is  0.02674511901577962\n"
     ]
    }
   ],
   "source": [
    "print( \"Percentage of No Stopping tickets given to Ferraris is \",(no_StoppingTickets[\"Make\"].value_counts()['FERRARI']/len(no_StoppingTickets)) * 100)\n"
   ]
  },
  {
   "cell_type": "markdown",
   "metadata": {},
   "source": [
    "## *Data Visualization*"
   ]
  },
  {
   "cell_type": "markdown",
   "metadata": {},
   "source": [
    "**We plot the top x makes on a bar graph.**"
   ]
  },
  {
   "cell_type": "code",
   "execution_count": 33,
   "metadata": {},
   "outputs": [
    {
     "data": {
      "text/plain": [
       "<matplotlib.axes._subplots.AxesSubplot at 0x1c188637b8>"
      ]
     },
     "execution_count": 33,
     "metadata": {},
     "output_type": "execute_result"
    },
    {
     "data": {
      "image/png": "[encoded data removed]",
      "text/plain": [
       "<Figure size 432x288 with 1 Axes>"
      ]
     },
     "metadata": {
      "needs_background": "light"
     },
     "output_type": "display_data"
    }
   ],
   "source": [
    "Tickets_CarModels[[\"TOYOTA\", \"FORD\", \"BMW\"]].plot(kind = 'bar')"
   ]
  },
  {
   "cell_type": "markdown",
   "metadata": {},
   "source": [
    "**We transform the data into percentages and plot it on a bar graph.**"
   ]
  },
  {
   "cell_type": "code",
   "execution_count": null,
   "metadata": {},
   "outputs": [],
   "source": [
    "# Getting Values\n",
    "per_TOYTCA = ((number_ToyotaCA/total_Cars_California) * 100)\n",
    "per_TOYTLA = ((number_ToyotaLA/total_Cars_LA)*100)\n",
    "per_TOYTTIC = ((number_ToyotaTickets/len(PC_df))*100)\n",
    "\n",
    "per_FERCA = ((number_FerrariCA/total_Cars_California) * 100)\n",
    "per_FERLA = ((number_FerrariLA/total_Cars_LA)*100)\n",
    "per_FERTIC = ((number_FerrariTickets/len(PC_df))*100)"
   ]
  },
  {
   "cell_type": "code",
   "execution_count": 34,
   "metadata": {},
   "outputs": [],
   "source": [
    "def getPercentage(string):\n",
    "    \n",
    "    number_CARSCA = California_CarModels[string]\n",
    "    number_CARSLA = LA_CarModels[string]\n",
    "    number_CARSTickets = Tickets_CarModels[string]\n",
    "\n",
    "    per_CARSCA = ((number_CARSCA/total_Cars_California) * 100)\n",
    "    per_CARSLA = ((number_CARSLA/total_Cars_LA)*100)\n",
    "    per_CARSTIC = ((number_CARSTickets/len(PC_df))*100)\n",
    "    \n",
    "    return per_CARSCA, per_CARSLA, per_CARSTIC"
   ]
  },
  {
   "cell_type": "code",
   "execution_count": 35,
   "metadata": {},
   "outputs": [],
   "source": [
    "# Create Data Frame\n",
    "Percentages = pd.DataFrame()\n",
    "\n",
    "Car = \"Jaguar\"\n",
    "Tag = \"JAGUAR\"\n",
    "\n",
    "CA,LA,TIC = getPercentage(Tag)\n",
    "d = {'Car Model': [Car], 'Percentage CA': [CA], 'Percentage LA': [LA], 'Percentage Tickets': [TIC]}\n",
    "Percentages = Percentages.append(pd.DataFrame(data = d))\n",
    "\n",
    "Car = \"Tesla\"\n",
    "Tag = \"TESLA\"\n",
    "\n",
    "CA,LA,TIC = getPercentage(Tag)\n",
    "d = {'Car Model': [Car], 'Percentage CA': [CA], 'Percentage LA': [LA], 'Percentage Tickets': [TIC]}\n",
    "Percentages = Percentages.append(pd.DataFrame(data = d))\n",
    "\n",
    "Car = \"Maserati\"\n",
    "Tag = \"MASERATI\"\n",
    "\n",
    "CA,LA,TIC = getPercentage(Tag)\n",
    "d = {'Car Model': [Car], 'Percentage CA': [CA], 'Percentage LA': [LA], 'Percentage Tickets': [TIC]}\n",
    "Percentages = Percentages.append(pd.DataFrame(data = d))\n",
    "\n",
    "Car = \"Land Rover\"\n",
    "Tag = \"LAND ROVER\"\n",
    "\n",
    "CA,LA,TIC = getPercentage(Tag)\n",
    "d = {'Car Model': [Car], 'Percentage CA': [CA], 'Percentage LA': [LA], 'Percentage Tickets': [TIC]}\n",
    "Percentages = Percentages.append(pd.DataFrame(data = d))\n"
   ]
  },
  {
   "cell_type": "code",
   "execution_count": 36,
   "metadata": {},
   "outputs": [],
   "source": [
    "# Set DataFrame\n",
    "Percentages = Percentages.set_index(\"Car Model\")\n",
    "Percentages = Percentages.round(2)"
   ]
  },
  {
   "cell_type": "code",
   "execution_count": 37,
   "metadata": {},
   "outputs": [
    {
     "data": {
      "text/plain": [
       "<Figure size 864x576 with 0 Axes>"
      ]
     },
     "metadata": {},
     "output_type": "display_data"
    },
    {
     "data": {
      "image/png": "[encoded data removed]",
      "text/plain": [
       "<Figure size 432x288 with 1 Axes>"
      ]
     },
     "metadata": {
      "needs_background": "light"
     },
     "output_type": "display_data"
    }
   ],
   "source": [
    "# Plot the figure.\n",
    "plt.figure(figsize=(12, 8))\n",
    "ax = Percentages.plot(kind='barh')\n",
    "\n",
    "rects = ax.patches\n",
    "\n",
    "# For each bar: Place a label\n",
    "for rect in rects:\n",
    "    # Get X and Y placement of label from rect.\n",
    "    x_value = rect.get_width()\n",
    "    y_value = rect.get_y() + rect.get_height() / 2\n",
    "\n",
    "    # Number of points between bar and label. Change to your liking.\n",
    "    space = 5\n",
    "    # Vertical alignment for positive values\n",
    "    ha = 'left'\n",
    "\n",
    "    # If value of bar is negative: Place label left of bar\n",
    "    if x_value < 0:\n",
    "        # Invert space to place label to the left\n",
    "        space *= -1\n",
    "        # Horizontally align label at right\n",
    "        ha = 'right'\n",
    "\n",
    "    # Use X value as label and format number with two decimal place\n",
    "    label = \"{:.2f}\".format(x_value)\n",
    "\n",
    "    # Create annotation\n",
    "    plt.annotate(\n",
    "        label,                      # Use `label` as label\n",
    "        (x_value, y_value),         # Place label at end of the bar\n",
    "        xytext=(space, 0),          # Horizontally shift label by `space`\n",
    "        textcoords=\"offset points\", # Interpret `xytext` as offset in points\n",
    "        va='center',                # Vertically center label\n",
    "        ha=ha)                      # Horizontally align label differently for\n",
    "                                    # positive and negative values."
   ]
  },
  {
   "cell_type": "code",
   "execution_count": 38,
   "metadata": {},
   "outputs": [],
   "source": [
    "# Create Data Frame\n",
    "Percentages = pd.DataFrame()\n",
    "\n",
    "Car = \"Ford\"\n",
    "Tag = \"FORD\"\n",
    "\n",
    "CA,LA,TIC = getPercentage(Tag)\n",
    "d = {'Car Model': [Car], 'Percentage CA': [CA], 'Percentage LA': [LA], 'Percentage Tickets': [TIC]}\n",
    "Percentages = Percentages.append(pd.DataFrame(data = d))\n",
    "\n",
    "Car = \"Acura\"\n",
    "Tag = \"ACURA\"\n",
    "\n",
    "CA,LA,TIC = getPercentage(Tag)\n",
    "d = {'Car Model': [Car], 'Percentage CA': [CA], 'Percentage LA': [LA], 'Percentage Tickets': [TIC]}\n",
    "Percentages = Percentages.append(pd.DataFrame(data = d))\n",
    "\n",
    "Car = \"Toyota\"\n",
    "Tag = \"TOYOTA\"\n",
    "\n",
    "CA,LA,TIC = getPercentage(Tag)\n",
    "d = {'Car Model': [Car], 'Percentage CA': [CA], 'Percentage LA': [LA], 'Percentage Tickets': [TIC]}\n",
    "Percentages = Percentages.append(pd.DataFrame(data = d))\n",
    "\n",
    "Car = \"KIA\"\n",
    "Tag = \"KIA\"\n",
    "\n",
    "CA,LA,TIC = getPercentage(Tag)\n",
    "d = {'Car Model': [Car], 'Percentage CA': [CA], 'Percentage LA': [LA], 'Percentage Tickets': [TIC]}\n",
    "Percentages = Percentages.append(pd.DataFrame(data = d))\n"
   ]
  },
  {
   "cell_type": "code",
   "execution_count": 39,
   "metadata": {},
   "outputs": [],
   "source": [
    "# Set DataFrame\n",
    "Percentages = Percentages.set_index(\"Car Model\")\n",
    "Percentages = Percentages.round(2)"
   ]
  },
  {
   "cell_type": "code",
   "execution_count": 40,
   "metadata": {},
   "outputs": [
    {
     "data": {
      "text/plain": [
       "<Figure size 864x576 with 0 Axes>"
      ]
     },
     "metadata": {},
     "output_type": "display_data"
    },
    {
     "data": {
      "image/png": "[encoded data removed]",
      "text/plain": [
       "<Figure size 432x288 with 1 Axes>"
      ]
     },
     "metadata": {
      "needs_background": "light"
     },
     "output_type": "display_data"
    }
   ],
   "source": [
    "# Plot the figure.\n",
    "plt.figure(figsize=(12, 8))\n",
    "ax = Percentages.plot(kind='barh')\n",
    "\n",
    "rects = ax.patches\n",
    "\n",
    "# For each bar: Place a label\n",
    "for rect in rects:\n",
    "    # Get X and Y placement of label from rect.\n",
    "    x_value = rect.get_width()\n",
    "    y_value = rect.get_y() + rect.get_height() / 2\n",
    "\n",
    "    # Number of points between bar and label. Change to your liking.\n",
    "    space = 5\n",
    "    # Vertical alignment for positive values\n",
    "    ha = 'left'\n",
    "\n",
    "    # If value of bar is negative: Place label left of bar\n",
    "    if x_value < 0:\n",
    "        # Invert space to place label to the left\n",
    "        space *= -1\n",
    "        # Horizontally align label at right\n",
    "        ha = 'right'\n",
    "\n",
    "    # Use X value as label and format number with one decimal place\n",
    "    label = \"{:.2f}\".format(x_value)\n",
    "\n",
    "    # Create annotation\n",
    "    plt.annotate(\n",
    "        label,                      # Use `label` as label\n",
    "        (x_value, y_value),         # Place label at end of the bar\n",
    "        xytext=(space, 0),          # Horizontally shift label by `space`\n",
    "        textcoords=\"offset points\", # Interpret `xytext` as offset in points\n",
    "        va='center',                # Vertically center label\n",
    "        ha=ha)                      # Horizontally align label differently for\n",
    "                                    # positive and negative values.\n",
    "    "
   ]
  },
  {
   "cell_type": "code",
   "execution_count": 41,
   "metadata": {},
   "outputs": [],
   "source": [
    "# Create Data Frame\n",
    "Percentages = pd.DataFrame()\n",
    "\n",
    "Car = \"BMW\"\n",
    "Tag = \"BMW\"\n",
    "\n",
    "CA,LA,TIC = getPercentage(Tag)\n",
    "d = {'Car Model': [Car], 'Percentage CA': [CA], 'Percentage LA': [LA], 'Percentage Tickets': [TIC]}\n",
    "Percentages = Percentages.append(pd.DataFrame(data = d))\n",
    "\n",
    "Car = \"Mercedes-Benz\"\n",
    "Tag = \"MERCEDES-BENZ\"\n",
    "\n",
    "CA,LA,TIC = getPercentage(Tag)\n",
    "d = {'Car Model': [Car], 'Percentage CA': [CA], 'Percentage LA': [LA], 'Percentage Tickets': [TIC]}\n",
    "Percentages = Percentages.append(pd.DataFrame(data = d))\n",
    "\n",
    "Car = \"Lexus\"\n",
    "Tag = \"LEXUS\"\n",
    "\n",
    "CA,LA,TIC = getPercentage(Tag)\n",
    "d = {'Car Model': [Car], 'Percentage CA': [CA], 'Percentage LA': [LA], 'Percentage Tickets': [TIC]}\n",
    "Percentages = Percentages.append(pd.DataFrame(data = d))\n",
    "\n",
    "Car = \"Audi\"\n",
    "Tag = \"AUDI\"\n",
    "\n",
    "CA,LA,TIC = getPercentage(Tag)\n",
    "d = {'Car Model': [Car], 'Percentage CA': [CA], 'Percentage LA': [LA], 'Percentage Tickets': [TIC]}\n",
    "Percentages = Percentages.append(pd.DataFrame(data = d))\n"
   ]
  },
  {
   "cell_type": "code",
   "execution_count": 42,
   "metadata": {},
   "outputs": [],
   "source": [
    "# Set DataFrame\n",
    "Percentages = Percentages.set_index(\"Car Model\")\n",
    "Percentages = Percentages.round(2)"
   ]
  },
  {
   "cell_type": "code",
   "execution_count": 43,
   "metadata": {},
   "outputs": [
    {
     "data": {
      "text/plain": [
       "<Figure size 864x576 with 0 Axes>"
      ]
     },
     "metadata": {},
     "output_type": "display_data"
    },
    {
     "data": {
      "image/png": "[encoded data removed]",
      "text/plain": [
       "<Figure size 432x288 with 1 Axes>"
      ]
     },
     "metadata": {
      "needs_background": "light"
     },
     "output_type": "display_data"
    }
   ],
   "source": [
    "# Plot the figure.\n",
    "plt.figure(figsize=(12, 8))\n",
    "ax = Percentages.plot(kind='barh')\n",
    "\n",
    "rects = ax.patches\n",
    "\n",
    "# For each bar: Place a label\n",
    "for rect in rects:\n",
    "    # Get X and Y placement of label from rect.\n",
    "    x_value = rect.get_width()\n",
    "    y_value = rect.get_y() + rect.get_height() / 2\n",
    "\n",
    "    # Number of points between bar and label. Change to your liking.\n",
    "    space = 5\n",
    "    # Vertical alignment for positive values\n",
    "    ha = 'left'\n",
    "\n",
    "    # If value of bar is negative: Place label left of bar\n",
    "    if x_value < 0:\n",
    "        # Invert space to place label to the left\n",
    "        space *= -1\n",
    "        # Horizontally align label at right\n",
    "        ha = 'right'\n",
    "\n",
    "    # Use X value as label and format number with one decimal place\n",
    "    label = \"{:.2f}\".format(x_value)\n",
    "\n",
    "    # Create annotation\n",
    "    plt.annotate(\n",
    "        label,                      # Use `label` as label\n",
    "        (x_value, y_value),         # Place label at end of the bar\n",
    "        xytext=(space, 0),          # Horizontally shift label by `space`\n",
    "        textcoords=\"offset points\", # Interpret `xytext` as offset in points\n",
    "        va='center',                # Vertically center label\n",
    "        ha=ha)                      # Horizontally align label differently for\n",
    "                                    # positive and negative values.\n",
    "    "
   ]
  },
  {
   "cell_type": "markdown",
   "metadata": {},
   "source": [
    "**I think if you use the examples and just copy and paste but change variable names and Model names you could create a Bar Graph that has more models. I was think probably two with 5 models each. Some suggestions for Models might be BMW, AUDI, FORD, ACURA, MERCEDES-BENZ and LEXUS. Model names are all in caps in the dataframe**"
   ]
  },
  {
   "cell_type": "code",
   "execution_count": 44,
   "metadata": {},
   "outputs": [
    {
     "data": {
      "text/plain": [
       "TOYOTA             1536296\n",
       "HONDA               990443\n",
       "FORD                768459\n",
       "CHEVROLET           713916\n",
       "NISSAN              627333\n",
       "BMW                 401551\n",
       "MERCEDES-BENZ       364486\n",
       "VOLKSWAGEN          301696\n",
       "HYUNDAI             270876\n",
       "LEXUS               261335\n",
       "DODGE               257067\n",
       "KIA                 204801\n",
       "JEEP                202934\n",
       "AUDI                170535\n",
       "MAZDA               161011\n",
       "OTHR                146807\n",
       "GMC                 126096\n",
       "INFINITI            114176\n",
       "ACURA               106173\n",
       "SUBARU               95318\n",
       "VOLVO                84797\n",
       "MIT                  76191\n",
       "CADILLAC             68638\n",
       "LAND ROVER           68022\n",
       "MINI                 64607\n",
       "PORSCHE              44797\n",
       "FREIGHTLINER         42761\n",
       "UNK                  41545\n",
       "BUICK                41349\n",
       "PONTIAC              39534\n",
       "SATURN               39146\n",
       "LINCOLN              38185\n",
       "GRUM                 37381\n",
       "FIAT                 32903\n",
       "JAGUAR               27446\n",
       "MERCURY              25682\n",
       "TESLA                22737\n",
       "ISUZU                18691\n",
       "INTL                 15080\n",
       "SUZUKI               13104\n",
       "SAAB                 12328\n",
       "OLDSMOBILE           11050\n",
       "MASERATI              9130\n",
       "PLYMOUTH              6541\n",
       "PETERBILT             6540\n",
       "SMART                 5779\n",
       "KENWORTH              5327\n",
       "HARLEY DAVIDSON       4634\n",
       "HINO                  4599\n",
       "HUMMER                3923\n",
       "BENTLEY               3783\n",
       "GEO                   3619\n",
       "YAMA                  3613\n",
       "KAWK                  3059\n",
       "SCION                 1906\n",
       "TRIU                  1870\n",
       "CHEC                  1793\n",
       "ROLLS-ROYCE           1765\n",
       "WINN                  1693\n",
       "ALFA ROMEO            1660\n",
       "Name: Make, dtype: int64"
      ]
     },
     "execution_count": 44,
     "metadata": {},
     "output_type": "execute_result"
    }
   ],
   "source": [
    "# This is a list of the 60 models with the most tickets. If you change the number you can look through the Models. Before\n",
    "# you use it I would just check that the Model is in CA_CarModels[\"(model name her)\"], some of the model names aren't and\n",
    "# thus we can't do analysis\n",
    "Tickets_CarModels[:60]"
   ]
  },
  {
   "cell_type": "markdown",
   "metadata": {},
   "source": [
    "## *Color and Model Visualization*\n",
    "#### Of the top car colors what are the makes of those cars?"
   ]
  },
  {
   "cell_type": "markdown",
   "metadata": {},
   "source": [
    "Visualize all \"White\" models"
   ]
  },
  {
   "cell_type": "code",
   "execution_count": 45,
   "metadata": {},
   "outputs": [],
   "source": [
    "all_white_cars = PC_df.loc[(PC_df['Color'] == 'WHITE') & (PC_df['Make'] == 'TOYOTA')]\n",
    "\n",
    "#temp = all_white_cars.unique()\n",
    "#temp.value_count()\n",
    "\n",
    "# Plot with Labels\n",
    "#plot_white = all_white_cars.plot(kind='bar')\n",
    "\n",
    "#for p in plot_white.patches:\n",
    "    #plot_white.annotate(str(p.get_height()), (p.get_x() * 1.005, p.get_height() * 1.005))"
   ]
  },
  {
   "cell_type": "markdown",
   "metadata": {
    "colab_type": "text",
    "id": "E8SoDWNnqBy_"
   },
   "source": [
    "# Data Analysis and Results"
   ]
  },
  {
   "cell_type": "markdown",
   "metadata": {
    "colab_type": "text",
    "id": "wTOU4NKlqFwq"
   },
   "source": [
    "# Privacy/Ethics Considerations"
   ]
  },
  {
   "cell_type": "markdown",
   "metadata": {
    "colab_type": "text",
    "id": "9ZTV84GV9HQ1"
   },
   "source": [
    "The data was posted on Kaggle’s data set page but the information is released to the public via DataLA, a public site maintained by the Los Angeles government. We have permission to use this data under the Open Database License. There are no privacy concerns in regard to the data. This data set is potentially biased in terms of who it composes for two reasons. The first is regional factors. For example if parking officials stay in a neighborhood where the parking restrictions are stricter then we would expect the models of the cars in that neighborhood to be over represented in the data set. The second reason is that some violations may be more for lower income individuals. For example we would expect lower income individuals to receive more expired registration violations because of their inability to afford registration. If we identify any of these issues, we can modify our research topic so that it does not include biased data. For example we will not analyze expired registration violations if we identify that the data is heavily skewed towards lower income models.\n",
    "\n",
    "In addition, our dataset was already efficient in not including much personal identifiers of the individuals whose vehicles have received citations. We practiced the Safe Harbor method, in which we removed the VIN column from our dataset to further improve its anonymization. Thus, our project considerably respects the privacy of the individuals whose vehicles received citations as we have altered the dataset to focus solely on the vehicles."
   ]
  },
  {
   "cell_type": "markdown",
   "metadata": {
    "colab_type": "text",
    "id": "8Kf9pL6HqL7b"
   },
   "source": [
    "# Conclusion and Discussion"
   ]
  }
 ],
 "metadata": {
  "colab": {
   "collapsed_sections": [],
   "include_colab_link": true,
   "name": "FinalProject.ipynb",
   "provenance": [],
   "version": "0.3.2"
  },
  "kernelspec": {
   "display_name": "Python 3",
   "language": "python",
   "name": "python3"
  },
  "language_info": {
   "codemirror_mode": {
    "name": "ipython",
    "version": 3
   },
   "file_extension": ".py",
   "mimetype": "text/x-python",
   "name": "python",
   "nbconvert_exporter": "python",
   "pygments_lexer": "ipython3",
   "version": "3.7.1"
  }
 },
 "nbformat": 4,
 "nbformat_minor": 1
}
