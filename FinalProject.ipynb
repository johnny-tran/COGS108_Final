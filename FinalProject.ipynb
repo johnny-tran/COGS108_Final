{
 "cells": [
  {
   "cell_type": "markdown",
   "metadata": {
    "colab_type": "text",
    "id": "view-in-github"
   },
   "source": [
    "<a href=\"https://colab.research.google.com/github/johnny-tran/COGS108_repo/blob/master/FinalProject.ipynb\" target=\"_parent\"><img src=\"https://colab.research.google.com/assets/colab-badge.svg\" alt=\"Open In Colab\"/></a>"
   ]
  },
  {
   "cell_type": "markdown",
   "metadata": {
    "colab_type": "text",
    "id": "hVhwl3AXn178"
   },
   "source": [
    "# COGS 108 - Final Project"
   ]
  },
  {
   "cell_type": "markdown",
   "metadata": {
    "colab_type": "text",
    "id": "oP0Owgrsn18K"
   },
   "source": [
    "## Important\n",
    "\n",
    "- ONE, and only one, member of your group should upload this notebook to TritonED. \n",
    "- Each member of the group will receive the same grade on this assignment. \n",
    "- Keep the file name the same: submit the file 'FinalProject.ipynb'.\n",
    "- Only upload the .ipynb file to TED, do not upload any associted data. Make sure that for cells in which you want graders to see output that these cells have been executed."
   ]
  },
  {
   "cell_type": "markdown",
   "metadata": {
    "colab_type": "text",
    "id": "ZU7JBgGSn18R"
   },
   "source": [
    "## Group Members: Fill in the Student IDs of each group member here\n",
    "\n",
    "Replace the lines below to list each persons full student ID, ucsd email and full name.\n",
    "\n",
    "- A11888496 - L4truong@ucsd.edu - Loc Truong\n",
    "- A15352670 - t8wei@ucsd.edu - Timothy Wei\n",
    "- A14732783 - jpt017@ucsd.edu - Jonathan Tran\n",
    "- A11962666 - nnowain@ucsd.edu - Nathan Nowain\n",
    "- A14493674 - cvshanno@ucsd.edu - Collin Shannon\n",
    "\n"
   ]
  },
  {
   "cell_type": "markdown",
   "metadata": {
    "colab_type": "text",
    "id": "87QllbYgn18h"
   },
   "source": [
    "# Introduction and Background"
   ]
  },
  {
   "cell_type": "markdown",
   "metadata": {
    "colab_type": "text",
    "id": "VPQnE-eZtY8m"
   },
   "source": [
    "## Research Question\n",
    "\n",
    "> Are there any correlations between make and color and number of tickets?\n",
    "How does visual appearance affect the likelihood of receiving a parking violation? Do certain makes or colors receive more tickets than expected?\n",
    "\n",
    "\n",
    "## Hypothesis\n",
    "\n",
    "> We predict that loud colors & higher end models have a higher chance of receiving violations.\n",
    "We hypothesize that visual appearance does affect the likelihood of receiving a parking violation. We expect that parking officials are more likely to notice louder colors and higher end models and thus are more likely to give them tickets. We also believe that parking officials are more inclined to give violations to higher end models because they assume the owner is more likely to be able to afford the ticket.\n",
    "\n",
    "\n",
    "## Background\n",
    "\n",
    "> We believe that there are biases that are imposed from humans as they do their job, such as parking enforcement. There is a typically well known statement that cops and parking enforcement have to meet quotas monthly to keep them on goal as they do their job. Besides this commonly heard phenomena, is there also a possible data to show that some cars also get more tickets than others? With further research we found there are many articles online which sum up reasons why one might be more likely to get a ticket; and some of their data show that certain vehicle makes and models, more notably the expensive and luxurious make and models, receive more speeding tickets [1]. There is also a well known statistic that red colored cars get pulled over more than others, which is most likely related to its high visibility over other colored cars [2].\n",
    "\n",
    "> With this in mind, we supposed there can be a possible correlation to be found. As we hypothesized, we believe that cars of certain visible attributes like color or make can possibly increase their likelihood of receiving a ticket in comparison to other vehicles which may not attract as much attention. We believe this is important because we want to see if there are possible implicit biases in how parking enforcement gives out violations. This data could help better inform people before choosing a car to buy, if they care or to just find an interesting relationship to human cognition and how perception alters thinking.\n",
    "  \n",
    "> ### References\n",
    "\n",
    ">> 1) https://www.more.com/lifestyle/6-things-almost-guarantee-speeding-ticket\n",
    "\n",
    ">> 2) http://www.brettrics.com/9-million-parking-tickets-la/\n"
   ]
  },
  {
   "cell_type": "markdown",
   "metadata": {
    "colab_type": "text",
    "id": "h6xT0cVupz-b"
   },
   "source": [
    "# Data Description\n",
    "\n",
    "Dataset Name: Los Angeles Parking Citations\n",
    "\n",
    ">The dataset consists of 19 variables based on the information on the ticket slip. This includes ticket date, issue time, meter id, make, body style, color, location, route, agency, violation code, violation description, fine amount, and location data.\n",
    "\n",
    "> Link to the dataset: https://data.lacity.org/A-Well-Run-City/Parking-Citations/wjz9-h9np\n",
    "\n",
    "> Kaggle link: https://www.kaggle.com/cityofLA/los-angeles-parking-citations"
   ]
  },
  {
   "cell_type": "markdown",
   "metadata": {
    "colab_type": "text",
    "id": "cx_t_OOpp59H"
   },
   "source": [
    "# Import tools and libraries"
   ]
  },
  {
   "cell_type": "markdown",
   "metadata": {},
   "source": [
    "**Before we begin manipulating the data, we import necessary libraries.**"
   ]
  },
  {
   "cell_type": "code",
   "execution_count": 1,
   "metadata": {
    "colab": {
     "base_uri": "https://localhost:8080/",
     "height": 71
    },
    "colab_type": "code",
    "id": "A-6xETgjqfMg",
    "outputId": "e424f616-ec45-41b9-b0cd-e9bf5879906d"
   },
   "outputs": [
    {
     "name": "stdout",
     "output_type": "stream",
     "text": [
<<<<<<< HEAD
      "Requirement already satisfied: tabula-py in /Users/Johnny/anaconda3/lib/python3.7/site-packages (1.3.1)\n",
      "Requirement already satisfied: pandas in /Users/Johnny/anaconda3/lib/python3.7/site-packages (from tabula-py) (0.23.4)\n",
      "Requirement already satisfied: distro in /Users/Johnny/anaconda3/lib/python3.7/site-packages (from tabula-py) (1.4.0)\n",
      "Requirement already satisfied: urllib3 in /Users/Johnny/anaconda3/lib/python3.7/site-packages (from tabula-py) (1.24.1)\n",
      "Requirement already satisfied: numpy in /Users/Johnny/anaconda3/lib/python3.7/site-packages (from tabula-py) (1.15.4)\n",
      "Requirement already satisfied: python-dateutil>=2.5.0 in /Users/Johnny/anaconda3/lib/python3.7/site-packages (from pandas->tabula-py) (2.7.5)\n",
      "Requirement already satisfied: pytz>=2011k in /Users/Johnny/anaconda3/lib/python3.7/site-packages (from pandas->tabula-py) (2018.7)\n",
      "Requirement already satisfied: six>=1.5 in /Users/Johnny/anaconda3/lib/python3.7/site-packages (from python-dateutil>=2.5.0->pandas->tabula-py) (1.12.0)\n",
      "Collecting package metadata: done\n",
      "Solving environment: done\n",
      "\n",
      "# All requested packages already installed.\n",
      "\n"
=======
      "Requirement already satisfied: tabula-py in /anaconda3/lib/python3.7/site-packages (1.3.1)\n",
      "Requirement already satisfied: numpy in /anaconda3/lib/python3.7/site-packages (from tabula-py) (1.15.4)\n",
      "Requirement already satisfied: urllib3 in /anaconda3/lib/python3.7/site-packages (from tabula-py) (1.24.1)\n",
      "Requirement already satisfied: distro in /anaconda3/lib/python3.7/site-packages (from tabula-py) (1.4.0)\n",
      "Requirement already satisfied: pandas in /anaconda3/lib/python3.7/site-packages (from tabula-py) (0.23.4)\n",
      "Requirement already satisfied: python-dateutil>=2.5.0 in /anaconda3/lib/python3.7/site-packages (from pandas->tabula-py) (2.7.5)\n",
      "Requirement already satisfied: pytz>=2011k in /anaconda3/lib/python3.7/site-packages (from pandas->tabula-py) (2018.7)\n",
      "Requirement already satisfied: six>=1.5 in /anaconda3/lib/python3.7/site-packages (from python-dateutil>=2.5.0->pandas->tabula-py) (1.12.0)\n"
>>>>>>> 1db207a2c1ecf8797a5d3e3126d10114e294e76e
     ]
    }
   ],
   "source": [
    "# Imports\n",
    "%matplotlib inline\n",
    "\n",
    "import numpy as np\n",
    "import pandas as pd\n",
    "import io\n",
    "import requests\n",
    "import matplotlib.pyplot as plt\n",
    "\n",
    "import patsy\n",
    "import statsmodels.api as sm\n",
    "import scipy.stats as stats\n",
    "from scipy.stats import ttest_ind, chisquare, normaltest\n",
    "\n",
    "# read PDF via tabula\n",
    "import tabula\n",
    "!pip install tabula-py\n",
    "\n",
    "#install beautifulsoup4\n",
    "import sys\n",
    "!conda install --yes --prefix {sys.prefix} beautifulsoup4\n",
    "import requests\n",
    "import bs4\n",
    "from bs4 import BeautifulSoup"
   ]
  },
  {
   "cell_type": "markdown",
   "metadata": {},
   "source": [
    "# Part 1: Vehicle Color"
   ]
  },
  {
   "cell_type": "markdown",
   "metadata": {
    "colab_type": "text",
    "id": "cx_t_OOpp59H"
   },
   "source": [
    "## *Data Cleaning / Pre Processing*"
   ]
  },
  {
   "cell_type": "markdown",
   "metadata": {},
   "source": [
    "The main goal of our project is to determine any possible correlations between parking citations and vehicles. Here, we import our dataset from Los Angeles Parking Citations as a dataframe and we name it PC_df."
   ]
  },
  {
   "cell_type": "code",
   "execution_count": 2,
   "metadata": {
    "colab": {
     "base_uri": "https://localhost:8080/",
     "height": 343
    },
    "colab_type": "code",
    "id": "b4M-BssTrDia",
    "outputId": "0febb5f1-d91d-4a9d-a844-1a1a9e185202"
   },
   "outputs": [
    {
     "name": "stderr",
     "output_type": "stream",
     "text": [
      "/anaconda3/lib/python3.7/site-packages/IPython/core/interactiveshell.py:3020: DtypeWarning: Columns (0,7) have mixed types. Specify dtype option on import or set low_memory=False.\n",
      "  interactivity=interactivity, compiler=compiler, result=result)\n"
     ]
    },
    {
     "data": {
      "text/html": [
       "<div>\n",
       "<style scoped>\n",
       "    .dataframe tbody tr th:only-of-type {\n",
       "        vertical-align: middle;\n",
       "    }\n",
       "\n",
       "    .dataframe tbody tr th {\n",
       "        vertical-align: top;\n",
       "    }\n",
       "\n",
       "    .dataframe thead th {\n",
       "        text-align: right;\n",
       "    }\n",
       "</style>\n",
       "<table border=\"1\" class=\"dataframe\">\n",
       "  <thead>\n",
       "    <tr style=\"text-align: right;\">\n",
       "      <th></th>\n",
       "      <th>Ticket number</th>\n",
       "      <th>Issue Date</th>\n",
       "      <th>Issue time</th>\n",
       "      <th>Meter Id</th>\n",
       "      <th>Marked Time</th>\n",
       "      <th>RP State Plate</th>\n",
       "      <th>Plate Expiry Date</th>\n",
       "      <th>VIN</th>\n",
       "      <th>Make</th>\n",
       "      <th>Body Style</th>\n",
       "      <th>Color</th>\n",
       "      <th>Location</th>\n",
       "      <th>Route</th>\n",
       "      <th>Agency</th>\n",
       "      <th>Violation code</th>\n",
       "      <th>Violation Description</th>\n",
       "      <th>Fine amount</th>\n",
       "      <th>Latitude</th>\n",
       "      <th>Longitude</th>\n",
       "    </tr>\n",
       "  </thead>\n",
       "  <tbody>\n",
       "    <tr>\n",
       "      <th>0</th>\n",
       "      <td>1103341116</td>\n",
       "      <td>2015-12-21T00:00:00</td>\n",
       "      <td>1251.0</td>\n",
       "      <td>NaN</td>\n",
       "      <td>NaN</td>\n",
       "      <td>CA</td>\n",
       "      <td>200304.0</td>\n",
       "      <td>NaN</td>\n",
       "      <td>HOND</td>\n",
       "      <td>PA</td>\n",
       "      <td>GY</td>\n",
       "      <td>13147 WELBY WAY</td>\n",
       "      <td>01521</td>\n",
       "      <td>1.0</td>\n",
       "      <td>4000A1</td>\n",
       "      <td>NO EVIDENCE OF REG</td>\n",
       "      <td>50.0</td>\n",
       "      <td>99999.0</td>\n",
       "      <td>99999.0</td>\n",
       "    </tr>\n",
       "    <tr>\n",
       "      <th>1</th>\n",
       "      <td>1103700150</td>\n",
       "      <td>2015-12-21T00:00:00</td>\n",
       "      <td>1435.0</td>\n",
       "      <td>NaN</td>\n",
       "      <td>NaN</td>\n",
       "      <td>CA</td>\n",
       "      <td>201512.0</td>\n",
       "      <td>NaN</td>\n",
       "      <td>GMC</td>\n",
       "      <td>VN</td>\n",
       "      <td>WH</td>\n",
       "      <td>525 S MAIN ST</td>\n",
       "      <td>1C51</td>\n",
       "      <td>1.0</td>\n",
       "      <td>4000A1</td>\n",
       "      <td>NO EVIDENCE OF REG</td>\n",
       "      <td>50.0</td>\n",
       "      <td>99999.0</td>\n",
       "      <td>99999.0</td>\n",
       "    </tr>\n",
       "    <tr>\n",
       "      <th>2</th>\n",
       "      <td>1104803000</td>\n",
       "      <td>2015-12-21T00:00:00</td>\n",
       "      <td>2055.0</td>\n",
       "      <td>NaN</td>\n",
       "      <td>NaN</td>\n",
       "      <td>CA</td>\n",
       "      <td>201503.0</td>\n",
       "      <td>NaN</td>\n",
       "      <td>NISS</td>\n",
       "      <td>PA</td>\n",
       "      <td>BK</td>\n",
       "      <td>200 WORLD WAY</td>\n",
       "      <td>2R2</td>\n",
       "      <td>2.0</td>\n",
       "      <td>8939</td>\n",
       "      <td>WHITE CURB</td>\n",
       "      <td>58.0</td>\n",
       "      <td>6439997.9</td>\n",
       "      <td>1802686.4</td>\n",
       "    </tr>\n",
       "    <tr>\n",
       "      <th>3</th>\n",
       "      <td>1104820732</td>\n",
       "      <td>2015-12-26T00:00:00</td>\n",
       "      <td>1515.0</td>\n",
       "      <td>NaN</td>\n",
       "      <td>NaN</td>\n",
       "      <td>CA</td>\n",
       "      <td>NaN</td>\n",
       "      <td>NaN</td>\n",
       "      <td>ACUR</td>\n",
       "      <td>PA</td>\n",
       "      <td>WH</td>\n",
       "      <td>100 WORLD WAY</td>\n",
       "      <td>2F11</td>\n",
       "      <td>2.0</td>\n",
       "      <td>000</td>\n",
       "      <td>17104h</td>\n",
       "      <td>NaN</td>\n",
       "      <td>6440041.1</td>\n",
       "      <td>1802686.2</td>\n",
       "    </tr>\n",
       "    <tr>\n",
       "      <th>4</th>\n",
       "      <td>1105461453</td>\n",
       "      <td>2015-09-15T00:00:00</td>\n",
       "      <td>115.0</td>\n",
       "      <td>NaN</td>\n",
       "      <td>NaN</td>\n",
       "      <td>CA</td>\n",
       "      <td>200316.0</td>\n",
       "      <td>NaN</td>\n",
       "      <td>CHEV</td>\n",
       "      <td>PA</td>\n",
       "      <td>BK</td>\n",
       "      <td>GEORGIA ST/OLYMPIC</td>\n",
       "      <td>1FB70</td>\n",
       "      <td>1.0</td>\n",
       "      <td>8069A</td>\n",
       "      <td>NO STOPPING/STANDING</td>\n",
       "      <td>93.0</td>\n",
       "      <td>99999.0</td>\n",
       "      <td>99999.0</td>\n",
       "    </tr>\n",
       "  </tbody>\n",
       "</table>\n",
       "</div>"
      ],
      "text/plain": [
       "  Ticket number           Issue Date  Issue time Meter Id  Marked Time  \\\n",
       "0    1103341116  2015-12-21T00:00:00      1251.0      NaN          NaN   \n",
       "1    1103700150  2015-12-21T00:00:00      1435.0      NaN          NaN   \n",
       "2    1104803000  2015-12-21T00:00:00      2055.0      NaN          NaN   \n",
       "3    1104820732  2015-12-26T00:00:00      1515.0      NaN          NaN   \n",
       "4    1105461453  2015-09-15T00:00:00       115.0      NaN          NaN   \n",
       "\n",
       "  RP State Plate  Plate Expiry Date  VIN  Make Body Style Color  \\\n",
       "0             CA           200304.0  NaN  HOND         PA    GY   \n",
       "1             CA           201512.0  NaN   GMC         VN    WH   \n",
       "2             CA           201503.0  NaN  NISS         PA    BK   \n",
       "3             CA                NaN  NaN  ACUR         PA    WH   \n",
       "4             CA           200316.0  NaN  CHEV         PA    BK   \n",
       "\n",
       "             Location  Route  Agency Violation code Violation Description  \\\n",
       "0     13147 WELBY WAY  01521     1.0         4000A1    NO EVIDENCE OF REG   \n",
       "1       525 S MAIN ST   1C51     1.0         4000A1    NO EVIDENCE OF REG   \n",
       "2       200 WORLD WAY    2R2     2.0           8939            WHITE CURB   \n",
       "3       100 WORLD WAY   2F11     2.0            000                17104h   \n",
       "4  GEORGIA ST/OLYMPIC  1FB70     1.0          8069A  NO STOPPING/STANDING   \n",
       "\n",
       "   Fine amount   Latitude  Longitude  \n",
       "0         50.0    99999.0    99999.0  \n",
       "1         50.0    99999.0    99999.0  \n",
       "2         58.0  6439997.9  1802686.4  \n",
       "3          NaN  6440041.1  1802686.2  \n",
       "4         93.0    99999.0    99999.0  "
      ]
     },
     "execution_count": 2,
     "metadata": {},
     "output_type": "execute_result"
    }
   ],
   "source": [
    "# read parking citations(PC) file\n",
    "PC_df = pd.read_csv('parking-citations.csv')\n",
    "PC_df.head()\n"
   ]
  },
  {
   "cell_type": "markdown",
   "metadata": {},
   "source": [
    "**We also import and interpret the agency codes found in PC_df into a dataframe called AC_df. Because the agency code dataset is a pdf, we utilize the imported tabula tool.**"
   ]
  },
  {
   "cell_type": "code",
   "execution_count": 3,
   "metadata": {},
   "outputs": [
    {
     "data": {
      "text/html": [
       "<div>\n",
       "<style scoped>\n",
       "    .dataframe tbody tr th:only-of-type {\n",
       "        vertical-align: middle;\n",
       "    }\n",
       "\n",
       "    .dataframe tbody tr th {\n",
       "        vertical-align: top;\n",
       "    }\n",
       "\n",
       "    .dataframe thead th {\n",
       "        text-align: right;\n",
       "    }\n",
       "</style>\n",
       "<table border=\"1\" class=\"dataframe\">\n",
       "  <thead>\n",
       "    <tr style=\"text-align: right;\">\n",
       "      <th></th>\n",
       "      <th>CODE</th>\n",
       "      <th>AGENCY NAME</th>\n",
       "      <th>NAME</th>\n",
       "    </tr>\n",
       "  </thead>\n",
       "  <tbody>\n",
       "    <tr>\n",
       "      <th>1</th>\n",
       "      <td>1</td>\n",
       "      <td>WESTERN</td>\n",
       "      <td>WESTERN</td>\n",
       "    </tr>\n",
       "    <tr>\n",
       "      <th>2</th>\n",
       "      <td>2</td>\n",
       "      <td>LAX CURRENT</td>\n",
       "      <td>LAX CUR</td>\n",
       "    </tr>\n",
       "    <tr>\n",
       "      <th>3</th>\n",
       "      <td>3</td>\n",
       "      <td>VALLEY</td>\n",
       "      <td>VALLEY</td>\n",
       "    </tr>\n",
       "    <tr>\n",
       "      <th>4</th>\n",
       "      <td>4</td>\n",
       "      <td>HOLLYWOOD</td>\n",
       "      <td>HOLLYWOOD</td>\n",
       "    </tr>\n",
       "    <tr>\n",
       "      <th>5</th>\n",
       "      <td>5</td>\n",
       "      <td>SOUTHERN</td>\n",
       "      <td>SOUTHERN</td>\n",
       "    </tr>\n",
       "  </tbody>\n",
       "</table>\n",
       "</div>"
      ],
      "text/plain": [
       "0 CODE  AGENCY NAME       NAME\n",
       "1    1      WESTERN    WESTERN\n",
       "2    2  LAX CURRENT    LAX CUR\n",
       "3    3       VALLEY     VALLEY\n",
       "4    4    HOLLYWOOD  HOLLYWOOD\n",
       "5    5     SOUTHERN   SOUTHERN"
      ]
     },
     "execution_count": 3,
     "metadata": {},
     "output_type": "execute_result"
    }
   ],
   "source": [
    "# read agency codes(AC) file\n",
    "from tabula import read_pdf\n",
    "AC_df = read_pdf('LADOT-Xerox Crib Sheet Agency Codes 12-31-2015.pdf')\n",
    "\n",
    "# set header to top row\n",
    "new_header = AC_df.iloc[0]\n",
    "AC_df = AC_df[1:]\n",
    "AC_df.columns = new_header\n",
    "\n",
    "# print head to check\n",
    "AC_df.head()\n"
   ]
  },
  {
   "cell_type": "markdown",
   "metadata": {},
   "source": [
    "**The main goal for our project is to analyze correlations between vehicle color, make, and parking citations given. We clean up our data by removing unnecessary columns and by dropping any rows with missing data.**"
   ]
  },
  {
   "cell_type": "code",
   "execution_count": 4,
   "metadata": {
    "colab": {
     "base_uri": "https://localhost:8080/",
     "height": 204
    },
    "colab_type": "code",
    "id": "MHGP5yaY1U0g",
    "outputId": "e37907aa-efc6-4b41-a707-98d1029402dc"
   },
   "outputs": [
    {
     "data": {
      "text/html": [
       "<div>\n",
       "<style scoped>\n",
       "    .dataframe tbody tr th:only-of-type {\n",
       "        vertical-align: middle;\n",
       "    }\n",
       "\n",
       "    .dataframe tbody tr th {\n",
       "        vertical-align: top;\n",
       "    }\n",
       "\n",
       "    .dataframe thead th {\n",
       "        text-align: right;\n",
       "    }\n",
       "</style>\n",
       "<table border=\"1\" class=\"dataframe\">\n",
       "  <thead>\n",
       "    <tr style=\"text-align: right;\">\n",
       "      <th></th>\n",
       "      <th>Make</th>\n",
       "      <th>Body Style</th>\n",
       "      <th>Color</th>\n",
       "      <th>Agency</th>\n",
       "      <th>Violation code</th>\n",
       "      <th>Violation Description</th>\n",
       "    </tr>\n",
       "  </thead>\n",
       "  <tbody>\n",
       "    <tr>\n",
       "      <th>0</th>\n",
       "      <td>HOND</td>\n",
       "      <td>PA</td>\n",
       "      <td>GY</td>\n",
       "      <td>1.0</td>\n",
       "      <td>4000A1</td>\n",
       "      <td>NO EVIDENCE OF REG</td>\n",
       "    </tr>\n",
       "    <tr>\n",
       "      <th>1</th>\n",
       "      <td>GMC</td>\n",
       "      <td>VN</td>\n",
       "      <td>WH</td>\n",
       "      <td>1.0</td>\n",
       "      <td>4000A1</td>\n",
       "      <td>NO EVIDENCE OF REG</td>\n",
       "    </tr>\n",
       "    <tr>\n",
       "      <th>2</th>\n",
       "      <td>NISS</td>\n",
       "      <td>PA</td>\n",
       "      <td>BK</td>\n",
       "      <td>2.0</td>\n",
       "      <td>8939</td>\n",
       "      <td>WHITE CURB</td>\n",
       "    </tr>\n",
       "    <tr>\n",
       "      <th>3</th>\n",
       "      <td>ACUR</td>\n",
       "      <td>PA</td>\n",
       "      <td>WH</td>\n",
       "      <td>2.0</td>\n",
       "      <td>000</td>\n",
       "      <td>17104h</td>\n",
       "    </tr>\n",
       "    <tr>\n",
       "      <th>4</th>\n",
       "      <td>CHEV</td>\n",
       "      <td>PA</td>\n",
       "      <td>BK</td>\n",
       "      <td>1.0</td>\n",
       "      <td>8069A</td>\n",
       "      <td>NO STOPPING/STANDING</td>\n",
       "    </tr>\n",
       "  </tbody>\n",
       "</table>\n",
       "</div>"
      ],
      "text/plain": [
       "   Make Body Style Color  Agency Violation code Violation Description\n",
       "0  HOND         PA    GY     1.0         4000A1    NO EVIDENCE OF REG\n",
       "1   GMC         VN    WH     1.0         4000A1    NO EVIDENCE OF REG\n",
       "2  NISS         PA    BK     2.0           8939            WHITE CURB\n",
       "3  ACUR         PA    WH     2.0            000                17104h\n",
       "4  CHEV         PA    BK     1.0          8069A  NO STOPPING/STANDING"
      ]
     },
     "execution_count": 4,
     "metadata": {},
     "output_type": "execute_result"
    }
   ],
   "source": [
    "# remove unnecessary columns\n",
    "PC_df = PC_df.drop(['Ticket number', 'Issue Date', 'Issue time', 'Meter Id', 'Marked Time', 'RP State Plate', 'Plate Expiry Date', 'VIN', 'Location', 'Route', 'Fine amount', 'Latitude', 'Longitude'], axis=1)\n",
    "\n",
    "#drop rows with nan\n",
    "PC_df = PC_df.dropna(axis=0)\n",
    "\n",
    "PC_df.head()\n"
   ]
  },
  {
   "cell_type": "markdown",
   "metadata": {},
   "source": [
    "**We will then extract all the unique agencies in PC_df and count them.**"
   ]
  },
  {
   "cell_type": "code",
   "execution_count": 5,
   "metadata": {
    "colab": {
     "base_uri": "https://localhost:8080/",
     "height": 456
    },
    "colab_type": "code",
    "id": "nZyYsDZBzrNE",
    "outputId": "77cbd2be-0548-4f0d-b6e8-7f4d99af2340",
    "scrolled": true
   },
   "outputs": [
    {
     "name": "stdout",
     "output_type": "stream",
     "text": [
      "We are looking at citations from  44  different agencies in LA.\n"
     ]
    }
   ],
   "source": [
    "# find all unique counts of Agencies\n",
    "unique_agency_count = PC_df['Agency'].unique()\n",
    "agency_count = unique_agency_count.size\n",
    "\n",
    "print(\"We are looking at citations from \", agency_count,\n",
    "      \" different agencies in LA.\")\n"
   ]
  },
  {
   "cell_type": "markdown",
   "metadata": {},
   "source": [
    "**We first approached our dataset by analyzing vehicle color with the number of tickets received. Because various agencies may indicate vehicle color differently, we create a function called standardize_color to standardize the various colors into more general terms.**"
   ]
  },
  {
   "cell_type": "code",
   "execution_count": 6,
   "metadata": {},
   "outputs": [],
   "source": [
    "#standardize colors function\n",
    "def standardize_color(string):\n",
    "    \n",
    "    if \"GY\" in string:\n",
    "        output = \"GRAY\"\n",
    "    elif \"GR\" in string:\n",
    "        output = \"GRAY\"\n",
    "    elif \"WH\" in string:\n",
    "        output = \"WHITE\"\n",
    "    elif \"WT\" in string:\n",
    "        output = \"WHITE\"\n",
    "    elif \"BK\" in string:\n",
    "        output = \"BLACK\"\n",
    "    elif \"BL\" in string:\n",
    "        output = \"BLUE\"\n",
    "    elif \"BE\" in string:\n",
    "        output = \"BLUE\"\n",
    "    elif \"CO\" in string:\n",
    "        output = \"BLUE\"\n",
    "    elif \"BR\" in string:\n",
    "        output = \"BROWN\"\n",
    "    elif \"SI\" in string:\n",
    "        output = \"SILVER\"\n",
    "    elif \"SL\" in string:\n",
    "        output = \"SILVER\"\n",
    "    elif \"GO\" in string:\n",
    "        output = \"GOLD\"\n",
    "    elif \"RE\" in string:\n",
    "        output = \"RED\"\n",
    "    elif \"RD\" in string:\n",
    "        output = \"RED\"\n",
    "    elif \"BU\" in string:\n",
    "        output = \"RED\"\n",
    "    elif \"BG\" in string:\n",
    "        output = \"RED\"\n",
    "    elif \"ME\" in string:\n",
    "        output = \"RED\"\n",
    "    elif \"MR\" in string:\n",
    "        output = \"RED\"\n",
    "    elif \"MA\" in string:\n",
    "        output = \"RED\"\n",
    "    elif \"TA\" in string:\n",
    "        output = \"TAN\"\n",
    "    elif \"TN\" in string:\n",
    "        output = \"TAN\"\n",
    "    elif \"YE\" in string:\n",
    "        output = \"YELLOW\"\n",
    "    elif \"RD\" in string:\n",
    "        output = \"RED\"\n",
    "    elif \"OR\" in string:\n",
    "        output = \"ORANGE\"\n",
    "    elif \"OT\" in string:\n",
    "        output = \"ORANGE\"\n",
    "    elif \"BN\" in string:\n",
    "        output = \"BROWN\"\n",
    "    elif \"GN\" in string:\n",
    "        output = \"GREEN\"\n",
    "    elif \"PR\" in string:\n",
    "        output = \"PURPLE\"\n",
    "    elif \"PU\" in string:\n",
    "        output = \"PURPLE\"\n",
    "    elif \"PL\" in string:\n",
    "        output = \"PURPLE\"\n",
    "    elif \"PE\" in string:\n",
    "        output = \"PURPLE\"\n",
    "    elif \"TU\" in string:\n",
    "        output = \"BLUE\"\n",
    "    elif \"TE\" in string:\n",
    "        output = \"BLUE\"\n",
    "    elif \"TE\" in string:\n",
    "        output = \"BLUE\"\n",
    "    elif \"TE\" in string:\n",
    "        output = \"BLUE\"\n",
    "    elif \"GL\" in string:\n",
    "        output = \"GOLD\"\n",
    "    elif \"YL\" in string:\n",
    "        output = \"YELLOW\"\n",
    "    elif \"MU\" in string:\n",
    "        output = \"YELLOW\"\n",
    "    elif \"AQ\" in string:\n",
    "        output = \"BLUE\"\n",
    "    elif \"W\" in string:\n",
    "        output = \"WHITE\"\n",
    "    elif \"SA\" in string:\n",
    "        output = \"TAN\"\n",
    "    elif \"WI\" in string:\n",
    "        output = \"WHITE\"\n",
    "    elif \"TE\" in string:\n",
    "        output = \"BLUE\"\n",
    "    #otherwise, keep as is\n",
    "    else:\n",
    "        output = \"OTHER\"\n",
    "    \n",
    "    return output"
   ]
  },
  {
   "cell_type": "markdown",
   "metadata": {},
   "source": [
    "**We then apply standardize_color to our dataframe, PC_df, and verify that all the colors indicated have transformed.**"
   ]
  },
  {
   "cell_type": "code",
   "execution_count": 7,
   "metadata": {},
   "outputs": [
    {
     "data": {
      "text/html": [
       "<div>\n",
       "<style scoped>\n",
       "    .dataframe tbody tr th:only-of-type {\n",
       "        vertical-align: middle;\n",
       "    }\n",
       "\n",
       "    .dataframe tbody tr th {\n",
       "        vertical-align: top;\n",
       "    }\n",
       "\n",
       "    .dataframe thead th {\n",
       "        text-align: right;\n",
       "    }\n",
       "</style>\n",
       "<table border=\"1\" class=\"dataframe\">\n",
       "  <thead>\n",
       "    <tr style=\"text-align: right;\">\n",
       "      <th></th>\n",
       "      <th>Make</th>\n",
       "      <th>Body Style</th>\n",
       "      <th>Color</th>\n",
       "      <th>Agency</th>\n",
       "      <th>Violation code</th>\n",
       "      <th>Violation Description</th>\n",
       "    </tr>\n",
       "  </thead>\n",
       "  <tbody>\n",
       "    <tr>\n",
       "      <th>0</th>\n",
       "      <td>HOND</td>\n",
       "      <td>PA</td>\n",
       "      <td>GRAY</td>\n",
       "      <td>1.0</td>\n",
       "      <td>4000A1</td>\n",
       "      <td>NO EVIDENCE OF REG</td>\n",
       "    </tr>\n",
       "    <tr>\n",
       "      <th>1</th>\n",
       "      <td>GMC</td>\n",
       "      <td>VN</td>\n",
       "      <td>WHITE</td>\n",
       "      <td>1.0</td>\n",
       "      <td>4000A1</td>\n",
       "      <td>NO EVIDENCE OF REG</td>\n",
       "    </tr>\n",
       "    <tr>\n",
       "      <th>2</th>\n",
       "      <td>NISS</td>\n",
       "      <td>PA</td>\n",
       "      <td>BLACK</td>\n",
       "      <td>2.0</td>\n",
       "      <td>8939</td>\n",
       "      <td>WHITE CURB</td>\n",
       "    </tr>\n",
       "    <tr>\n",
       "      <th>3</th>\n",
       "      <td>ACUR</td>\n",
       "      <td>PA</td>\n",
       "      <td>WHITE</td>\n",
       "      <td>2.0</td>\n",
       "      <td>000</td>\n",
       "      <td>17104h</td>\n",
       "    </tr>\n",
       "    <tr>\n",
       "      <th>4</th>\n",
       "      <td>CHEV</td>\n",
       "      <td>PA</td>\n",
       "      <td>BLACK</td>\n",
       "      <td>1.0</td>\n",
       "      <td>8069A</td>\n",
       "      <td>NO STOPPING/STANDING</td>\n",
       "    </tr>\n",
       "  </tbody>\n",
       "</table>\n",
       "</div>"
      ],
      "text/plain": [
       "   Make Body Style  Color  Agency Violation code Violation Description\n",
       "0  HOND         PA   GRAY     1.0         4000A1    NO EVIDENCE OF REG\n",
       "1   GMC         VN  WHITE     1.0         4000A1    NO EVIDENCE OF REG\n",
       "2  NISS         PA  BLACK     2.0           8939            WHITE CURB\n",
       "3  ACUR         PA  WHITE     2.0            000                17104h\n",
       "4  CHEV         PA  BLACK     1.0          8069A  NO STOPPING/STANDING"
      ]
     },
     "execution_count": 7,
     "metadata": {},
     "output_type": "execute_result"
    }
   ],
   "source": [
    "# apply standardize_color function\n",
    "PC_df['Color'] = PC_df['Color'].apply(standardize_color)\n",
    "PC_df.head()"
   ]
  },
  {
   "cell_type": "markdown",
   "metadata": {
    "colab_type": "text",
    "id": "G3257UGjp-sB"
   },
   "source": [
    "## *Data Visualization*"
   ]
  },
  {
   "cell_type": "markdown",
   "metadata": {},
   "source": [
    "**To visualize what we are working with so far, we count the number of values per color and place it on a bar and pie graph.**"
   ]
  },
  {
   "cell_type": "code",
   "execution_count": 8,
   "metadata": {},
   "outputs": [
    {
     "name": "stdout",
     "output_type": "stream",
     "text": [
      "WHITE     1922439\n",
      "BLACK     1892963\n",
      "GRAY      1722267\n",
      "SILVER    1155653\n",
      "BLUE       691872\n",
      "RED        631179\n",
      "GREEN      251813\n",
      "BROWN      179378\n",
      "GOLD       115200\n",
      "ORANGE      81073\n",
      "TAN         73429\n",
      "YELLOW      35544\n",
      "PURPLE      16929\n",
      "OTHER        8637\n",
      "Name: Color, dtype: int64\n"
     ]
    },
    {
     "data": {
      "text/plain": [
<<<<<<< HEAD
       "<matplotlib.axes._subplots.AxesSubplot at 0x1c1c093ba8>"
=======
       "<matplotlib.axes._subplots.AxesSubplot at 0x1c257e68d0>"
>>>>>>> 1db207a2c1ecf8797a5d3e3126d10114e294e76e
      ]
     },
     "execution_count": 8,
     "metadata": {},
     "output_type": "execute_result"
    },
    {
     "data": {
      "image/png": "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\n",
      "text/plain": [
       "<Figure size 432x288 with 1 Axes>"
      ]
     },
     "metadata": {
      "needs_background": "light"
     },
     "output_type": "display_data"
    }
   ],
   "source": [
    "color = PC_df['Color']\n",
    "color_count = color.value_counts()\n",
    "\n",
    "print(color_count)\n",
    "\n",
    "color_count.plot(kind='bar')"
   ]
  },
  {
   "cell_type": "code",
   "execution_count": 9,
   "metadata": {
    "scrolled": false
   },
   "outputs": [
    {
     "data": {
      "image/png": "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\n",
      "text/plain": [
       "<Figure size 432x288 with 1 Axes>"
      ]
     },
     "metadata": {},
     "output_type": "display_data"
    }
   ],
   "source": [
    "color_pie_chart = color_count[:13].plot.pie(shadow=True, startangle=0, radius=2.3, autopct='%1.1f%%')\n",
    "\n",
    "title = plt.title('Vehicle Color Distribution', y=1.6)\n",
    "labels = 'White', 'Black', 'Gray', 'Silver', 'Blue', 'Red', 'Green', 'Brown', 'Gold', 'Orange', 'Tan', 'Yellow', 'Purple', 'Other'\n",
    "leg = plt.legend(labels,loc='upper right')\n",
    "\n",
    "bb = leg.get_bbox_to_anchor().inverse_transformed(color_pie_chart.transAxes)\n",
    "\n",
    "xOffset = 1.5\n",
    "bb.x0 += xOffset\n",
    "bb.x1 += xOffset\n",
    "leg.set_bbox_to_anchor(bb, transform = color_pie_chart.transAxes)\n"
   ]
  },
  {
   "cell_type": "markdown",
   "metadata": {},
   "source": [
    "### Dataframe of the most common colors sold distribution across North America"
   ]
  },
  {
   "cell_type": "code",
   "execution_count": 100,
   "metadata": {},
   "outputs": [
    {
     "data": {
      "text/html": [
       "<div>\n",
       "<style scoped>\n",
       "    .dataframe tbody tr th:only-of-type {\n",
       "        vertical-align: middle;\n",
       "    }\n",
       "\n",
       "    .dataframe tbody tr th {\n",
       "        vertical-align: top;\n",
       "    }\n",
       "\n",
       "    .dataframe thead th {\n",
       "        text-align: right;\n",
       "    }\n",
       "</style>\n",
       "<table border=\"1\" class=\"dataframe\">\n",
       "  <thead>\n",
       "    <tr style=\"text-align: right;\">\n",
       "      <th></th>\n",
       "      <th>Color</th>\n",
       "      <th>PPG</th>\n",
       "    </tr>\n",
       "  </thead>\n",
       "  <tbody>\n",
       "    <tr>\n",
       "      <th>0</th>\n",
       "      <td>White</td>\n",
       "      <td>21</td>\n",
       "    </tr>\n",
       "    <tr>\n",
       "      <th>1</th>\n",
       "      <td>Silver</td>\n",
       "      <td>16</td>\n",
       "    </tr>\n",
       "    <tr>\n",
       "      <th>2</th>\n",
       "      <td>Black</td>\n",
       "      <td>19</td>\n",
       "    </tr>\n",
       "    <tr>\n",
       "      <th>3</th>\n",
       "      <td>Grey</td>\n",
       "      <td>16</td>\n",
       "    </tr>\n",
       "    <tr>\n",
       "      <th>4</th>\n",
       "      <td>Blue</td>\n",
       "      <td>8</td>\n",
       "    </tr>\n",
       "    <tr>\n",
       "      <th>5</th>\n",
       "      <td>Red</td>\n",
       "      <td>10</td>\n",
       "    </tr>\n",
       "    <tr>\n",
       "      <th>6</th>\n",
       "      <td>Brown</td>\n",
       "      <td>7</td>\n",
       "    </tr>\n",
       "    <tr>\n",
       "      <th>7</th>\n",
       "      <td>Green</td>\n",
       "      <td>3</td>\n",
       "    </tr>\n",
       "    <tr>\n",
       "      <th>8</th>\n",
       "      <td>Others</td>\n",
       "      <td>0</td>\n",
       "    </tr>\n",
       "  </tbody>\n",
       "</table>\n",
       "</div>"
      ],
      "text/plain": [
       "    Color  PPG\n",
       "0   White   21\n",
       "1  Silver   16\n",
       "2   Black   19\n",
       "3    Grey   16\n",
       "4    Blue    8\n",
       "5     Red   10\n",
       "6   Brown    7\n",
       "7   Green    3\n",
       "8  Others    0"
      ]
     },
     "execution_count": 100,
     "metadata": {},
     "output_type": "execute_result"
    }
   ],
   "source": [
    "d['Color'] = ['White', 'Silver', 'Black', 'Grey', 'Blue', 'Red', 'Brown', 'Green', 'Others']\n",
    "d['PPG'] = [21, 16, 19, 16, 8, 10, 7, 3, 0]\n",
    "my_df = pd.DataFrame(data=d)\n",
    "my_df = my_df.set_index('Color')\n",
    "d"
   ]
  },
  {
   "cell_type": "markdown",
   "metadata": {},
   "source": [
    "**This is the data from Wikipedia of the most common paint colors sold in North America.**"
   ]
  },
  {
   "cell_type": "markdown",
   "metadata": {},
   "source": [
    "## *Data Analysis/Results*"
   ]
  },
  {
   "cell_type": "markdown",
   "metadata": {},
   "source": [
    "The first two graphs display which monochrome colors yield the most parking tickets in the city of Los Angeles. White, black, gray, and silver, account for most parking tickets, making up 76.3% of all parking tickets."
   ]
  },
  {
   "cell_type": "markdown",
   "metadata": {},
   "source": []
  },
  {
   "cell_type": "markdown",
   "metadata": {},
   "source": [
    "# Part 2: Vehicle Make"
   ]
  },
  {
   "cell_type": "markdown",
   "metadata": {},
   "source": [
    "## *Data Cleaning / Pre Processing*"
   ]
  },
  {
   "cell_type": "markdown",
   "metadata": {},
   "source": [
    "We create a function that locates the vehicle codes and standardize them into vehicle makes. The vehicle codes that were indeterminate are left as is and missing values are changed to \"Other\"."
   ]
  },
  {
   "cell_type": "code",
   "execution_count": null,
   "metadata": {},
   "outputs": [],
   "source": [
    "# Tries to Standardize Models. Some four letter codes\n",
    "# we couldn't figure out and left them as is. NaN values\n",
    "# are changed to other\n",
    "def standardize_Model(string):\n",
    "    \n",
    "    if (pd.isnull(string)):\n",
    "        string = \"OTHER\"\n",
    "\n",
    "    if \"HOND\" in string:\n",
    "        output = \"HONDA\"\n",
    "    elif \"VN\" in string:\n",
    "        output = \"VANTAGE\"\n",
    "    elif \"KW\" in string:\n",
    "        output = \"KENWORTH\"\n",
    "    elif \"HD\" in string:\n",
    "        output = \"HARLEY DAVIDSON\"\n",
    "    elif \"VW\" in string:\n",
    "        output = \"VOLKSWAGEN\"\n",
    "    elif \"LR\" in string:\n",
    "        output = \"LAND ROVER\"\n",
    "    elif \"MB\" in string:\n",
    "        output = \"MERCEDES-BENZ\"\n",
    "    elif \"HON\" in string:\n",
    "        output = \"HONDA\"\n",
    "    elif \"SAA\" in string:\n",
    "        output = \"SAAB\"\n",
    "    elif \"ROL\" in string:\n",
    "        output = \"ROLLS-ROYCE\"\n",
    "    elif \"AUD\" in string:\n",
    "        output = \"AUDI\"\n",
    "    elif \"HNO\" in string:\n",
    "        output = \"HINO\"\n",
    "    elif \"INF\" in string:\n",
    "        output = \"INFINITI\"\n",
    "    elif \"MEZ\" in string:\n",
    "        output = \"MERCEDES-BENZ\"\n",
    "    elif \"LXS\" in string:\n",
    "        output = \"LEXUS\"\n",
    "    elif \"MRZ\" in string:\n",
    "        output = \"MERCEDES-BENZ\"\n",
    "    elif \"MZD\" in string:\n",
    "        output = \"MAZDA\"\n",
    "    elif \"ISU\" in string:\n",
    "        output = \"ISUZU\"\n",
    "    elif \"MIT\" in string:\n",
    "        output = \"MIT\"\n",
    "    elif \"LEX\" in string:\n",
    "        output = \"LEXUS\"\n",
    "    elif \"JAG\" in string:\n",
    "        output = \"JAGUAR\"\n",
    "    elif \"HYD\" in string:\n",
    "        output = \"HYUNDAI\"\n",
    "    elif \"HYN\" in string:\n",
    "        output = \"HYUNDAI\"\n",
    "    elif \"HYU\" in string:\n",
    "        output = \"HYUNDAI\"\n",
    "    elif \"ACU\" in string:\n",
    "        output = \"ACURA\"\n",
    "    elif \"BNZ\" in string:\n",
    "        output = \"MERCEDES-BENZ\"\n",
    "    elif \"BMV\" in string:\n",
    "        output = \"BMW\"\n",
    "    elif \"MBZ\" in string:\n",
    "        output = \"MERCEDES-BENZ\"\n",
    "    elif \"SUB\" in string:\n",
    "        output = \"SUBARU\"\n",
    "    elif \"SAT\" in string:\n",
    "        output = \"SATURN\"\n",
    "    elif \"HYDA\" in string:\n",
    "        output = \"HYUNDAI\"\n",
    "    elif \"INFN\" in string:\n",
    "        output = \"INFINITI\"\n",
    "    elif \"ODYS\" in string:\n",
    "        output = \"HONDA\"\n",
    "    elif \"MBEZ\" in string:\n",
    "        output = \"MERCEDES-BENZ\"\n",
    "    elif \"MAZA\" in string:\n",
    "        output = \"MAZDA\"\n",
    "    elif \"HNDY\" in string:\n",
    "        output = \"HYUNDAI\"\n",
    "    elif \"MERB\" in string:\n",
    "        output = \"MERCEDES-BENZ\"\n",
    "    elif \"INFT\" in string:\n",
    "        output = \"INFINITI\"\n",
    "    elif \"LEXI\" in string:\n",
    "        output = \"LEXUS\"\n",
    "    elif \"HUMR\" in string:\n",
    "        output = \"HUMMER\"\n",
    "    elif \"LNRV\" in string:\n",
    "        output = \"LAND ROVER\"\n",
    "    elif \"ACCU\" in string:\n",
    "        output = \"ACURA\"\n",
    "    elif \"HYUD\" in string:\n",
    "        output = \"HYUD\"\n",
    "    elif \"MAZE\" in string:\n",
    "        output = \"MASERATI\"\n",
    "    elif \"JAGA\" in string:\n",
    "        output = \"JAGUAR\"\n",
    "    elif \"RNGR\" in string:\n",
    "        output = \"LAND ROVER\"\n",
    "    elif \"MERS\" in string:\n",
    "        output = \"MERCEDES-BENZ\"\n",
    "    elif \"MADZ\" in string:\n",
    "        output = \"MAZDA\"\n",
    "    elif \"HYDI\" in string:\n",
    "        output = \"HYUNDAI\"\n",
    "    elif \"LXUS\" in string:\n",
    "        output = \"LEXUS\"\n",
    "    elif \"ACRA\" in string:\n",
    "        output = \"ACURA\"\n",
    "    elif \"MZDA\" in string:\n",
    "        output = \"MAZDA\"\n",
    "    elif \"RRVR\" in string:\n",
    "        output = \"LAND ROVER\"\n",
    "    elif \"SATN\" in string:\n",
    "        output = \"SATURN\"\n",
    "    elif \"TSLA\" in string:\n",
    "        output = \"TESLA\"\n",
    "    elif \"HUYN\" in string:\n",
    "        output = \"HYUNDAI\"\n",
    "    elif \"SATR\" in string:\n",
    "        output = \"SATURN\"\n",
    "    elif \"FRTL\" in string:\n",
    "        output = \"FREIGHTLINER\"\n",
    "    elif \"HUND\" in string:\n",
    "        output = \"HYUNDAI\"\n",
    "    elif \"ROVE\" in string:\n",
    "        output = \"LAND ROVER\"\n",
    "    elif \"LRVR\" in string:\n",
    "        output = \"LAND ROVER\"\n",
    "    elif \"WHIT\" in string:\n",
    "        output = \"WHITE\"\n",
    "    elif \"MITZ\" in string:\n",
    "        output = \"MITSUBISHI\"\n",
    "    elif \"SMAR\" in string:\n",
    "        output = \"SMART\"\n",
    "    elif \"HYND\" in string:\n",
    "        output = \"HYUNDAI\"\n",
    "    elif \"LAND\" in string:\n",
    "        output = \"LAND ROVER\"\n",
    "    elif \"SUZU\" in string:\n",
    "        output = \"SUZUKI\"\n",
    "    elif \"LROV\" in string:\n",
    "        output = \"LAND ROVER\"\n",
    "    elif \"TSMR\" in string:\n",
    "        output = \"TESLA\"\n",
    "    elif \"ALFA\" in string:\n",
    "        output = \"ALFA ROMEO\"\n",
    "    elif \"MENZ\" in string:\n",
    "        output = \"MERCEDES-BENZ\"\n",
    "    elif \"COOP\" in string:\n",
    "        output = \"MINI\"\n",
    "    elif \"RANG\" in string:\n",
    "        output = \"LAND ROVER\"\n",
    "    elif \"SABU\" in string:\n",
    "        output = \"SUBARU\"\n",
    "    elif \"HARL\" in string:\n",
    "        output = \"HARLEY-DAVIDSON\"\n",
    "    elif \"STLG\" in string:\n",
    "        output = \"STERLING\"\n",
    "    elif \"ASTO\" in string:\n",
    "        output = \"ASTON MARTIN\"\n",
    "    elif \"BENT\" in string:\n",
    "        output = \"BENTLEY\"\n",
    "    elif \"ISUZ\" in string:\n",
    "        output = \"ISUZU\"\n",
    "    elif \"EXPL\" in string:\n",
    "        output = \"FORD\"\n",
    "    elif \"DAEW\" in string:\n",
    "        output = \"DAEWOO\"\n",
    "    elif \"FERR\" in string:\n",
    "        output = \"FERRARI\"\n",
    "    elif \"SMRT\" in string:\n",
    "        output = \"SMART\"\n",
    "    elif \"HUMM\" in string:\n",
    "        output = \"HUMMER\"\n",
    "    elif \"BENT\" in string:\n",
    "        output = \"BETLEY\"\n",
    "    elif \"LNDR\" in string:\n",
    "        output = \"LAND ROVER\"\n",
    "    elif \"RROV\" in string:\n",
    "        output = \"LAND ROVER\"\n",
    "    elif \"SUZI\" in string:\n",
    "        output = \"SUZUKI\"\n",
    "    elif \"PLYM\" in string:\n",
    "        output = \"PLYMOUTH\"\n",
    "    elif \"STRN\" in string:\n",
    "        output = \"SATURN\"\n",
    "    elif \"LEXS\" in string:\n",
    "        output = \"LEXUS\"\n",
    "    elif \"PORS\" in string:\n",
    "        output = \"PORSCHE\"\n",
    "    elif \"MNNI\" in string:\n",
    "        output = \"MINI\"\n",
    "    elif \"FRHT\" in string:\n",
    "        output = \"FREIGHTLINER\"\n",
    "    elif \"TOYT\" in string:\n",
    "        output = \"TOYOTA\"\n",
    "    elif \"JAGR\" in string:\n",
    "        output = \"JAGUAR\"\n",
    "    elif \"BENZ\" in string:\n",
    "        output = \"MERCEDES-BENZ\"\n",
    "    elif \"MERZ\" in string:\n",
    "        output = \"MERCEDES-BENZ\"\n",
    "    elif \"SATU\" in string:\n",
    "        output = \"SATURN\"\n",
    "    elif \"VOLV\" in string:\n",
    "        output = \"VOLVO\"\n",
    "    elif \"LEXU\" in string:\n",
    "        output = \"LEXUS\"\n",
    "    elif \"LROW\" in string:\n",
    "        output = \"LAND ROVER\"\n",
    "    elif \"LINC\" in string:\n",
    "        output = \"LINCOLN\"\n",
    "    elif \"BUIC\" in string:\n",
    "        output = \"BUICK\"\n",
    "    elif \"OLDS\" in string:\n",
    "        output = \"OLDSMOBILE\"\n",
    "    elif \"LROW\" in string:\n",
    "        output = \"LAND ROVER\"\n",
    "    elif \"VOLK\" in string:\n",
    "        output = \"VOLKSWAGEN\"\n",
    "    elif \"MITS\" in string:\n",
    "        output = \"MITSUBISHI\"\n",
    "    elif \"FREI\" in string:\n",
    "        output = \"FREIGHTLINER\"\n",
    "    elif \"CADI\" in string:\n",
    "        output = \"CADILLAC\"\n",
    "    elif \"INFI\" in string:\n",
    "        output = \"INFINITI\"\n",
    "    elif \"MERC\" in string:\n",
    "        output = \"MERCURY\"\n",
    "    elif \"SCIO\" in string:\n",
    "        output = \"SCION\"\n",
    "    elif \"NISS\" in string:\n",
    "        output = \"NISSAN\"\n",
    "    elif \"ACUR\" in string:\n",
    "        output = \"ACURA\"\n",
    "    elif \"CHEV\" in string:\n",
    "        output = \"CHEVROLET\"\n",
    "    elif \"MAZD\" in string:\n",
    "        output = \"MAZDA\"\n",
    "    elif \"TOYO\" in string:\n",
    "        output = \"TOYOTA\"\n",
    "    elif \"CHRY\" in string:\n",
    "        output = \"CHEVROLET\"\n",
    "    elif \"PTRB\" in string:\n",
    "        output = \"PETERBILT\"\n",
    "    elif \"MBNZ\" in string:\n",
    "        output = \"MERCEDES-BENZ\"\n",
    "    elif \"HYUN\" in string:\n",
    "        output = \"HYUNDAI\"\n",
    "    elif \"MASE\" in string:\n",
    "        output = \"MASERATI\"\n",
    "    elif \"PONT\" in string:\n",
    "        output = \"PONTIAC\"\n",
    "    elif \"TESL\" in string:\n",
    "        output = \"TESLA\"\n",
    "    elif \"DODG\" in string:\n",
    "        output =\"DODGE\"\n",
    "    elif \"SUBA\" in string:\n",
    "        output = \"SUBARU\"\n",
    "    # Otherwise, if uncaught - keep as is\n",
    "    else:\n",
    "        output = string\n",
    "    \n",
    "    return output"
   ]
  },
  {
   "cell_type": "markdown",
   "metadata": {},
   "source": [
    "**We apply the function and verify that the vehicle makes have been standardized.**"
   ]
  },
  {
   "cell_type": "code",
   "execution_count": null,
   "metadata": {},
   "outputs": [],
   "source": [
    "## Standardize the Models\n",
    "PC_df[\"Make\"] = PC_df[\"Make\"].apply(standardize_Model)\n",
    "PC_df.head()"
   ]
  },
  {
   "cell_type": "markdown",
   "metadata": {},
   "source": [
    "**We count the number of values per make.**"
   ]
  },
  {
   "cell_type": "code",
   "execution_count": null,
   "metadata": {},
<<<<<<< HEAD
   "outputs": [],
=======
   "outputs": [
    {
     "data": {
      "text/plain": [
       "TOYOTA           1536296\n",
       "HONDA             990443\n",
       "FORD              768459\n",
       "CHEVROLET         713916\n",
       "NISSAN            627333\n",
       "BMW               401551\n",
       "MERCEDES-BENZ     364486\n",
       "VOLKSWAGEN        301696\n",
       "HYUNDAI           270876\n",
       "LEXUS             261335\n",
       "DODGE             257067\n",
       "KIA               204801\n",
       "JEEP              202934\n",
       "AUDI              170535\n",
       "MAZDA             161011\n",
       "OTHR              146807\n",
       "GMC               126096\n",
       "INFINITI          114176\n",
       "ACURA             106173\n",
       "SUBARU             95318\n",
       "VOLVO              84797\n",
       "MIT                76191\n",
       "CADILLAC           68638\n",
       "LAND ROVER         68022\n",
       "MINI               64607\n",
       "PORSCHE            44797\n",
       "FREIGHTLINER       42761\n",
       "UNK                41545\n",
       "BUICK              41349\n",
       "PONTIAC            39534\n",
       "                  ...   \n",
       "SNCT                   1\n",
       "YSTR                   1\n",
       "MERV                   1\n",
       "BUTL                   1\n",
       "KAYK                   1\n",
       "LNRR                   1\n",
       "BHL                    1\n",
       "DDOG                   1\n",
       "WRKC                   1\n",
       "ROUG                   1\n",
       "ALJD                   1\n",
       "CMPP                   1\n",
       "WELC                   1\n",
       "TRIT                   1\n",
       "MECU                   1\n",
       "LTNF                   1\n",
       "LDRR                   1\n",
       "SCII                   1\n",
       "BEAW                   1\n",
       "LEPR                   1\n",
       "HYON                   1\n",
       "FEDE                   1\n",
       "JOND                   1\n",
       "KAI                    1\n",
       "HYWD                   1\n",
       "WHEE                   1\n",
       "DAWU                   1\n",
       "POKS                   1\n",
       "SOLA                   1\n",
       "FRLT                   1\n",
       "Name: Make, Length: 1867, dtype: int64"
      ]
     },
     "execution_count": 13,
     "metadata": {},
     "output_type": "execute_result"
    }
   ],
>>>>>>> 1db207a2c1ecf8797a5d3e3126d10114e294e76e
   "source": [
    "# The number of Tickets for Each Car Model\n",
    "Tickets_CarModels = PC_df[\"Make\"].value_counts()\n",
    "Tickets_CarModels"
   ]
  },
  {
   "cell_type": "markdown",
   "metadata": {},
   "source": [
    "**To compare the percentage of vehicle makes who do receive tickets, we utilize the DMV dataset and extract the total number of vehicle registrations by make and location.**"
   ]
  },
  {
   "cell_type": "code",
   "execution_count": null,
   "metadata": {},
<<<<<<< HEAD
   "outputs": [],
=======
   "outputs": [
    {
     "name": "stderr",
     "output_type": "stream",
     "text": [
      "/anaconda3/lib/python3.7/site-packages/IPython/core/interactiveshell.py:3020: DtypeWarning: Columns (0) have mixed types. Specify dtype option on import or set low_memory=False.\n",
      "  interactivity=interactivity, compiler=compiler, result=result)\n"
     ]
    }
   ],
>>>>>>> 1db207a2c1ecf8797a5d3e3126d10114e294e76e
   "source": [
    "# Data from DMV.gov that contains the car registrations\n",
    "# for all of California\n",
    "url = \"https://www.dmv.ca.gov/portal/wcm/connect/d0faaf2e-0b1a-43a5-96a4-15dbd2e3eff8/VehicleCount_070118.csv?MOD=AJPERES&CVID=\"\n",
    "s = requests.get(url).content\n",
    "California_Cars = pd.read_csv(io.StringIO(s.decode('utf-8')))"
   ]
  },
  {
   "cell_type": "code",
   "execution_count": null,
   "metadata": {},
   "outputs": [],
   "source": [
    "# Create a List that contains the number of registered\n",
    "# vehicles for each car Model\n",
    "\n",
    "California_CarModels = California_Cars.groupby('Make')['Vehicles'].sum()\n"
   ]
  },
  {
   "cell_type": "markdown",
   "metadata": {},
   "source": [
    "**We locate all the vehicle makes in Los Angeles by first identifying all vehicle makes within the Los Angeles zip codes.**"
   ]
  },
  {
   "cell_type": "code",
   "execution_count": null,
   "metadata": {},
   "outputs": [],
   "source": [
    "# Get the number of vehicles just in LA\n",
    "\n",
    "# First Filter through all the Registered Cars and get\n",
    "# the ones with zip codes in LA County\n",
    "\n",
    "# Get rid of Zip Codes that are out of State\n",
    "LA_Cars = California_Cars[California_Cars['ZIP'] != 'OOS']\n",
    "# Get rid of Zip Codes that are not labeled\n",
    "LA_Cars = LA_Cars[LA_Cars['ZIP'] != 'Other']\n",
    "\n",
    "# Convert Remaing Zip Codes to numeric values\n",
    "LA_Cars['ZIP'] = pd.to_numeric(LA_Cars['ZIP'])\n",
    "# Finally Get Zip Codes that are only in LA\n",
    "lowest_ZIP = 90001 # Lowest LA Zip Code\n",
    "highest_ZIP = 90899 # Highest LA Zip Code\n",
    "\n",
    "LA_Cars = LA_Cars.loc[(LA_Cars['ZIP'] >= lowest_ZIP) & (LA_Cars['ZIP'] <= highest_ZIP)]\n",
    "\n",
    "# Create a List that contains the number of registered\n",
    "# vehicles in LA for each car Model\n",
    "\n",
    "LA_CarModels = LA_Cars.groupby('Make')['Vehicles'].sum()"
   ]
  },
  {
   "cell_type": "markdown",
   "metadata": {},
   "source": [
    "**We sum up the total number of cars in California and Los Angeles.**"
   ]
  },
  {
   "cell_type": "code",
   "execution_count": null,
   "metadata": {},
   "outputs": [],
   "source": [
    "total_Cars_California = California_Cars['Vehicles'].sum()\n",
    "total_Cars_LA = LA_Cars['Vehicles'].sum()\n",
    "\n",
    "print(\"Total cars in California: \", total_Cars_California, \n",
    "      \"     Total cars in LA: \", total_Cars_LA)"
   ]
  },
  {
   "cell_type": "markdown",
   "metadata": {},
   "source": [
    "**We then compare the ratio of vehicle make to the number of tickets received.**"
   ]
  },
  {
   "cell_type": "code",
   "execution_count": null,
   "metadata": {},
   "outputs": [],
   "source": [
    "# Comparing Toyota and Ferrari\n",
    "\n",
    "# Get number of Toyotas\n",
    "number_ToyotaCA = California_CarModels[\"TOYOTA\"]\n",
    "number_ToyotaLA = LA_CarModels[\"TOYOTA\"]\n",
    "number_ToyotaTickets = Tickets_CarModels[\"TOYOTA\"]\n",
    "\n",
    "# Get number of Ferraris\n",
    "number_FerrariCA = California_CarModels[\"FERRARI\"]\n",
    "number_FerrariLA = LA_CarModels[\"FERRARI\"]\n",
    "number_FerrariTickets = Tickets_CarModels[\"FERRARI\"]"
   ]
  },
  {
   "cell_type": "code",
   "execution_count": null,
   "metadata": {},
   "outputs": [],
   "source": [
    "# Statements\n",
    "print(\"The percentage of Toyotas in California is \",((number_ToyotaCA/total_Cars_California) * 100))\n",
    "print(\"The percentage of Toyotas in Los Angeles is\",((number_ToyotaLA/total_Cars_LA)*100))\n",
    "print(\"The percentage of tickets given to Toyotas is\",((number_ToyotaTickets/len(PC_df))*100))\n",
    "\n",
    "print(\"The percentage of Ferrari California is \",((number_FerrariCA/total_Cars_California) * 100))\n",
    "print(\"The percentage of Ferrari in Los Angeles is\",((number_FerrariLA/total_Cars_LA)*100))\n",
    "print(\"The percentage of tickets given to Ferraris is\",((number_FerrariTickets/len(PC_df))*100))\n"
   ]
  },
  {
   "cell_type": "markdown",
   "metadata": {},
   "source": [
    "**We also compare the specific types of violations related to vehicle make.**"
   ]
  },
  {
   "cell_type": "code",
   "execution_count": null,
   "metadata": {},
   "outputs": [],
   "source": [
    "# Get the No Stopping Tickets Violation Code is 8069A\n",
    "no_StoppingTickets = PC_df[PC_df[\"Violation code\"] == \"8069A\"]"
   ]
  },
  {
   "cell_type": "code",
   "execution_count": null,
   "metadata": {},
   "outputs": [],
   "source": [
    "print( \"Percentage of No Stopping tickets given to Ferraris is \",(no_StoppingTickets[\"Make\"].value_counts()['FERRARI']/len(no_StoppingTickets)) * 100)\n"
   ]
  },
  {
   "cell_type": "markdown",
   "metadata": {},
   "source": [
    "## *Data Visualization*"
   ]
  },
  {
   "cell_type": "code",
   "execution_count": 22,
   "metadata": {},
   "outputs": [
    {
     "data": {
      "text/plain": [
       "TOYOTA             1536296\n",
       "HONDA               990443\n",
       "FORD                768459\n",
       "CHEVROLET           713916\n",
       "NISSAN              627333\n",
       "BMW                 401551\n",
       "MERCEDES-BENZ       364486\n",
       "VOLKSWAGEN          301696\n",
       "HYUNDAI             270876\n",
       "LEXUS               261335\n",
       "DODGE               257067\n",
       "KIA                 204801\n",
       "JEEP                202934\n",
       "AUDI                170535\n",
       "MAZDA               161011\n",
       "OTHR                146807\n",
       "GMC                 126096\n",
       "INFINITI            114176\n",
       "ACURA               106173\n",
       "SUBARU               95318\n",
       "VOLVO                84797\n",
       "MIT                  76191\n",
       "CADILLAC             68638\n",
       "LAND ROVER           68022\n",
       "MINI                 64607\n",
       "PORSCHE              44797\n",
       "FREIGHTLINER         42761\n",
       "UNK                  41545\n",
       "BUICK                41349\n",
       "PONTIAC              39534\n",
       "SATURN               39146\n",
       "LINCOLN              38185\n",
       "GRUM                 37381\n",
       "FIAT                 32903\n",
       "JAGUAR               27446\n",
       "MERCURY              25682\n",
       "TESLA                22737\n",
       "ISUZU                18691\n",
       "INTL                 15080\n",
       "SUZUKI               13104\n",
       "SAAB                 12328\n",
       "OLDSMOBILE           11050\n",
       "MASERATI              9130\n",
       "PLYMOUTH              6541\n",
       "PETERBILT             6540\n",
       "SMART                 5779\n",
       "KENWORTH              5327\n",
       "HARLEY DAVIDSON       4634\n",
       "HINO                  4599\n",
       "HUMMER                3923\n",
       "BENTLEY               3783\n",
       "GEO                   3619\n",
       "YAMA                  3613\n",
       "KAWK                  3059\n",
       "SCION                 1906\n",
       "TRIU                  1870\n",
       "CHEC                  1793\n",
       "ROLLS-ROYCE           1765\n",
       "WINN                  1693\n",
       "ALFA ROMEO            1660\n",
       "Name: Make, dtype: int64"
      ]
     },
     "execution_count": 22,
     "metadata": {},
     "output_type": "execute_result"
    }
   ],
   "source": [
    "# This is a list of the 60 models with the most tickets. If you change the number you can look through the Models. Before\n",
    "# you use it I would just check that the Model is in CA_CarModels[\"(model name her)\"], some of the model names aren't and\n",
    "# thus we can't do analysis\n",
    "Tickets_CarModels[:60]"
   ]
  },
  {
   "cell_type": "markdown",
   "metadata": {},
   "source": [
    "**We plot the TOP 5 LOW TIER makes on a bar graph.**"
   ]
  },
  {
   "cell_type": "code",
<<<<<<< HEAD
   "execution_count": null,
   "metadata": {},
   "outputs": [],
=======
   "execution_count": 23,
   "metadata": {},
   "outputs": [
    {
     "data": {
      "text/plain": [
       "<matplotlib.axes._subplots.AxesSubplot at 0x1c26d47198>"
      ]
     },
     "execution_count": 23,
     "metadata": {},
     "output_type": "execute_result"
    },
    {
     "data": {
      "image/png": "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\n",
      "text/plain": [
       "<Figure size 432x288 with 1 Axes>"
      ]
     },
     "metadata": {
      "needs_background": "light"
     },
     "output_type": "display_data"
    }
   ],
>>>>>>> 1db207a2c1ecf8797a5d3e3126d10114e294e76e
   "source": [
    "Tickets_CarModels[[\"TOYOTA\", \"HONDA\", \"FORD\", \"CHEVROLET\", \"NISSAN\"]].plot(kind = 'bar')"
   ]
  },
  {
   "cell_type": "markdown",
   "metadata": {},
   "source": [
    "**We plot the TOP 5 MID/HIGH TIER makes on a bar graph.**"
   ]
  },
  {
   "cell_type": "code",
<<<<<<< HEAD
   "execution_count": null,
   "metadata": {
    "scrolled": true
   },
   "outputs": [],
=======
   "execution_count": 24,
   "metadata": {
    "scrolled": true
   },
   "outputs": [
    {
     "data": {
      "text/plain": [
       "<matplotlib.axes._subplots.AxesSubplot at 0x1c2f6e0b38>"
      ]
     },
     "execution_count": 24,
     "metadata": {},
     "output_type": "execute_result"
    },
    {
     "data": {
      "image/png": "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\n",
      "text/plain": [
       "<Figure size 432x288 with 1 Axes>"
      ]
     },
     "metadata": {
      "needs_background": "light"
     },
     "output_type": "display_data"
    }
   ],
>>>>>>> 1db207a2c1ecf8797a5d3e3126d10114e294e76e
   "source": [
    "Tickets_CarModels[[\"BMW\", \"MERCEDES-BENZ\", \"LEXUS\", \"AUDI\", \"LAND ROVER\"]].plot(kind = 'bar')"
   ]
  },
  {
   "cell_type": "markdown",
   "metadata": {},
   "source": [
    "**We create a function called\"getPercentage()\" to pull in perentage of vehicle(input-string) in both CA and LA.**"
   ]
  },
  {
   "cell_type": "code",
<<<<<<< HEAD
   "execution_count": null,
=======
   "execution_count": 25,
>>>>>>> 1db207a2c1ecf8797a5d3e3126d10114e294e76e
   "metadata": {},
   "outputs": [],
   "source": [
    "def getPercentage(string):\n",
    "    \n",
    "    number_CARSCA = California_CarModels[string]\n",
    "    number_CARSLA = LA_CarModels[string]\n",
    "    number_CARSTickets = Tickets_CarModels[string]\n",
    "\n",
    "    per_CARSCA = ((number_CARSCA/total_Cars_California) * 100)\n",
    "    per_CARSLA = ((number_CARSLA/total_Cars_LA)*100)\n",
    "    per_CARSTIC = ((number_CARSTickets/len(PC_df))*100)\n",
    "    \n",
    "    return per_CARSCA, per_CARSLA, per_CARSTIC"
   ]
  },
  {
   "cell_type": "markdown",
   "metadata": {},
   "source": [
    "### LOW TIER MODELS"
   ]
  },
  {
   "cell_type": "markdown",
   "metadata": {},
   "source": [
    "We now create a DataFrame \"Percentages\" of a few LOW TIER car models that show a significance in registration and ticket amounts."
   ]
  },
  {
   "cell_type": "code",
<<<<<<< HEAD
   "execution_count": null,
=======
   "execution_count": 26,
>>>>>>> 1db207a2c1ecf8797a5d3e3126d10114e294e76e
   "metadata": {},
   "outputs": [],
   "source": [
    "# Create Data Frame\n",
    "Percentages = pd.DataFrame()\n",
    "\n",
    "Car = \"Ford\"\n",
    "Tag = \"FORD\"\n",
    "\n",
    "CA,LA,TIC = getPercentage(Tag)\n",
    "d = {'Car Model': [Car], 'Percentage CA': [CA], 'Percentage LA': [LA], 'Percentage Tickets': [TIC]}\n",
    "Percentages = Percentages.append(pd.DataFrame(data = d))\n",
    "\n",
    "Car = \"Acura\"\n",
    "Tag = \"ACURA\"\n",
    "\n",
    "CA,LA,TIC = getPercentage(Tag)\n",
    "d = {'Car Model': [Car], 'Percentage CA': [CA], 'Percentage LA': [LA], 'Percentage Tickets': [TIC]}\n",
    "Percentages = Percentages.append(pd.DataFrame(data = d))\n",
    "\n",
    "Car = \"Toyota\"\n",
    "Tag = \"TOYOTA\"\n",
    "\n",
    "CA,LA,TIC = getPercentage(Tag)\n",
    "d = {'Car Model': [Car], 'Percentage CA': [CA], 'Percentage LA': [LA], 'Percentage Tickets': [TIC]}\n",
    "Percentages = Percentages.append(pd.DataFrame(data = d))\n",
    "\n",
    "Car = \"KIA\"\n",
    "Tag = \"KIA\"\n",
    "\n",
    "CA,LA,TIC = getPercentage(Tag)\n",
    "d = {'Car Model': [Car], 'Percentage CA': [CA], 'Percentage LA': [LA], 'Percentage Tickets': [TIC]}\n",
    "Percentages = Percentages.append(pd.DataFrame(data = d))\n"
   ]
  },
  {
   "cell_type": "code",
<<<<<<< HEAD
   "execution_count": null,
=======
   "execution_count": 27,
>>>>>>> 1db207a2c1ecf8797a5d3e3126d10114e294e76e
   "metadata": {},
   "outputs": [],
   "source": [
    "# Set DataFrame\n",
    "Percentages = Percentages.set_index(\"Car Model\")\n",
    "Percentages = Percentages.round(2)"
   ]
  },
  {
   "cell_type": "markdown",
   "metadata": {},
   "source": [
    "**Again we plot the data percentages and visualize the 4 vehicles**"
   ]
  },
  {
   "cell_type": "code",
<<<<<<< HEAD
   "execution_count": null,
=======
   "execution_count": 28,
>>>>>>> 1db207a2c1ecf8797a5d3e3126d10114e294e76e
   "metadata": {},
   "outputs": [],
   "source": [
    "# Plot the figure.\n",
    "plt.figure(figsize=(12, 8))\n",
    "ax = Percentages.plot(kind='barh')\n",
    "\n",
    "rects = ax.patches\n",
    "\n",
    "# For each bar: Place a label\n",
    "for rect in rects:\n",
    "    # Get X and Y placement of label from rect.\n",
    "    x_value = rect.get_width()\n",
    "    y_value = rect.get_y() + rect.get_height() / 2\n",
    "\n",
    "    # Number of points between bar and label. Change to your liking.\n",
    "    space = 5\n",
    "    # Vertical alignment for positive values\n",
    "    ha = 'left'\n",
    "\n",
    "    # If value of bar is negative: Place label left of bar\n",
    "    if x_value < 0:\n",
    "        # Invert space to place label to the left\n",
    "        space *= -1\n",
    "        # Horizontally align label at right\n",
    "        ha = 'right'\n",
    "\n",
    "    # Use X value as label and format number with one decimal place\n",
    "    label = \"{:.2f}\".format(x_value)\n",
    "\n",
    "    # Create annotation\n",
    "    plt.annotate(\n",
    "        label,                      # Use `label` as label\n",
    "        (x_value, y_value),         # Place label at end of the bar\n",
    "        xytext=(space, 0),          # Horizontally shift label by `space`\n",
    "        textcoords=\"offset points\", # Interpret `xytext` as offset in points\n",
    "        va='center',                # Vertically center label\n",
    "        ha=ha)                      # Horizontally align label differently for\n",
    "                                    # positive and negative values.\n",
    "    "
   ]
  },
  {
   "cell_type": "markdown",
   "metadata": {},
   "source": [
    "**We utilize the Percentages dataframe to extract our values and test significance level. Starting with the low-end model vehicles, we gather the percentage of tickets in Los Angeles, and across the total population. To do this, we evaluate across the four selected low-end model vehicles - Ford, Acura, Toyota, Kia.**"
   ]
  },
  {
   "cell_type": "code",
   "execution_count": 29,
   "metadata": {},
   "outputs": [
    {
     "data": {
      "text/html": [
       "<div>\n",
       "<style scoped>\n",
       "    .dataframe tbody tr th:only-of-type {\n",
       "        vertical-align: middle;\n",
       "    }\n",
       "\n",
       "    .dataframe tbody tr th {\n",
       "        vertical-align: top;\n",
       "    }\n",
       "\n",
       "    .dataframe thead th {\n",
       "        text-align: right;\n",
       "    }\n",
       "</style>\n",
       "<table border=\"1\" class=\"dataframe\">\n",
       "  <thead>\n",
       "    <tr style=\"text-align: right;\">\n",
       "      <th></th>\n",
       "      <th>Percentage CA</th>\n",
       "      <th>Percentage LA</th>\n",
       "      <th>Percentage Tickets</th>\n",
       "    </tr>\n",
       "    <tr>\n",
       "      <th>Car Model</th>\n",
       "      <th></th>\n",
       "      <th></th>\n",
       "      <th></th>\n",
       "    </tr>\n",
       "  </thead>\n",
       "  <tbody>\n",
       "    <tr>\n",
       "      <th>Ford</th>\n",
       "      <td>11.21</td>\n",
       "      <td>9.43</td>\n",
       "      <td>8.75</td>\n",
       "    </tr>\n",
       "    <tr>\n",
       "      <th>Acura</th>\n",
       "      <td>1.39</td>\n",
       "      <td>1.17</td>\n",
       "      <td>1.21</td>\n",
       "    </tr>\n",
       "    <tr>\n",
       "      <th>Toyota</th>\n",
       "      <td>17.59</td>\n",
       "      <td>18.88</td>\n",
       "      <td>17.50</td>\n",
       "    </tr>\n",
       "    <tr>\n",
       "      <th>KIA</th>\n",
       "      <td>1.59</td>\n",
       "      <td>2.44</td>\n",
       "      <td>2.33</td>\n",
       "    </tr>\n",
       "  </tbody>\n",
       "</table>\n",
       "</div>"
      ],
      "text/plain": [
       "           Percentage CA  Percentage LA  Percentage Tickets\n",
       "Car Model                                                  \n",
       "Ford               11.21           9.43                8.75\n",
       "Acura               1.39           1.17                1.21\n",
       "Toyota             17.59          18.88               17.50\n",
       "KIA                 1.59           2.44                2.33"
      ]
     },
     "execution_count": 29,
     "metadata": {},
     "output_type": "execute_result"
    }
   ],
   "source": [
    "Percentages"
   ]
  },
  {
   "cell_type": "markdown",
   "metadata": {},
   "source": [
    "**Here, we save the data for all percentage values across the four models into lem_tix; and all percentage values across the four models in Los Angeles into lem_LA. We apply the ttest function to generate a t-value and p-value using an alpha level of 0.01.**"
   ]
  },
  {
   "cell_type": "code",
   "execution_count": 31,
   "metadata": {},
   "outputs": [
    {
     "name": "stdout",
     "output_type": "stream",
     "text": [
      "-0.09644367201104546\n",
      "0.926308932008703\n"
     ]
    }
   ],
   "source": [
    "lem_tix = Percentages['Percentage Tickets'].values;\n",
    "lem_LA = Percentages['Percentage LA'].values;\n",
    "t_val, p_val = ttest_ind(lem_tix, lem_LA);\n",
    "\n",
    "print(t_val)\n",
    "print(p_val)"
   ]
  },
  {
   "cell_type": "code",
   "execution_count": 33,
   "metadata": {},
   "outputs": [
    {
     "name": "stdout",
     "output_type": "stream",
     "text": [
      "There is NOT a significant difference!\n"
     ]
    }
   ],
   "source": [
    "if p_val < 0.01:\n",
    "    print('There is a significant difference!')\n",
    "else:\n",
    "    print('There is NOT a significant difference!')"
   ]
  },
  {
   "cell_type": "markdown",
   "metadata": {},
   "source": [
    "We found that, because the p-value is greater than 0.01, there was no significant difference between parking citations issued in Los Angeles or across the population for low-tier model vehicles. Looking at the graphs of the percentages issued by location, we had hypothesized there was some significance due to the differences in range for Toyota."
   ]
  },
  {
   "cell_type": "markdown",
   "metadata": {},
   "source": [
    "### MID TIER MODELS"
   ]
  },
  {
   "cell_type": "markdown",
   "metadata": {},
   "source": [
    "We now create a DataFrame \"Percentages\" of a few car MID TIER models that show a significance in registration and ticket amounts."
   ]
  },
  {
   "cell_type": "code",
<<<<<<< HEAD
   "execution_count": null,
=======
   "execution_count": 34,
>>>>>>> 1db207a2c1ecf8797a5d3e3126d10114e294e76e
   "metadata": {},
   "outputs": [],
   "source": [
    "# Create Data Frame\n",
    "Percentages = pd.DataFrame()\n",
    "\n",
    "Car = \"BMW\"\n",
    "Tag = \"BMW\"\n",
    "\n",
    "CA,LA,TIC = getPercentage(Tag)\n",
    "d = {'Car Model': [Car], 'Percentage CA': [CA], 'Percentage LA': [LA], 'Percentage Tickets': [TIC]}\n",
    "Percentages = Percentages.append(pd.DataFrame(data = d))\n",
    "\n",
    "Car = \"Mercedes-Benz\"\n",
    "Tag = \"MERCEDES-BENZ\"\n",
    "\n",
    "CA,LA,TIC = getPercentage(Tag)\n",
    "d = {'Car Model': [Car], 'Percentage CA': [CA], 'Percentage LA': [LA], 'Percentage Tickets': [TIC]}\n",
    "Percentages = Percentages.append(pd.DataFrame(data = d))\n",
    "\n",
    "Car = \"Lexus\"\n",
    "Tag = \"LEXUS\"\n",
    "\n",
    "CA,LA,TIC = getPercentage(Tag)\n",
    "d = {'Car Model': [Car], 'Percentage CA': [CA], 'Percentage LA': [LA], 'Percentage Tickets': [TIC]}\n",
    "Percentages = Percentages.append(pd.DataFrame(data = d))\n",
    "\n",
    "Car = \"Audi\"\n",
    "Tag = \"AUDI\"\n",
    "\n",
    "CA,LA,TIC = getPercentage(Tag)\n",
    "d = {'Car Model': [Car], 'Percentage CA': [CA], 'Percentage LA': [LA], 'Percentage Tickets': [TIC]}\n",
    "Percentages = Percentages.append(pd.DataFrame(data = d))\n"
   ]
  },
  {
   "cell_type": "code",
<<<<<<< HEAD
   "execution_count": null,
=======
   "execution_count": 35,
>>>>>>> 1db207a2c1ecf8797a5d3e3126d10114e294e76e
   "metadata": {},
   "outputs": [],
   "source": [
    "# Set DataFrame\n",
    "Percentages = Percentages.set_index(\"Car Model\")\n",
    "Percentages = Percentages.round(2)"
   ]
  },
  {
   "cell_type": "markdown",
   "metadata": {},
   "source": [
    "**Again we plot the data percentages and visualize the 4 vehicles**"
   ]
  },
  {
   "cell_type": "code",
<<<<<<< HEAD
   "execution_count": null,
   "metadata": {},
   "outputs": [],
=======
   "execution_count": 36,
   "metadata": {
    "scrolled": true
   },
   "outputs": [
    {
     "data": {
      "text/plain": [
       "<Figure size 864x576 with 0 Axes>"
      ]
     },
     "metadata": {},
     "output_type": "display_data"
    },
    {
     "data": {
      "image/png": "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\n",
      "text/plain": [
       "<Figure size 432x288 with 1 Axes>"
      ]
     },
     "metadata": {
      "needs_background": "light"
     },
     "output_type": "display_data"
    }
   ],
>>>>>>> 1db207a2c1ecf8797a5d3e3126d10114e294e76e
   "source": [
    "# Plot the figure.\n",
    "plt.figure(figsize=(12, 8))\n",
    "ax = Percentages.plot(kind='barh')\n",
    "\n",
    "rects = ax.patches\n",
    "\n",
    "# For each bar: Place a label\n",
    "for rect in rects:\n",
    "    # Get X and Y placement of label from rect.\n",
    "    x_value = rect.get_width()\n",
    "    y_value = rect.get_y() + rect.get_height() / 2\n",
    "\n",
    "    # Number of points between bar and label. Change to your liking.\n",
    "    space = 5\n",
    "    # Vertical alignment for positive values\n",
    "    ha = 'left'\n",
    "\n",
    "    # If value of bar is negative: Place label left of bar\n",
    "    if x_value < 0:\n",
    "        # Invert space to place label to the left\n",
    "        space *= -1\n",
    "        # Horizontally align label at right\n",
    "        ha = 'right'\n",
    "\n",
    "    # Use X value as label and format number with one decimal place\n",
    "    label = \"{:.2f}\".format(x_value)\n",
    "\n",
    "    # Create annotation\n",
    "    plt.annotate(\n",
    "        label,                      # Use `label` as label\n",
    "        (x_value, y_value),         # Place label at end of the bar\n",
    "        xytext=(space, 0),          # Horizontally shift label by `space`\n",
    "        textcoords=\"offset points\", # Interpret `xytext` as offset in points\n",
    "        va='center',                # Vertically center label\n",
    "        ha=ha)                      # Horizontally align label differently for\n",
    "                                    # positive and negative values.\n",
    "    "
   ]
  },
  {
   "cell_type": "markdown",
   "metadata": {},
   "source": [
<<<<<<< HEAD
    "### HIGH TIER MODELS"
   ]
  },
  {
   "cell_type": "markdown",
   "metadata": {},
   "source": [
    "We now create a DataFrame \"Percentages\" of a few car HIGH TIER models that show a significance in Registration and ticket amounts."
=======
    "**We again use a t-test to evaluate differences for parking citations given in Los Angeles and overall; however, this time we apply it to medium-tier vehicles - BMW, Mercedes-Benz, Lexus, and Audi.** "
>>>>>>> 1db207a2c1ecf8797a5d3e3126d10114e294e76e
   ]
  },
  {
   "cell_type": "code",
<<<<<<< HEAD
   "execution_count": null,
=======
   "execution_count": 37,
>>>>>>> 1db207a2c1ecf8797a5d3e3126d10114e294e76e
   "metadata": {},
   "outputs": [
    {
     "data": {
      "text/html": [
       "<div>\n",
       "<style scoped>\n",
       "    .dataframe tbody tr th:only-of-type {\n",
       "        vertical-align: middle;\n",
       "    }\n",
       "\n",
       "    .dataframe tbody tr th {\n",
       "        vertical-align: top;\n",
       "    }\n",
       "\n",
       "    .dataframe thead th {\n",
       "        text-align: right;\n",
       "    }\n",
       "</style>\n",
       "<table border=\"1\" class=\"dataframe\">\n",
       "  <thead>\n",
       "    <tr style=\"text-align: right;\">\n",
       "      <th></th>\n",
       "      <th>Percentage CA</th>\n",
       "      <th>Percentage LA</th>\n",
       "      <th>Percentage Tickets</th>\n",
       "    </tr>\n",
       "    <tr>\n",
       "      <th>Car Model</th>\n",
       "      <th></th>\n",
       "      <th></th>\n",
       "      <th></th>\n",
       "    </tr>\n",
       "  </thead>\n",
       "  <tbody>\n",
       "    <tr>\n",
       "      <th>BMW</th>\n",
       "      <td>2.68</td>\n",
       "      <td>3.16</td>\n",
       "      <td>4.57</td>\n",
       "    </tr>\n",
       "    <tr>\n",
       "      <th>Mercedes-Benz</th>\n",
       "      <td>2.74</td>\n",
       "      <td>3.25</td>\n",
       "      <td>4.15</td>\n",
       "    </tr>\n",
       "    <tr>\n",
       "      <th>Lexus</th>\n",
       "      <td>2.73</td>\n",
       "      <td>3.05</td>\n",
       "      <td>2.98</td>\n",
       "    </tr>\n",
       "    <tr>\n",
       "      <th>Audi</th>\n",
       "      <td>0.77</td>\n",
       "      <td>1.09</td>\n",
       "      <td>1.94</td>\n",
       "    </tr>\n",
       "  </tbody>\n",
       "</table>\n",
       "</div>"
      ],
      "text/plain": [
       "               Percentage CA  Percentage LA  Percentage Tickets\n",
       "Car Model                                                      \n",
       "BMW                     2.68           3.16                4.57\n",
       "Mercedes-Benz           2.74           3.25                4.15\n",
       "Lexus                   2.73           3.05                2.98\n",
       "Audi                    0.77           1.09                1.94"
      ]
     },
     "execution_count": 37,
     "metadata": {},
     "output_type": "execute_result"
    }
   ],
   "source": [
    "Percentages"
   ]
  },
  {
   "cell_type": "markdown",
   "metadata": {},
   "source": [
    "**We save the data for all percentage values across the four models into mem_tix; and all percentage values across the four models in Los Angeles into mem_LA. We apply the ttest function to generate a t-value and p-value using an alpha level of 0.01.**"
   ]
  },
  {
   "cell_type": "code",
   "execution_count": 40,
   "metadata": {},
   "outputs": [
    {
     "name": "stdout",
     "output_type": "stream",
     "text": [
      "0.9802808136069122\n",
      "0.3648049783977259\n"
     ]
    }
   ],
   "source": [
    "mem_tix = Percentages['Percentage Tickets'].values;\n",
    "mem_LA = Percentages['Percentage LA'].values;\n",
    "t_val, p_val = ttest_ind(mem_tix, mem_LA);\n",
    "\n",
    "print(t_val)\n",
    "print(p_val)"
   ]
  },
  {
   "cell_type": "code",
   "execution_count": 41,
   "metadata": {},
   "outputs": [
    {
     "name": "stdout",
     "output_type": "stream",
     "text": [
      "There is NOT a significant difference!\n"
     ]
    }
   ],
   "source": [
    "if p_val < 0.01:\n",
    "    print('There is a significant difference!')\n",
    "else:\n",
    "    print('There is NOT a significant difference!')"
   ]
  },
  {
   "cell_type": "markdown",
   "metadata": {},
   "source": [
    "We found that, because the p-value is greater than 0.01, there was no significant difference between parking citations issued in Los Angeles or across the population for medium-tier model vehicles. Similar to low-end models, we had also hypothesized here that there was a significance level by looking at the graph of percentages of tickets issued in LA vs the total population."
   ]
  },
  {
   "cell_type": "markdown",
   "metadata": {},
   "source": [
    "### HIGH TIER MODELS"
   ]
  },
  {
   "cell_type": "markdown",
   "metadata": {},
   "source": [
    "**We now create a DataFrame \"Percentages\" of a few car HIGH TIER models that show a significance in Registration and ticket amounts.**"
   ]
  },
  {
   "cell_type": "code",
   "execution_count": 42,
   "metadata": {},
   "outputs": [],
   "source": [
    "# Create Data Frame\n",
    "Percentages = pd.DataFrame()\n",
    "\n",
    "Car = \"Jaguar\"\n",
    "Tag = \"JAGUAR\"\n",
    "\n",
    "CA,LA,TIC = getPercentage(Tag)\n",
    "d = {'Car Model': [Car], 'Percentage CA': [CA], 'Percentage LA': [LA], 'Percentage Tickets': [TIC]}\n",
    "Percentages = Percentages.append(pd.DataFrame(data = d))\n",
    "\n",
    "Car = \"Tesla\"\n",
    "Tag = \"TESLA\"\n",
    "\n",
    "CA,LA,TIC = getPercentage(Tag)\n",
    "d = {'Car Model': [Car], 'Percentage CA': [CA], 'Percentage LA': [LA], 'Percentage Tickets': [TIC]}\n",
    "Percentages = Percentages.append(pd.DataFrame(data = d))\n",
    "\n",
    "Car = \"Maserati\"\n",
    "Tag = \"MASERATI\"\n",
    "\n",
    "CA,LA,TIC = getPercentage(Tag)\n",
    "d = {'Car Model': [Car], 'Percentage CA': [CA], 'Percentage LA': [LA], 'Percentage Tickets': [TIC]}\n",
    "Percentages = Percentages.append(pd.DataFrame(data = d))\n",
    "\n",
    "Car = \"Land Rover\"\n",
    "Tag = \"LAND ROVER\"\n",
    "\n",
    "CA,LA,TIC = getPercentage(Tag)\n",
    "d = {'Car Model': [Car], 'Percentage CA': [CA], 'Percentage LA': [LA], 'Percentage Tickets': [TIC]}\n",
    "Percentages = Percentages.append(pd.DataFrame(data = d))\n"
   ]
  },
  {
   "cell_type": "code",
<<<<<<< HEAD
   "execution_count": null,
=======
   "execution_count": 43,
>>>>>>> 1db207a2c1ecf8797a5d3e3126d10114e294e76e
   "metadata": {},
   "outputs": [],
   "source": [
    "# Set DataFrame\n",
    "Percentages = Percentages.set_index(\"Car Model\")\n",
    "Percentages = Percentages.round(2)"
   ]
  },
  {
   "cell_type": "markdown",
   "metadata": {},
   "source": [
    "**Now we plot the data percentages and visualize the 4 vehicles**"
   ]
  },
  {
   "cell_type": "code",
<<<<<<< HEAD
   "execution_count": null,
=======
   "execution_count": 44,
>>>>>>> 1db207a2c1ecf8797a5d3e3126d10114e294e76e
   "metadata": {},
   "outputs": [],
   "source": [
    "# Plot the figure.\n",
    "plt.figure(figsize=(12, 8))\n",
    "ax = Percentages.plot(kind='barh')\n",
    "\n",
    "rects = ax.patches\n",
    "\n",
    "# For each bar: Place a label\n",
    "for rect in rects:\n",
    "    # Get X and Y placement of label from rect.\n",
    "    x_value = rect.get_width()\n",
    "    y_value = rect.get_y() + rect.get_height() / 2\n",
    "\n",
    "    # Number of points between bar and label. Change to your liking.\n",
    "    space = 5\n",
    "    # Vertical alignment for positive values\n",
    "    ha = 'left'\n",
    "\n",
    "    # If value of bar is negative: Place label left of bar\n",
    "    if x_value < 0:\n",
    "        # Invert space to place label to the left\n",
    "        space *= -1\n",
    "        # Horizontally align label at right\n",
    "        ha = 'right'\n",
    "\n",
    "    # Use X value as label and format number with two decimal place\n",
    "    label = \"{:.2f}\".format(x_value)\n",
    "\n",
    "    # Create annotation\n",
    "    plt.annotate(\n",
    "        label,                      # Use `label` as label\n",
    "        (x_value, y_value),         # Place label at end of the bar\n",
    "        xytext=(space, 0),          # Horizontally shift label by `space`\n",
    "        textcoords=\"offset points\", # Interpret `xytext` as offset in points\n",
    "        va='center',                # Vertically center label\n",
    "        ha=ha)                      # Horizontally align label differently for\n",
    "                                    # positive and negative values."
   ]
  },
  {
   "cell_type": "markdown",
   "metadata": {},
   "source": [
    "**We apply the t-test to high-tier models.**"
   ]
  },
  {
   "cell_type": "code",
<<<<<<< HEAD
   "execution_count": null,
   "metadata": {},
   "outputs": [],
=======
   "execution_count": 45,
   "metadata": {},
   "outputs": [
    {
     "data": {
      "text/html": [
       "<div>\n",
       "<style scoped>\n",
       "    .dataframe tbody tr th:only-of-type {\n",
       "        vertical-align: middle;\n",
       "    }\n",
       "\n",
       "    .dataframe tbody tr th {\n",
       "        vertical-align: top;\n",
       "    }\n",
       "\n",
       "    .dataframe thead th {\n",
       "        text-align: right;\n",
       "    }\n",
       "</style>\n",
       "<table border=\"1\" class=\"dataframe\">\n",
       "  <thead>\n",
       "    <tr style=\"text-align: right;\">\n",
       "      <th></th>\n",
       "      <th>Percentage CA</th>\n",
       "      <th>Percentage LA</th>\n",
       "      <th>Percentage Tickets</th>\n",
       "    </tr>\n",
       "    <tr>\n",
       "      <th>Car Model</th>\n",
       "      <th></th>\n",
       "      <th></th>\n",
       "      <th></th>\n",
       "    </tr>\n",
       "  </thead>\n",
       "  <tbody>\n",
       "    <tr>\n",
       "      <th>Jaguar</th>\n",
       "      <td>0.13</td>\n",
       "      <td>0.17</td>\n",
       "      <td>0.31</td>\n",
       "    </tr>\n",
       "    <tr>\n",
       "      <th>Tesla</th>\n",
       "      <td>0.15</td>\n",
       "      <td>0.18</td>\n",
       "      <td>0.26</td>\n",
       "    </tr>\n",
       "    <tr>\n",
       "      <th>Maserati</th>\n",
       "      <td>0.01</td>\n",
       "      <td>0.03</td>\n",
       "      <td>0.10</td>\n",
       "    </tr>\n",
       "    <tr>\n",
       "      <th>Land Rover</th>\n",
       "      <td>0.18</td>\n",
       "      <td>0.34</td>\n",
       "      <td>0.77</td>\n",
       "    </tr>\n",
       "  </tbody>\n",
       "</table>\n",
       "</div>"
      ],
      "text/plain": [
       "            Percentage CA  Percentage LA  Percentage Tickets\n",
       "Car Model                                                   \n",
       "Jaguar               0.13           0.17                0.31\n",
       "Tesla                0.15           0.18                0.26\n",
       "Maserati             0.01           0.03                0.10\n",
       "Land Rover           0.18           0.34                0.77"
      ]
     },
     "execution_count": 45,
     "metadata": {},
     "output_type": "execute_result"
    }
   ],
>>>>>>> 1db207a2c1ecf8797a5d3e3126d10114e294e76e
   "source": [
    "Percentages"
   ]
  },
  {
   "cell_type": "markdown",
   "metadata": {},
   "source": [
    "**We save the data for all percentage values across the four models into hem_tix; and all percentage values across the four models in Los Angeles into hem_LA. We apply the ttest function to generate a t-value and p-value using an alpha level of 0.01.**"
   ]
  },
  {
   "cell_type": "code",
   "execution_count": 46,
   "metadata": {},
   "outputs": [
    {
     "name": "stdout",
     "output_type": "stream",
     "text": [
      "1.1453125733563998\n",
      "0.2956993893811176\n"
     ]
    }
   ],
   "source": [
    "hem_tix = Percentages['Percentage Tickets'].values;\n",
    "hem_LA = Percentages['Percentage LA'].values;\n",
    "t_val, p_val = ttest_ind(hem_tix, hem_LA);\n",
    "\n",
    "print(t_val)\n",
    "print(p_val)"
   ]
  },
  {
   "cell_type": "code",
   "execution_count": 47,
   "metadata": {},
   "outputs": [
    {
     "name": "stdout",
     "output_type": "stream",
     "text": [
      "There is NOT a significant difference!\n"
     ]
    }
   ],
   "source": [
    "if p_val < 0.01:\n",
    "    print('There is a significant difference!')\n",
    "else:\n",
    "    print('There is NOT a significant difference!')"
   ]
  },
  {
   "cell_type": "markdown",
   "metadata": {},
   "source": [
    "We found that, because the p-value is greater than 0.01, there was no significant difference between parking citations issued in Los Angeles or across the population for MEDIUM-tier model vehicles. Looking at the graphs of the number of tickets issued, it seemed to deviate from our hypothesis that there was significance, especially for Land Rover models."
   ]
  },
  {
   "cell_type": "markdown",
   "metadata": {},
   "source": [
    "**We also explored further and wanted to discover if there was a significance between high-tier models in the total population and high-tier models in California by performing additional t-tests.**"
   ]
  },
  {
   "cell_type": "code",
   "execution_count": 48,
   "metadata": {},
   "outputs": [
    {
     "name": "stdout",
     "output_type": "stream",
     "text": [
      "1.632231974186099\n",
      "0.15375081014507316\n"
     ]
    }
   ],
   "source": [
    "# NOT SURE IF WE NEEDED TO TEST THIS\n",
    "hem_CA = Percentages['Percentage CA'].values;\n",
    "t_val, p_val = ttest_ind(hem_tix, hem_CA);\n",
    "\n",
    "print(t_val)\n",
    "print(p_val)"
   ]
  },
  {
   "cell_type": "code",
   "execution_count": 49,
   "metadata": {},
   "outputs": [
    {
     "name": "stdout",
     "output_type": "stream",
     "text": [
      "There is NOT a significant difference!\n"
     ]
    }
   ],
   "source": [
    "if p_val < 0.01:\n",
    "    print('There is a significant difference!')\n",
    "else:\n",
    "    print('There is NOT a significant difference!')"
   ]
  },
  {
   "cell_type": "markdown",
   "metadata": {},
   "source": [
    "These variables also evaluated to no significance because the p-value was greater than 0.01."
   ]
  },
  {
   "cell_type": "markdown",
   "metadata": {},
   "source": [
    "**We furthermore are able to t-test across the different tier models as well.**"
   ]
  },
  {
   "cell_type": "code",
   "execution_count": 51,
   "metadata": {},
   "outputs": [
    {
     "name": "stdout",
     "output_type": "stream",
     "text": [
      "-1.92008956082234\n",
      "0.10325330666979228\n"
     ]
    }
   ],
   "source": [
    "# SHOULD WE COMPARE LOW-END MODELS TO HIGH-END MODELS?\n",
    "t_val, p_val = ttest_ind(hem_LA, lem_LA);\n",
    "\n",
    "print(t_val)\n",
    "print(p_val)"
   ]
  },
  {
   "cell_type": "markdown",
   "metadata": {},
   "source": [
    "However, we did not find it to be significant."
   ]
  },
  {
   "cell_type": "code",
   "execution_count": null,
   "metadata": {},
   "outputs": [],
   "source": [
    "Percentages\n",
    "\n",
    "h_co = Percentages[Percentages['Car Model'] == 'Tesla']['Percentage Tickets'].values\n",
    "\n"
   ]
  },
  {
   "cell_type": "markdown",
   "metadata": {
    "colab_type": "text",
    "id": "E8SoDWNnqBy_"
   },
   "source": [
    "# Data Analysis and Results"
   ]
  },
  {
   "cell_type": "markdown",
   "metadata": {},
   "source": [
    "The percentage of Ferraris given tickets is twice the percentage of Ferraris in Los Angeles and more than four times the percentage of Ferraris in California. This is interesting compared to the fact the percentage of Toyotas that receive tickets and the percentage of Toyotas in LA and California seem relatively equal."
   ]
  },
  {
   "cell_type": "markdown",
   "metadata": {},
   "source": [
    "Visually, the graphs showing the proportions of car population and number of tickets for KIA, Toyota, Acura, Ford, and Lexus look close to each other. The same graphs for Land Rover, Tesla, Jaguar, Mercedes, Audi, and BMW, however, show that they receive relatively more tickets proportional to their population in Los Angeles."
   ]
  },
  {
   "cell_type": "markdown",
   "metadata": {},
   "source": [
    "Although the tests we ran show that it’s insignificant, the graphs show that there may be a discrepancy between the population of certain models in Los Angeles and how many tickets those models receive, with some high end and mid class models showing a greater difference. This could be due to people with more expensive cars not caring as much where they park since they either feel entitled or know they can afford it anyways. It could also mean richer neighborhoods have stricter parking rules. Parking officials could also not feel as bad when seeing an expensive car violating parking laws because they know the owner will be able to afford it."
   ]
  },
  {
   "cell_type": "markdown",
   "metadata": {
    "colab_type": "text",
    "id": "wTOU4NKlqFwq"
   },
   "source": [
    "# Privacy/Ethics Considerations"
   ]
  },
  {
   "cell_type": "markdown",
   "metadata": {
    "colab_type": "text",
    "id": "9ZTV84GV9HQ1"
   },
   "source": [
    "The data was posted on Kaggle’s data set page but the information is released to the public via DataLA, a public site maintained by the Los Angeles government. We have permission to use this data under the Open Database License. There are no privacy concerns in regard to the data. This data set is potentially biased in terms of who it composes for two reasons. The first is regional factors. For example if parking officials stay in a neighborhood where the parking restrictions are stricter then we would expect the models of the cars in that neighborhood to be over represented in the data set. The second reason is that some violations may be more for lower income individuals. For example we would expect lower income individuals to receive more expired registration violations because of their inability to afford registration. If we identify any of these issues, we can modify our research topic so that it does not include biased data. For example we will not analyze expired registration violations if we identify that the data is heavily skewed towards lower income models.\n",
    "\n",
    "In addition, our dataset was already efficient in not including much personal identifiers of the individuals whose vehicles have received citations. We practiced the Safe Harbor method, in which we removed the VIN column from our dataset to further improve its anonymization. Thus, our project considerably respects the privacy of the individuals whose vehicles received citations as we have altered the dataset to focus solely on the vehicles."
   ]
  },
  {
   "cell_type": "markdown",
   "metadata": {
    "colab_type": "text",
    "id": "8Kf9pL6HqL7b"
   },
   "source": [
    "# Conclusion and Discussion"
   ]
  }
 ],
 "metadata": {
  "colab": {
   "collapsed_sections": [],
   "include_colab_link": true,
   "name": "FinalProject.ipynb",
   "provenance": [],
   "version": "0.3.2"
  },
  "kernelspec": {
   "display_name": "Python 3",
   "language": "python",
   "name": "python3"
  },
  "language_info": {
   "codemirror_mode": {
    "name": "ipython",
    "version": 3
   },
   "file_extension": ".py",
   "mimetype": "text/x-python",
   "name": "python",
   "nbconvert_exporter": "python",
   "pygments_lexer": "ipython3",
   "version": "3.7.1"
  }
 },
 "nbformat": 4,
 "nbformat_minor": 1
}
