{
 "cells": [
  {
   "cell_type": "markdown",
   "metadata": {
    "colab_type": "text",
    "id": "view-in-github"
   },
   "source": [
    "<a href=\"https://colab.research.google.com/github/johnny-tran/COGS108_repo/blob/master/FinalProject.ipynb\" target=\"_parent\"><img src=\"https://colab.research.google.com/assets/colab-badge.svg\" alt=\"Open In Colab\"/></a>"
   ]
  },
  {
   "cell_type": "markdown",
   "metadata": {
    "colab_type": "text",
    "id": "hVhwl3AXn178"
   },
   "source": [
    "# COGS 108 - Final Project"
   ]
  },
  {
   "cell_type": "markdown",
   "metadata": {
    "colab_type": "text",
    "id": "oP0Owgrsn18K"
   },
   "source": [
    "## Important\n",
    "\n",
    "- ONE, and only one, member of your group should upload this notebook to TritonED. \n",
    "- Each member of the group will receive the same grade on this assignment. \n",
    "- Keep the file name the same: submit the file 'FinalProject.ipynb'.\n",
    "- Only upload the .ipynb file to TED, do not upload any associted data. Make sure that for cells in which you want graders to see output that these cells have been executed."
   ]
  },
  {
   "cell_type": "markdown",
   "metadata": {
    "colab_type": "text",
    "id": "ZU7JBgGSn18R"
   },
   "source": [
    "## Group Members: Fill in the Student IDs of each group member here\n",
    "\n",
    "Replace the lines below to list each persons full student ID, ucsd email and full name.\n",
    "\n",
    "- A11888496 - L4truong@ucsd.edu - Loc Truong\n",
    "- A15352670 - t8wei@ucsd.edu - Timothy Wei\n",
    "- A14732783 - jpt017@ucsd.edu - Jonathan Tran\n",
    "- A11962666 - nnowain@ucsd.edu - Nathan Nowain\n",
    "- A14493674 - cvshanno@ucsd.edu - Collin Shannon\n",
    "\n"
   ]
  },
  {
   "cell_type": "markdown",
   "metadata": {
    "colab_type": "text",
    "id": "87QllbYgn18h"
   },
   "source": [
    "# Introduction and Background"
   ]
  },
  {
   "cell_type": "markdown",
   "metadata": {
    "colab_type": "text",
    "id": "VPQnE-eZtY8m"
   },
   "source": [
    "## Research Question\n",
    "\n",
    "> Are there any correlations to make/color/body type to violation types?\n",
    "How does visual appearance affect the likelihood of receiving a parking violation? Do certain makes/models or colors receive more tickets than expected?\n",
    "\n",
    "\n",
    "## Hypothesis\n",
    "\n",
    "> We predict that loud colors & higher end models have a higher chance of receiving violations.\n",
    "We hypothesize that visual appearance does affect the likelihood of receiving a parking violation. We expect that parking officials are more likely to notice cars that have loud colors and higher end models and thus more likely to give them a ticket.\n",
    "\n",
    "\n",
    "## Background\n",
    "\n",
    "> We believe that there are biases that are imposed from humans as they do their job, such as parking enforcement. There is a typically well known statement that cops and parking enforcement have to meet quotas monthly to keep them on goal as they do their job. Besides this commonly heard phenomena, is there also a possible data to show that some cars also get more tickets than others? With further research we found there are many articles online which sum up reasons why one might be more likely to get a ticket; and some of their data show that certain vehicle makes and models, more notably the expensive and luxurious make and models, receive more speeding tickets [1]. There is also a well known statistic that red colored cars get pulled over more than others, which is most likely related to its high visibility over other colored cars [2].\n",
    "\n",
    "> With this in mind, we supposed there can be a possible correlation to be found. As we hypothesized, we believe that cars of certain visible attributes like color or make can possibly increase their likelihood of receiving a ticket in comparison to other vehicles which may not attract as much attention. We believe this is important because we want to see if there are possible implicit biases in how parking enforcement gives out violations. This data could help better inform people before choosing a car to buy, if they care or to just find an interesting relationship to human cognition and how perception alters thinking.\n",
    "  \n",
    "> ### References\n",
    "\n",
    ">> 1) https://www.more.com/lifestyle/6-things-almost-guarantee-speeding-ticket\n",
    "\n",
    ">> 2) http://www.brettrics.com/9-million-parking-tickets-la/\n"
   ]
  },
  {
   "cell_type": "markdown",
   "metadata": {
    "colab_type": "text",
    "id": "h6xT0cVupz-b"
   },
   "source": [
    "# Data Description\n",
    "\n",
    "Dataset Name: Los Angeles Parking Citations\n",
    "\n",
    ">The dataset consists of 19 variables based on the information on the ticket slip. This includes ticket date, issue time, meter id, make, body style, color, location, route, agency, violation code, violation description, fine amount, and location data.\n",
    "\n",
    "> Link to the dataset: https://data.lacity.org/A-Well-Run-City/Parking-Citations/wjz9-h9np\n",
    "\n",
    "> Kaggle link: https://www.kaggle.com/cityofLA/los-angeles-parking-citations"
   ]
  },
  {
   "cell_type": "markdown",
   "metadata": {
    "colab_type": "text",
    "id": "cx_t_OOpp59H"
   },
   "source": [
    "# Data Cleaning / Pre Processing"
   ]
  },
  {
   "cell_type": "markdown",
   "metadata": {},
   "source": [
    "**Before we begin manipulating the data, we import necessary libraries.**"
   ]
  },
  {
   "cell_type": "code",
   "execution_count": 1,
   "metadata": {
    "colab": {
     "base_uri": "https://localhost:8080/",
     "height": 71
    },
    "colab_type": "code",
    "id": "A-6xETgjqfMg",
    "outputId": "e424f616-ec45-41b9-b0cd-e9bf5879906d"
   },
   "outputs": [
    {
     "name": "stdout",
     "output_type": "stream",
     "text": [
      "Requirement already satisfied: tabula-py in /anaconda3/lib/python3.7/site-packages (1.3.1)\n",
      "Requirement already satisfied: pandas in /anaconda3/lib/python3.7/site-packages (from tabula-py) (0.23.4)\n",
      "Requirement already satisfied: distro in /anaconda3/lib/python3.7/site-packages (from tabula-py) (1.4.0)\n",
      "Requirement already satisfied: urllib3 in /anaconda3/lib/python3.7/site-packages (from tabula-py) (1.24.1)\n",
      "Requirement already satisfied: numpy in /anaconda3/lib/python3.7/site-packages (from tabula-py) (1.15.4)\n",
      "Requirement already satisfied: python-dateutil>=2.5.0 in /anaconda3/lib/python3.7/site-packages (from pandas->tabula-py) (2.7.5)\n",
      "Requirement already satisfied: pytz>=2011k in /anaconda3/lib/python3.7/site-packages (from pandas->tabula-py) (2018.7)\n",
      "Requirement already satisfied: six>=1.5 in /anaconda3/lib/python3.7/site-packages (from python-dateutil>=2.5.0->pandas->tabula-py) (1.12.0)\n"
     ]
    }
   ],
   "source": [
    "# Imports -  These are all you need for the assignment: do not import additional packages\n",
    "%matplotlib inline\n",
    "\n",
    "import numpy as np\n",
    "import pandas as pd\n",
    "import matplotlib.pyplot as plt\n",
    "\n",
    "import patsy\n",
    "import statsmodels.api as sm\n",
    "import scipy.stats as stats\n",
    "from scipy.stats import ttest_ind, chisquare, normaltest\n",
    "\n",
    "# read PDF via tabula\n",
    "import tabula\n",
    "!pip install tabula-py"
   ]
  },
  {
   "cell_type": "markdown",
   "metadata": {},
   "source": [
    "**The main goal of our project is to determine any possible correlations between parking citations and vehicles. Here, we import our dataset from Los Angeles Parking Citations as a dataframe and we name it PC_df.**"
   ]
  },
  {
   "cell_type": "code",
   "execution_count": 2,
   "metadata": {
    "colab": {
     "base_uri": "https://localhost:8080/",
     "height": 343
    },
    "colab_type": "code",
    "id": "b4M-BssTrDia",
    "outputId": "0febb5f1-d91d-4a9d-a844-1a1a9e185202"
   },
   "outputs": [
    {
     "name": "stderr",
     "output_type": "stream",
     "text": [
      "/anaconda3/lib/python3.7/site-packages/IPython/core/interactiveshell.py:3020: DtypeWarning: Columns (0,7) have mixed types. Specify dtype option on import or set low_memory=False.\n",
      "  interactivity=interactivity, compiler=compiler, result=result)\n"
     ]
    },
    {
     "data": {
      "text/html": [
       "<div>\n",
       "<style scoped>\n",
       "    .dataframe tbody tr th:only-of-type {\n",
       "        vertical-align: middle;\n",
       "    }\n",
       "\n",
       "    .dataframe tbody tr th {\n",
       "        vertical-align: top;\n",
       "    }\n",
       "\n",
       "    .dataframe thead th {\n",
       "        text-align: right;\n",
       "    }\n",
       "</style>\n",
       "<table border=\"1\" class=\"dataframe\">\n",
       "  <thead>\n",
       "    <tr style=\"text-align: right;\">\n",
       "      <th></th>\n",
       "      <th>Ticket number</th>\n",
       "      <th>Issue Date</th>\n",
       "      <th>Issue time</th>\n",
       "      <th>Meter Id</th>\n",
       "      <th>Marked Time</th>\n",
       "      <th>RP State Plate</th>\n",
       "      <th>Plate Expiry Date</th>\n",
       "      <th>VIN</th>\n",
       "      <th>Make</th>\n",
       "      <th>Body Style</th>\n",
       "      <th>Color</th>\n",
       "      <th>Location</th>\n",
       "      <th>Route</th>\n",
       "      <th>Agency</th>\n",
       "      <th>Violation code</th>\n",
       "      <th>Violation Description</th>\n",
       "      <th>Fine amount</th>\n",
       "      <th>Latitude</th>\n",
       "      <th>Longitude</th>\n",
       "    </tr>\n",
       "  </thead>\n",
       "  <tbody>\n",
       "    <tr>\n",
       "      <th>0</th>\n",
       "      <td>4272349605</td>\n",
       "      <td>12/30/2015</td>\n",
       "      <td>2201.0</td>\n",
       "      <td>NaN</td>\n",
       "      <td>NaN</td>\n",
       "      <td>CA</td>\n",
       "      <td>201605.0</td>\n",
       "      <td>NaN</td>\n",
       "      <td>OLDS</td>\n",
       "      <td>PA</td>\n",
       "      <td>GN</td>\n",
       "      <td>3069 SAN MARINO ST</td>\n",
       "      <td>00403</td>\n",
       "      <td>54.0</td>\n",
       "      <td>80.56E4+</td>\n",
       "      <td>RED ZONE</td>\n",
       "      <td>93.0</td>\n",
       "      <td>6471840.7</td>\n",
       "      <td>1842349.7</td>\n",
       "    </tr>\n",
       "    <tr>\n",
       "      <th>1</th>\n",
       "      <td>4272349616</td>\n",
       "      <td>12/30/2015</td>\n",
       "      <td>2205.0</td>\n",
       "      <td>NaN</td>\n",
       "      <td>NaN</td>\n",
       "      <td>CA</td>\n",
       "      <td>201508.0</td>\n",
       "      <td>NaN</td>\n",
       "      <td>HOND</td>\n",
       "      <td>PA</td>\n",
       "      <td>WT</td>\n",
       "      <td>2936 8TH ST W</td>\n",
       "      <td>00403</td>\n",
       "      <td>54.0</td>\n",
       "      <td>80.56E1</td>\n",
       "      <td>WHITE ZONE</td>\n",
       "      <td>58.0</td>\n",
       "      <td>6473823.2</td>\n",
       "      <td>1843512.0</td>\n",
       "    </tr>\n",
       "    <tr>\n",
       "      <th>2</th>\n",
       "      <td>4272821512</td>\n",
       "      <td>12/30/2015</td>\n",
       "      <td>1725.0</td>\n",
       "      <td>NaN</td>\n",
       "      <td>NaN</td>\n",
       "      <td>CA</td>\n",
       "      <td>10.0</td>\n",
       "      <td>NaN</td>\n",
       "      <td>TOYT</td>\n",
       "      <td>PA</td>\n",
       "      <td>SL</td>\n",
       "      <td>301 LAUREL AV N</td>\n",
       "      <td>00401</td>\n",
       "      <td>54.0</td>\n",
       "      <td>5204A-</td>\n",
       "      <td>DISPLAY OF TABS</td>\n",
       "      <td>25.0</td>\n",
       "      <td>6451207.5</td>\n",
       "      <td>1850273.2</td>\n",
       "    </tr>\n",
       "    <tr>\n",
       "      <th>3</th>\n",
       "      <td>4272821523</td>\n",
       "      <td>12/30/2015</td>\n",
       "      <td>1738.0</td>\n",
       "      <td>WF74</td>\n",
       "      <td>NaN</td>\n",
       "      <td>CA</td>\n",
       "      <td>2.0</td>\n",
       "      <td>NaN</td>\n",
       "      <td>RROV</td>\n",
       "      <td>PA</td>\n",
       "      <td>BK</td>\n",
       "      <td>8321 3RD ST W</td>\n",
       "      <td>00401</td>\n",
       "      <td>54.0</td>\n",
       "      <td>88.13B+</td>\n",
       "      <td>METER EXP.</td>\n",
       "      <td>63.0</td>\n",
       "      <td>6449387.2</td>\n",
       "      <td>1849063.5</td>\n",
       "    </tr>\n",
       "    <tr>\n",
       "      <th>4</th>\n",
       "      <td>4272821534</td>\n",
       "      <td>12/30/2015</td>\n",
       "      <td>1807.0</td>\n",
       "      <td>13</td>\n",
       "      <td>NaN</td>\n",
       "      <td>CA</td>\n",
       "      <td>1.0</td>\n",
       "      <td>NaN</td>\n",
       "      <td>FORD</td>\n",
       "      <td>PA</td>\n",
       "      <td>GN</td>\n",
       "      <td>121 CROFT AVE</td>\n",
       "      <td>00401</td>\n",
       "      <td>54.0</td>\n",
       "      <td>80.58L</td>\n",
       "      <td>PREFERENTIAL PARKING</td>\n",
       "      <td>68.0</td>\n",
       "      <td>6448347.2</td>\n",
       "      <td>1849662.2</td>\n",
       "    </tr>\n",
       "  </tbody>\n",
       "</table>\n",
       "</div>"
      ],
      "text/plain": [
       "  Ticket number  Issue Date  Issue time Meter Id  Marked Time RP State Plate  \\\n",
       "0    4272349605  12/30/2015      2201.0      NaN          NaN             CA   \n",
       "1    4272349616  12/30/2015      2205.0      NaN          NaN             CA   \n",
       "2    4272821512  12/30/2015      1725.0      NaN          NaN             CA   \n",
       "3    4272821523  12/30/2015      1738.0     WF74          NaN             CA   \n",
       "4    4272821534  12/30/2015      1807.0       13          NaN             CA   \n",
       "\n",
       "   Plate Expiry Date  VIN  Make Body Style Color            Location  Route  \\\n",
       "0           201605.0  NaN  OLDS         PA    GN  3069 SAN MARINO ST  00403   \n",
       "1           201508.0  NaN  HOND         PA    WT       2936 8TH ST W  00403   \n",
       "2               10.0  NaN  TOYT         PA    SL     301 LAUREL AV N  00401   \n",
       "3                2.0  NaN  RROV         PA    BK       8321 3RD ST W  00401   \n",
       "4                1.0  NaN  FORD         PA    GN       121 CROFT AVE  00401   \n",
       "\n",
       "   Agency Violation code Violation Description  Fine amount   Latitude  \\\n",
       "0    54.0       80.56E4+              RED ZONE         93.0  6471840.7   \n",
       "1    54.0        80.56E1            WHITE ZONE         58.0  6473823.2   \n",
       "2    54.0         5204A-       DISPLAY OF TABS         25.0  6451207.5   \n",
       "3    54.0        88.13B+            METER EXP.         63.0  6449387.2   \n",
       "4    54.0         80.58L  PREFERENTIAL PARKING         68.0  6448347.2   \n",
       "\n",
       "   Longitude  \n",
       "0  1842349.7  \n",
       "1  1843512.0  \n",
       "2  1850273.2  \n",
       "3  1849063.5  \n",
       "4  1849662.2  "
      ]
     },
     "execution_count": 2,
     "metadata": {},
     "output_type": "execute_result"
    }
   ],
   "source": [
    "# read parking citations(PC) file\n",
    "PC_df = pd.read_csv('parking-citations.csv')\n",
    "PC_df.head()\n"
   ]
  },
  {
   "cell_type": "markdown",
   "metadata": {},
   "source": [
    "**We also import and interpret the agency codes found in PC_df into a dataframe called AC_df. Because the agency code dataset is a pdf, we utilize the imported tabula tool.**"
   ]
  },
  {
   "cell_type": "code",
   "execution_count": 3,
   "metadata": {},
   "outputs": [
    {
     "data": {
      "text/html": [
       "<div>\n",
       "<style scoped>\n",
       "    .dataframe tbody tr th:only-of-type {\n",
       "        vertical-align: middle;\n",
       "    }\n",
       "\n",
       "    .dataframe tbody tr th {\n",
       "        vertical-align: top;\n",
       "    }\n",
       "\n",
       "    .dataframe thead th {\n",
       "        text-align: right;\n",
       "    }\n",
       "</style>\n",
       "<table border=\"1\" class=\"dataframe\">\n",
       "  <thead>\n",
       "    <tr style=\"text-align: right;\">\n",
       "      <th></th>\n",
       "      <th>CODE</th>\n",
       "      <th>AGENCY NAME</th>\n",
       "      <th>NAME</th>\n",
       "    </tr>\n",
       "  </thead>\n",
       "  <tbody>\n",
       "    <tr>\n",
       "      <th>1</th>\n",
       "      <td>1</td>\n",
       "      <td>WESTERN</td>\n",
       "      <td>WESTERN</td>\n",
       "    </tr>\n",
       "    <tr>\n",
       "      <th>2</th>\n",
       "      <td>2</td>\n",
       "      <td>LAX CURRENT</td>\n",
       "      <td>LAX CUR</td>\n",
       "    </tr>\n",
       "    <tr>\n",
       "      <th>3</th>\n",
       "      <td>3</td>\n",
       "      <td>VALLEY</td>\n",
       "      <td>VALLEY</td>\n",
       "    </tr>\n",
       "    <tr>\n",
       "      <th>4</th>\n",
       "      <td>4</td>\n",
       "      <td>HOLLYWOOD</td>\n",
       "      <td>HOLLYWOOD</td>\n",
       "    </tr>\n",
       "    <tr>\n",
       "      <th>5</th>\n",
       "      <td>5</td>\n",
       "      <td>SOUTHERN</td>\n",
       "      <td>SOUTHERN</td>\n",
       "    </tr>\n",
       "  </tbody>\n",
       "</table>\n",
       "</div>"
      ],
      "text/plain": [
       "0 CODE  AGENCY NAME       NAME\n",
       "1    1      WESTERN    WESTERN\n",
       "2    2  LAX CURRENT    LAX CUR\n",
       "3    3       VALLEY     VALLEY\n",
       "4    4    HOLLYWOOD  HOLLYWOOD\n",
       "5    5     SOUTHERN   SOUTHERN"
      ]
     },
     "execution_count": 3,
     "metadata": {},
     "output_type": "execute_result"
    }
   ],
   "source": [
    "# read agency codes(AC) file\n",
    "from tabula import read_pdf\n",
    "AC_df = read_pdf('LADOT-Xerox Crib Sheet Agency Codes 12-31-2015.pdf')\n",
    "\n",
    "# set header to top row\n",
    "new_header = AC_df.iloc[0]\n",
    "AC_df = AC_df[1:]\n",
    "AC_df.columns = new_header\n",
    "\n",
    "# print head to check\n",
    "AC_df.head()\n"
   ]
  },
  {
   "cell_type": "markdown",
   "metadata": {},
   "source": [
    "**The main goal for our project is to analyze correlations between vehicle color, make, and parking citations given. We clean up our data by removing unnecessary columns and by dropping any rows with missing data.**"
   ]
  },
  {
   "cell_type": "code",
   "execution_count": 4,
   "metadata": {
    "colab": {
     "base_uri": "https://localhost:8080/",
     "height": 204
    },
    "colab_type": "code",
    "id": "MHGP5yaY1U0g",
    "outputId": "e37907aa-efc6-4b41-a707-98d1029402dc"
   },
   "outputs": [
    {
     "data": {
      "text/html": [
       "<div>\n",
       "<style scoped>\n",
       "    .dataframe tbody tr th:only-of-type {\n",
       "        vertical-align: middle;\n",
       "    }\n",
       "\n",
       "    .dataframe tbody tr th {\n",
       "        vertical-align: top;\n",
       "    }\n",
       "\n",
       "    .dataframe thead th {\n",
       "        text-align: right;\n",
       "    }\n",
       "</style>\n",
       "<table border=\"1\" class=\"dataframe\">\n",
       "  <thead>\n",
       "    <tr style=\"text-align: right;\">\n",
       "      <th></th>\n",
       "      <th>Make</th>\n",
       "      <th>Body Style</th>\n",
       "      <th>Color</th>\n",
       "      <th>Agency</th>\n",
       "      <th>Violation code</th>\n",
       "      <th>Violation Description</th>\n",
       "    </tr>\n",
       "  </thead>\n",
       "  <tbody>\n",
       "    <tr>\n",
       "      <th>0</th>\n",
       "      <td>OLDS</td>\n",
       "      <td>PA</td>\n",
       "      <td>GN</td>\n",
       "      <td>54.0</td>\n",
       "      <td>80.56E4+</td>\n",
       "      <td>RED ZONE</td>\n",
       "    </tr>\n",
       "    <tr>\n",
       "      <th>1</th>\n",
       "      <td>HOND</td>\n",
       "      <td>PA</td>\n",
       "      <td>WT</td>\n",
       "      <td>54.0</td>\n",
       "      <td>80.56E1</td>\n",
       "      <td>WHITE ZONE</td>\n",
       "    </tr>\n",
       "    <tr>\n",
       "      <th>2</th>\n",
       "      <td>TOYT</td>\n",
       "      <td>PA</td>\n",
       "      <td>SL</td>\n",
       "      <td>54.0</td>\n",
       "      <td>5204A-</td>\n",
       "      <td>DISPLAY OF TABS</td>\n",
       "    </tr>\n",
       "    <tr>\n",
       "      <th>3</th>\n",
       "      <td>RROV</td>\n",
       "      <td>PA</td>\n",
       "      <td>BK</td>\n",
       "      <td>54.0</td>\n",
       "      <td>88.13B+</td>\n",
       "      <td>METER EXP.</td>\n",
       "    </tr>\n",
       "    <tr>\n",
       "      <th>4</th>\n",
       "      <td>FORD</td>\n",
       "      <td>PA</td>\n",
       "      <td>GN</td>\n",
       "      <td>54.0</td>\n",
       "      <td>80.58L</td>\n",
       "      <td>PREFERENTIAL PARKING</td>\n",
       "    </tr>\n",
       "  </tbody>\n",
       "</table>\n",
       "</div>"
      ],
      "text/plain": [
       "   Make Body Style Color  Agency Violation code Violation Description\n",
       "0  OLDS         PA    GN    54.0       80.56E4+              RED ZONE\n",
       "1  HOND         PA    WT    54.0        80.56E1            WHITE ZONE\n",
       "2  TOYT         PA    SL    54.0         5204A-       DISPLAY OF TABS\n",
       "3  RROV         PA    BK    54.0        88.13B+            METER EXP.\n",
       "4  FORD         PA    GN    54.0         80.58L  PREFERENTIAL PARKING"
      ]
     },
     "execution_count": 4,
     "metadata": {},
     "output_type": "execute_result"
    }
   ],
   "source": [
    "# remove unnecessary columns\n",
    "PC_df = PC_df.drop(['Ticket number', 'Issue Date', 'Issue time', 'Meter Id', 'Marked Time', 'RP State Plate', 'Plate Expiry Date', 'VIN', 'Location', 'Route', 'Fine amount', 'Latitude', 'Longitude'], axis=1)\n",
    "\n",
    "#drop rows with nan\n",
    "PC_df = PC_df.dropna(axis=0)\n",
    "\n",
    "PC_df.head()\n"
   ]
  },
  {
   "cell_type": "markdown",
   "metadata": {},
   "source": [
    "**We will then extract all the unique agencies in PC_df and count them.**"
   ]
  },
  {
   "cell_type": "code",
   "execution_count": 10,
   "metadata": {
    "colab": {
     "base_uri": "https://localhost:8080/",
     "height": 456
    },
    "colab_type": "code",
    "id": "nZyYsDZBzrNE",
    "outputId": "77cbd2be-0548-4f0d-b6e8-7f4d99af2340",
    "scrolled": true
   },
   "outputs": [
    {
     "name": "stdout",
     "output_type": "stream",
     "text": [
      "We are looking at citations from  44  different agencies in LA.\n"
     ]
    }
   ],
   "source": [
    "# find \n",
    "\n",
    "unique_agency_count = PC_df['Agency'].unique()\n",
    "agency_count = unique_agency_count.size\n",
    "\n",
    "print(\"We are looking at citations from \", agency_count,\n",
    "      \" different agencies in LA.\")\n",
    "\n",
    "#agency_01 = PC_df[PC_df['Agency'] == 1.0]\n",
    "#agency_02 = PC_df[PC_df['Agency'] == 2.0]\n",
    "#agency_03 = PC_df[PC_df['Agency'] == 3.0]\n",
    "#agency_04 = PC_df[PC_df['Agency'] == 4.0]\n",
    "#agency_05 = PC_df[PC_df['Agency'] == 5.0]\n",
    "#agency_06 = PC_df[PC_df['Agency'] == 6.0]\n",
    "#agency_07 = PC_df[PC_df['Agency'] == 7.0]\n",
    "#agency_08 = PC_df[PC_df['Agency'] == 8.0]\n",
    "#agency_09 = PC_df[PC_df['Agency'] == 9.0]\n",
    "#agency_10 = PC_df[PC_df['Agency'] == 10.0]\n"
   ]
  },
  {
   "cell_type": "markdown",
   "metadata": {
    "colab_type": "text",
    "id": "MMpjkdjQ2JvJ"
   },
   "source": [
    "GY = grey | GR = gray\n",
    "WH = white | WT = white\n",
    "BK = black\n",
    "BL = blue | BE = blue | CO = cobalt\n",
    "BR = brown\n",
    "SI = silver | SL = silver\n",
    "GO = gold\n",
    "\n",
    "RE = red | RD = red | BU = burgundy | BG = burgundy | MA = magenta\n",
    "MR = maroon\n",
    "\n",
    "TA = tan | TN = tan\n",
    "\n",
    "YE = yellow\n",
    "OR = orange | OT = orange\n",
    "BN = brown\n",
    "GN = green\n",
    "PK = pink | PI = pink \n",
    "TU = turqoise | TE = teal\n",
    "\n",
    "PL = purple | PE = purple\n",
    "PR = purple | PU = purple\n",
    "\n",
    "\n",
    "UN = UNKNOWN???\n",
    "RU = ???\n",
    "CR = ???\n",
    "SN = ???\n",
    "BZ = ???\n",
    "ME = ???\n",
    "CH = ???\n",
    "LI = ???\n",
    "MU = ???"
   ]
  },
  {
   "cell_type": "markdown",
   "metadata": {},
   "source": [
    "**Because various agencies may indicate vehicle color differently, we create a function called standardize_color to standardize the various colors into more general terms.**"
   ]
  },
  {
   "cell_type": "code",
   "execution_count": 11,
   "metadata": {
    "colab": {},
    "colab_type": "code",
    "id": "jnAaoE-n8dW0"
   },
   "outputs": [],
   "source": [
    "#standardize colors function\n",
    "def standardize_color(string):\n",
    "    \n",
    "    if \"GY\" in string:\n",
    "        output = \"GRAY\"\n",
    "    elif \"GR\" in string:\n",
    "        output = \"GRAY\"\n",
    "    elif \"WH\" in string:\n",
    "        output = \"WHITE\"\n",
    "    elif \"WT\" in string:\n",
    "        output = \"WHITE\"\n",
    "    elif \"BK\" in string:\n",
    "        output = \"BLACK\"\n",
    "    elif \"BL\" in string:\n",
    "        output = \"BLUE\"\n",
    "    elif \"BE\" in string:\n",
    "        output = \"BLUE\"\n",
    "    elif \"CO\" in string:\n",
    "        output = \"BLUE\"\n",
    "    elif \"BR\" in string:\n",
    "        output = \"BROWN\"\n",
    "    elif \"SI\" in string:\n",
    "        output = \"SILVER\"\n",
    "    elif \"SL\" in string:\n",
    "        output = \"SILVER\"\n",
    "    elif \"GO\" in string:\n",
    "        output = \"GOLD\"\n",
    "    elif \"RE\" in string:\n",
    "        output = \"RED\"\n",
    "    elif \"RD\" in string:\n",
    "        output = \"RED\"\n",
    "    elif \"BU\" in string:\n",
    "        output = \"RED\"\n",
    "    elif \"BG\" in string:\n",
    "        output = \"RED\"\n",
    "    elif \"ME\" in string:\n",
    "        output = \"RED\"\n",
    "    elif \"MR\" in string:\n",
    "        output = \"RED\"\n",
    "    elif \"MA\" in string:\n",
    "        output = \"RED\"\n",
    "    elif \"TA\" in string:\n",
    "        output = \"TAN\"\n",
    "    elif \"TN\" in string:\n",
    "        output = \"TAN\"\n",
    "    elif \"YE\" in string:\n",
    "        output = \"YELLOW\"\n",
    "    elif \"RD\" in string:\n",
    "        output = \"RED\"\n",
    "    elif \"OR\" in string:\n",
    "        output = \"ORANGE\"\n",
    "    elif \"OT\" in string:\n",
    "        output = \"ORANGE\"\n",
    "    elif \"BN\" in string:\n",
    "        output = \"BROWN\"\n",
    "    elif \"GN\" in string:\n",
    "        output = \"GREEN\"\n",
    "    elif \"PR\" in string:\n",
    "        output = \"PURPLE\"\n",
    "    elif \"PU\" in string:\n",
    "        output = \"PURPLE\"\n",
    "    elif \"PL\" in string:\n",
    "        output = \"PURPLE\"\n",
    "    elif \"PE\" in string:\n",
    "        output = \"PURPLE\"\n",
    "    elif \"TU\" in string:\n",
    "        output = \"BLUE\"\n",
    "    elif \"TE\" in string:\n",
    "        output = \"BLUE\"\n",
    "    elif \"TE\" in string:\n",
    "        output = \"BLUE\"\n",
    "    elif \"TE\" in string:\n",
    "        output = \"BLUE\"\n",
    "    elif \"GL\" in string:\n",
    "        output = \"GOLD\"\n",
    "    elif \"YL\" in string:\n",
    "        output = \"YELLOW\"\n",
    "    elif \"MU\" in string:\n",
    "        output = \"YELLOW\"\n",
    "    elif \"AQ\" in string:\n",
    "        output = \"BLUE\"\n",
    "    elif \"W\" in string:\n",
    "        output = \"WHITE\"\n",
    "    elif \"SA\" in string:\n",
    "        output = \"TAN\"\n",
    "    elif \"WI\" in string:\n",
    "        output = \"WHITE\"\n",
    "    elif \"TE\" in string:\n",
    "        output = \"BLUE\"\n",
    "    #otherwise, keep as is\n",
    "    else:\n",
    "        output = \"OTHER\"\n",
    "    \n",
    "    return output"
   ]
  },
  {
   "cell_type": "markdown",
   "metadata": {},
   "source": [
    "**We then apply standardize_color to our dataframe, PC_df, and verify that all the colors indicated have transformed.**"
   ]
  },
  {
   "cell_type": "code",
   "execution_count": 12,
   "metadata": {},
   "outputs": [
    {
     "data": {
      "text/html": [
       "<div>\n",
       "<style scoped>\n",
       "    .dataframe tbody tr th:only-of-type {\n",
       "        vertical-align: middle;\n",
       "    }\n",
       "\n",
       "    .dataframe tbody tr th {\n",
       "        vertical-align: top;\n",
       "    }\n",
       "\n",
       "    .dataframe thead th {\n",
       "        text-align: right;\n",
       "    }\n",
       "</style>\n",
       "<table border=\"1\" class=\"dataframe\">\n",
       "  <thead>\n",
       "    <tr style=\"text-align: right;\">\n",
       "      <th></th>\n",
       "      <th>Make</th>\n",
       "      <th>Body Style</th>\n",
       "      <th>Color</th>\n",
       "      <th>Agency</th>\n",
       "      <th>Violation code</th>\n",
       "      <th>Violation Description</th>\n",
       "    </tr>\n",
       "  </thead>\n",
       "  <tbody>\n",
       "    <tr>\n",
       "      <th>0</th>\n",
       "      <td>OLDS</td>\n",
       "      <td>PA</td>\n",
       "      <td>GRAY</td>\n",
       "      <td>54.0</td>\n",
       "      <td>80.56E4+</td>\n",
       "      <td>RED ZONE</td>\n",
       "    </tr>\n",
       "    <tr>\n",
       "      <th>1</th>\n",
       "      <td>HOND</td>\n",
       "      <td>PA</td>\n",
       "      <td>WHITE</td>\n",
       "      <td>54.0</td>\n",
       "      <td>80.56E1</td>\n",
       "      <td>WHITE ZONE</td>\n",
       "    </tr>\n",
       "    <tr>\n",
       "      <th>2</th>\n",
       "      <td>TOYT</td>\n",
       "      <td>PA</td>\n",
       "      <td>SILVER</td>\n",
       "      <td>54.0</td>\n",
       "      <td>5204A-</td>\n",
       "      <td>DISPLAY OF TABS</td>\n",
       "    </tr>\n",
       "    <tr>\n",
       "      <th>3</th>\n",
       "      <td>RROV</td>\n",
       "      <td>PA</td>\n",
       "      <td>BLUE</td>\n",
       "      <td>54.0</td>\n",
       "      <td>88.13B+</td>\n",
       "      <td>METER EXP.</td>\n",
       "    </tr>\n",
       "    <tr>\n",
       "      <th>4</th>\n",
       "      <td>FORD</td>\n",
       "      <td>PA</td>\n",
       "      <td>GRAY</td>\n",
       "      <td>54.0</td>\n",
       "      <td>80.58L</td>\n",
       "      <td>PREFERENTIAL PARKING</td>\n",
       "    </tr>\n",
       "  </tbody>\n",
       "</table>\n",
       "</div>"
      ],
      "text/plain": [
       "   Make Body Style   Color  Agency Violation code Violation Description\n",
       "0  OLDS         PA    GRAY    54.0       80.56E4+              RED ZONE\n",
       "1  HOND         PA   WHITE    54.0        80.56E1            WHITE ZONE\n",
       "2  TOYT         PA  SILVER    54.0         5204A-       DISPLAY OF TABS\n",
       "3  RROV         PA    BLUE    54.0        88.13B+            METER EXP.\n",
       "4  FORD         PA    GRAY    54.0         80.58L  PREFERENTIAL PARKING"
      ]
     },
     "execution_count": 12,
     "metadata": {},
     "output_type": "execute_result"
    }
   ],
   "source": [
    "# apply standardize_color function\n",
    "PC_df['Color'] = PC_df['Color'].apply(standardize_color)\n",
    "PC_df.head()"
   ]
  },
  {
   "cell_type": "markdown",
   "metadata": {},
   "source": [
    "**To visualize what we are working with so far, we count the number of values per color and place it on a bar and pie graph.**"
   ]
  },
  {
   "cell_type": "code",
   "execution_count": 13,
   "metadata": {},
   "outputs": [
    {
     "name": "stdout",
     "output_type": "stream",
     "text": [
      "BLUE      2584835\n",
      "GRAY      1974080\n",
      "WHITE     1922439\n",
      "SILVER    1155653\n",
      "RED        631179\n",
      "BROWN      179378\n",
      "GOLD       115200\n",
      "ORANGE      89710\n",
      "TAN         73429\n",
      "YELLOW      35544\n",
      "PURPLE      16929\n",
      "Name: Color, dtype: int64\n"
     ]
    },
    {
     "data": {
      "text/plain": [
       "<matplotlib.axes._subplots.AxesSubplot at 0x1c17641320>"
      ]
     },
     "execution_count": 13,
     "metadata": {},
     "output_type": "execute_result"
    },
    {
     "data": {
      "image/png": "[encoded data removed]",
      "text/plain": [
       "<Figure size 432x288 with 1 Axes>"
      ]
     },
     "metadata": {
      "needs_background": "light"
     },
     "output_type": "display_data"
    }
   ],
   "source": [
    "color = PC_df['Color']\n",
    "color_count = color.value_counts()\n",
    "\n",
    "print(color_count)\n",
    "\n",
    "color_count.plot(kind='bar')"
   ]
  },
  {
   "cell_type": "code",
   "execution_count": 9,
   "metadata": {},
   "outputs": [
    {
     "data": {
      "text/plain": [
       "<matplotlib.legend.Legend at 0x1c1738b7b8>"
      ]
     },
     "execution_count": 9,
     "metadata": {},
     "output_type": "execute_result"
    },
    {
     "data": {
      "image/png": "[encoded data removed]",
      "text/plain": [
       "<Figure size 432x288 with 1 Axes>"
      ]
     },
     "metadata": {},
     "output_type": "display_data"
    }
   ],
   "source": [
    "color_count[:13].plot.pie(shadow=True, startangle=0, radius=2.5, autopct='%1.1f%%')\n",
    "\n",
    "plt.title('Vehicle Colors from Parking Citations')\n",
    "labels = 'White', 'Black', 'Gray', 'Silver', 'Blue', 'Red', 'Green', 'Brown', 'Gold', 'Orange', 'Tan', 'Yellow', 'Purple', 'Other'\n",
    "plt.legend(labels,loc=3)\n",
    "\n"
   ]
  },
  {
   "cell_type": "code",
   "execution_count": null,
   "metadata": {},
   "outputs": [],
   "source": []
  },
  {
   "cell_type": "markdown",
   "metadata": {
    "colab_type": "text",
    "id": "G3257UGjp-sB"
   },
   "source": [
    "# Data Visualization\n",
    "\n",
    "## Ideas\n",
    "\n",
    "> ### Graphs:\n",
    "\n",
    "> Color vs. # of tix\n",
    "\n",
    "> Model vs. # of tix\n",
    "\n",
    "> Color + model vs. # of tix\n",
    "\n",
    "> Color vs. type of tix\n",
    "\n",
    ">Model vs. type of tix\n",
    "\n",
    ">Color + model vs. type of tix\n",
    "\n",
    "\n",
    "\n",
    "\n"
   ]
  },
  {
   "cell_type": "markdown",
   "metadata": {
    "colab_type": "text",
    "id": "E8SoDWNnqBy_"
   },
   "source": [
    "# Data Analysis and Results"
   ]
  },
  {
   "cell_type": "markdown",
   "metadata": {
    "colab_type": "text",
    "id": "wTOU4NKlqFwq"
   },
   "source": [
    "# Privacy/Ethics Considerations"
   ]
  },
  {
   "cell_type": "markdown",
   "metadata": {
    "colab_type": "text",
    "id": "9ZTV84GV9HQ1"
   },
   "source": [
    "The data was posted on Kaggle’s data set page but the information is released to the public via DataLA, a public site maintained by the Los Angeles government. We have permission to use this data under the Open Database License. There are no privacy concerns in regard to the data. This data set is potentially biased in terms of who it composes for two reasons. The first is regional factors. For example if parking officials stay in a neighborhood where the parking restrictions are stricter then we would expect the models of the cars in that neighborhood to be over represented in the data set. The second reason is that some violations may be more for lower income individuals. For example we would expect lower income individuals to receive more expired registration violations because of their inability to afford registration. If we identify any of these issues, we can modify our research topic so that it does not include biased data. For example we will not analyze expired registration violations if we identify that the data is heavily skewed towards lower income models.\n",
    "\n",
    "In addition, our dataset was already efficient in not including much personal identifiers of the individuals whose vehicles have received citations. We practiced the Safe Harbor method, in which we removed the VIN column from our dataset to further improve its anonymization. Thus, our project considerably respects the privacy of the individuals whose vehicles received citations as we have altered the dataset to focus solely on the vehicles."
   ]
  },
  {
   "cell_type": "markdown",
   "metadata": {
    "colab_type": "text",
    "id": "8Kf9pL6HqL7b"
   },
   "source": [
    "# Conclusion and Discussion"
   ]
  }
 ],
 "metadata": {
  "colab": {
   "collapsed_sections": [],
   "include_colab_link": true,
   "name": "FinalProject.ipynb",
   "provenance": [],
   "version": "0.3.2"
  },
  "kernelspec": {
   "display_name": "Python 3",
   "language": "python",
   "name": "python3"
  },
  "language_info": {
   "codemirror_mode": {
    "name": "ipython",
    "version": 3
   },
   "file_extension": ".py",
   "mimetype": "text/x-python",
   "name": "python",
   "nbconvert_exporter": "python",
   "pygments_lexer": "ipython3",
   "version": "3.7.1"
  }
 },
 "nbformat": 4,
 "nbformat_minor": 1
}
